{
  "nbformat": 4,
  "nbformat_minor": 0,
  "metadata": {
    "colab": {
      "provenance": [],
      "authorship_tag": "ABX9TyMPj2gFMbpU3FX33JluXWYu",
      "include_colab_link": true
    },
    "kernelspec": {
      "name": "python3",
      "display_name": "Python 3"
    },
    "language_info": {
      "name": "python"
    }
  },
  "cells": [
    {
      "cell_type": "markdown",
      "metadata": {
        "id": "view-in-github",
        "colab_type": "text"
      },
      "source": [
        "<a href=\"https://colab.research.google.com/github/kayamui/istanbul_analysis/blob/main/statistics_secondary_transports_original_file_workout.ipynb\" target=\"_parent\"><img src=\"https://colab.research.google.com/assets/colab-badge.svg\" alt=\"Open In Colab\"/></a>"
      ]
    },
    {
      "cell_type": "code",
      "execution_count": null,
      "metadata": {
        "id": "lpVbnuAMWoe-"
      },
      "outputs": [],
      "source": [
        "import pandas as pd\n",
        "import numpy as np\n",
        "import os\n",
        "import datetime as dt"
      ]
    },
    {
      "cell_type": "code",
      "source": [
        "current_dir= os.getcwd() + '\\\\Downloads\\\\mukerrer\\\\'"
      ],
      "metadata": {
        "id": "irG0yt9VqtlR"
      },
      "execution_count": null,
      "outputs": []
    },
    {
      "cell_type": "code",
      "source": [
        "os.listdir(current_dir)"
      ],
      "metadata": {
        "id": "pHrMNiliqtnU"
      },
      "execution_count": null,
      "outputs": []
    },
    {
      "cell_type": "code",
      "source": [
        "dataframes_13_excel= pd.ExcelFile('C:/Users/mkaya/Downloads/13 - OCAK 2025 MÜKERRER DEFERİ HASTANE ORANI.xlsx')\n",
        "dataframes_13= {sheet_name: dataframes_13_excel.parse(sheet_name) for sheet_name in dataframes_13_excel.sheet_names}\n",
        "dataframes_13.keys()"
      ],
      "metadata": {
        "id": "mktO8HMp-EcA"
      },
      "execution_count": null,
      "outputs": []
    },
    {
      "cell_type": "code",
      "source": [
        "count= 1\n",
        "for file in os.listdir(current_dir):\n",
        "  temp_excel= pd.ExcelFile(current_dir+file)\n",
        "  exec(f'dataframes_{count} = {{sheet_name: temp_excel.parse(sheet_name) for sheet_name in temp_excel.sheet_names}}')\n",
        "  print(f'{count}:' ,eval(f'dataframes_{count}').keys() )\n",
        "  count+=1"
      ],
      "metadata": {
        "id": "K4LVaKbvqtpW"
      },
      "execution_count": null,
      "outputs": []
    },
    {
      "cell_type": "code",
      "source": [
        "dataframes_13['mükerrer']= pd.concat([dataframes_13['4614 EŞLEŞEN EVE NAKİLSİZ'], dataframes_13['EVE NAKİL 84 ']])"
      ],
      "metadata": {
        "id": "qKUx6be7C4Lu"
      },
      "execution_count": null,
      "outputs": []
    },
    {
      "cell_type": "code",
      "source": [],
      "metadata": {
        "id": "j_Of4UkDEHKJ"
      },
      "execution_count": null,
      "outputs": []
    },
    {
      "cell_type": "code",
      "source": [
        "df_all_internal_transports= pd.concat([ dataframes_1['EŞLEŞEN - 5238'], dataframes_2['EŞLEŞEN-4680'], dataframes_3['EŞLEŞEN 4610'], dataframes_4['4566 eşleşen'], dataframes_5['EŞLEŞEN 4862'], dataframes_6['EŞLEŞME-5144'], dataframes_7['EŞLEŞEN 4886'], dataframes_8['MAYIS MÜK 4800'], dataframes_9['EŞLEŞEN-4786'], dataframes_10['4974 MÜKERRER'], dataframes_11['4588 EŞLEŞN SAYI'], dataframes_12['EŞLEŞEN-4196'], dataframes_13['mükerrer']])"
      ],
      "metadata": {
        "id": "ykSguBhwrTjP"
      },
      "execution_count": null,
      "outputs": []
    },
    {
      "cell_type": "code",
      "source": [
        "print(sorted([col for col in df_all_internal_transports.columns]))"
      ],
      "metadata": {
        "id": "WOeylepirTlj"
      },
      "execution_count": null,
      "outputs": []
    },
    {
      "cell_type": "code",
      "source": [
        "[col for col in df_all_internal_transports.columns if 'Düzen' in col]"
      ],
      "metadata": {
        "id": "6NGKhHCArTnu"
      },
      "execution_count": null,
      "outputs": []
    },
    {
      "cell_type": "code",
      "source": [
        "[col for col in df_all_internal_transports.columns if 'Ekip' in col]"
      ],
      "metadata": {
        "id": "HiF83HnGyK50"
      },
      "execution_count": null,
      "outputs": []
    },
    {
      "cell_type": "code",
      "source": [
        "'Oluşturma Tarihi'\n",
        "'Şef Tarihi'\n",
        "'Şef İsmi'\n",
        "'Nakil Talep Eden Başkanlık'\n",
        "'Düzenlenmiş Kabul Eden Başkanlık'\n",
        "'Ekip Türü'\n",
        "'Covid19 Durumu(Riskli/Risksiz)'"
      ],
      "metadata": {
        "id": "FVcnYwdsyv8h"
      },
      "execution_count": null,
      "outputs": []
    },
    {
      "cell_type": "code",
      "source": [],
      "metadata": {
        "id": "0WQB5sjUywBf"
      },
      "execution_count": null,
      "outputs": []
    },
    {
      "cell_type": "code",
      "source": [],
      "metadata": {
        "id": "IhtdEybBywDx"
      },
      "execution_count": null,
      "outputs": []
    },
    {
      "cell_type": "code",
      "source": [],
      "metadata": {
        "id": "b3uSMs4syjyz"
      },
      "execution_count": null,
      "outputs": []
    },
    {
      "cell_type": "code",
      "source": [
        "df_all_internal_transports['Taşıyan Ekip / Veriliş Saati']"
      ],
      "metadata": {
        "id": "jpPcX9FcyeFg"
      },
      "execution_count": null,
      "outputs": []
    },
    {
      "cell_type": "code",
      "source": [
        "df_all_internal_transports['Ekip Türü'].unique()"
      ],
      "metadata": {
        "id": "Vwn5gKBpyXsK"
      },
      "execution_count": null,
      "outputs": []
    },
    {
      "cell_type": "code",
      "source": [],
      "metadata": {
        "id": "hAQfjKLwyXuW"
      },
      "execution_count": null,
      "outputs": []
    },
    {
      "cell_type": "code",
      "source": [],
      "metadata": {
        "id": "x6VUxPyoyXwu"
      },
      "execution_count": null,
      "outputs": []
    },
    {
      "cell_type": "code",
      "source": [
        "#internal_transports_excel= pd.ExcelFile('C:/Users/mkaya/Downloads/1 - OCAK 2025 MÜKERRER DEFERİ HASTANE ORANI.xlsx')"
      ],
      "metadata": {
        "id": "7ltBEg4kYsYF"
      },
      "execution_count": null,
      "outputs": []
    },
    {
      "cell_type": "code",
      "source": [
        "#dataframes_internal_transports = {sheet_name: internal_transports_excel.parse(sheet_name) for sheet_name in internal_transports_excel.sheet_names}"
      ],
      "metadata": {
        "id": "XOZ_B97IZQCu"
      },
      "execution_count": null,
      "outputs": []
    },
    {
      "cell_type": "code",
      "source": [],
      "metadata": {
        "id": "sBu8B64FqqPw"
      },
      "execution_count": null,
      "outputs": []
    },
    {
      "cell_type": "code",
      "source": [],
      "metadata": {
        "id": "QFsNzKndqqSD"
      },
      "execution_count": null,
      "outputs": []
    },
    {
      "cell_type": "code",
      "source": [],
      "metadata": {
        "id": "WNZdA2HSqqUS"
      },
      "execution_count": null,
      "outputs": []
    },
    {
      "cell_type": "code",
      "source": [
        "#dataframes_internal_transports.keys()"
      ],
      "metadata": {
        "id": "ag6VZte6ZQE7"
      },
      "execution_count": null,
      "outputs": []
    },
    {
      "cell_type": "code",
      "source": [
        "#df_all_internal_transports= dataframes_internal_transports['MÜKERRER DEFTER 70058'].copy()"
      ],
      "metadata": {
        "id": "X0fzsXN1Y-a1"
      },
      "execution_count": null,
      "outputs": []
    },
    {
      "cell_type": "code",
      "source": [
        "df_placed= df_all_internal_transports[df_all_internal_transports['Durum'] == 'Yer Ayarlandı'].copy()"
      ],
      "metadata": {
        "id": "Snt7PxIIZJEY"
      },
      "execution_count": null,
      "outputs": []
    },
    {
      "cell_type": "code",
      "source": [
        "print([col for col in df_placed.columns])"
      ],
      "metadata": {
        "id": "r5V3EWtVZf9w"
      },
      "execution_count": null,
      "outputs": []
    },
    {
      "cell_type": "code",
      "source": [
        "print(sorted([col for col in df_all_internal_transports.columns if 'Düzenlenmiş' in col]))"
      ],
      "metadata": {
        "id": "j83pBiSMZ327"
      },
      "execution_count": null,
      "outputs": []
    },
    {
      "cell_type": "code",
      "source": [
        "df_all_internal_transports['Nakil Talep Eden BAŞKANLIK'].unique()"
      ],
      "metadata": {
        "id": "l_p-jmE87GwQ"
      },
      "execution_count": null,
      "outputs": []
    },
    {
      "cell_type": "code",
      "source": [
        "df_all_internal_transports['Nakil Talep Eden Başkanlık'].fillna(df_all_internal_transports['Nakil Talep Eden BAŞKANLIK'], inplace=True)\n",
        "df_all_internal_transports['Nakil Talep Eden BAŞKANLIK'].fillna(df_all_internal_transports['Nakil Talep Eden Başkanlık'], inplace=True)"
      ],
      "metadata": {
        "id": "HxObSJ2v7tl-"
      },
      "execution_count": null,
      "outputs": []
    },
    {
      "cell_type": "code",
      "source": [
        "df_all_internal_transports.drop(columns=['Nakil Talep Eden BAŞKANLIK'], inplace=True)"
      ],
      "metadata": {
        "id": "eBKd1xtJ690L"
      },
      "execution_count": null,
      "outputs": []
    },
    {
      "cell_type": "code",
      "source": [
        "df_all_internal_transports['Kabul Eden Hastane Başkanlık'].unique()"
      ],
      "metadata": {
        "id": "61qS0y858SWw"
      },
      "execution_count": null,
      "outputs": []
    },
    {
      "cell_type": "code",
      "source": [],
      "metadata": {
        "id": "ugjuDiT58SZE"
      },
      "execution_count": null,
      "outputs": []
    },
    {
      "cell_type": "code",
      "source": [],
      "metadata": {
        "id": "iB9MxSK68SbP"
      },
      "execution_count": null,
      "outputs": []
    },
    {
      "cell_type": "code",
      "source": [
        "clinic_keyword = {}     # Kabul Eden Klinik : Düzenlenmiş Kabul Eden Klinik\n",
        "hospital_keyword = {}   # Nakil Talep Eden Hastane : Düzenlenmiş Nakil Talep Eden Hastane , Kabul Eden Hastane : Düzenlenmiş Kabul Eden Hastane\n",
        "presidency_keyword= {}  # Düzenlenmiş Nakil Talep Eden Hastane : Nakil Talep Eden Başkanlık , Düzenlenmiş Kabul Eden Hastane : Kabul Eden Hastane Başkanlık"
      ],
      "metadata": {
        "id": "Q0y6Kfi_jUeE"
      },
      "execution_count": null,
      "outputs": []
    },
    {
      "cell_type": "code",
      "source": [
        "df_all_internal_transports['count']= 1"
      ],
      "metadata": {
        "id": "xYdPdW-uLFHW"
      },
      "execution_count": null,
      "outputs": []
    },
    {
      "cell_type": "code",
      "source": [
        "duzenlenmis_kabul_klinik= df_all_internal_transports.groupby(['Kabul Eden Klinik', 'Düzenlenmiş Kabul Eden Klinik']).agg({'count':'sum'}).reset_index().sort_values(by='count', ascending=False)\n",
        "duzenlenmis_nakil_talep_eden_hastane= df_all_internal_transports.groupby(['Nakil Talep Eden Hastane', 'Düzenlenmiş Nakil Talep Eden Hastane']).agg({'count':'sum'}).reset_index().sort_values(by='count', ascending=False)\n",
        "duzenlenmis_kabul_eden_hastane= df_all_internal_transports.groupby(['Kabul Eden Hastane', 'Düzenlenmş Kabul Eden Hastane']).agg({'count':'sum'}).reset_index().sort_values(by='count', ascending=False)\n",
        "nakil_talep_eden_baskanlik= df_all_internal_transports.groupby(['Nakil Talep Eden Başkanlık', 'Düzenlenmiş Nakil Talep Eden Hastane']).agg({'count':'sum'}).reset_index().sort_values(by='count', ascending=False)\n",
        "kabul_eden_baskanlik= df_all_internal_transports.groupby(['Kabul Eden Hastane Başkanlık', 'Düzenlenmş Kabul Eden Hastane']).agg({'count':'sum'}).reset_index().sort_values(by='count', ascending=False)"
      ],
      "metadata": {
        "id": "X1bmSJ2s63Pq"
      },
      "execution_count": null,
      "outputs": []
    },
    {
      "source": [
        "duzenlenmis_kabul_eden_hastane.drop_duplicates(subset=['Kabul Eden Hastane'], keep='first', inplace=True)\n",
        "duzenlenmis_nakil_talep_eden_hastane.drop_duplicates(subset=['Nakil Talep Eden Hastane'], keep='first', inplace=True)\n",
        "duzenlenmis_kabul_eden_hastane.drop_duplicates(subset=['Kabul Eden Hastane'], keep='first', inplace=True)"
      ],
      "cell_type": "code",
      "metadata": {
        "id": "cc33rwitOj6f"
      },
      "execution_count": null,
      "outputs": []
    },
    {
      "cell_type": "code",
      "source": [
        "nakil_talep_eden_baskanlik= nakil_talep_eden_baskanlik[nakil_talep_eden_baskanlik['Nakil Talep Eden Başkanlık'].isin(['1.BAŞKANLIK', '2.BAŞKANLIK', '3.BAŞKANLIK', '4.BAŞKANLIK', '5.BAŞKANLIK', '6.BAŞKANLIK', 'BAĞLI OLDUĞU BAŞKANLIK BULUNMAYAN'])]\n",
        "kabul_eden_baskanlik= kabul_eden_baskanlik[kabul_eden_baskanlik['Kabul Eden Hastane Başkanlık'].isin(['1.BAŞKANLIK', '2.BAŞKANLIK', '3.BAŞKANLIK', '4.BAŞKANLIK', '5.BAŞKANLIK', '6.BAŞKANLIK', 'BAĞLI OLDUĞU BAŞKANLIK BULUNMAYAN'])]"
      ],
      "metadata": {
        "id": "rJXlDP05PE3G"
      },
      "execution_count": null,
      "outputs": []
    },
    {
      "cell_type": "code",
      "source": [
        "nakil_talep_eden_baskanlik.drop_duplicates(subset= ['Düzenlenmiş Nakil Talep Eden Hastane'], keep='first', inplace=True)\n",
        "kabul_eden_baskanlik.drop_duplicates(subset= ['Düzenlenmş Kabul Eden Hastane'], keep='first', inplace=True)"
      ],
      "metadata": {
        "id": "GoUFqwMjS3Hr"
      },
      "execution_count": null,
      "outputs": []
    },
    {
      "cell_type": "code",
      "source": [],
      "metadata": {
        "id": "QHPZT7A1MZAn"
      },
      "execution_count": null,
      "outputs": []
    },
    {
      "cell_type": "code",
      "source": [],
      "metadata": {
        "id": "hKtdaiEmMZDG"
      },
      "execution_count": null,
      "outputs": []
    },
    {
      "cell_type": "code",
      "source": [],
      "metadata": {
        "id": "pLjLsV5DMZFm"
      },
      "execution_count": null,
      "outputs": []
    },
    {
      "cell_type": "code",
      "source": [],
      "metadata": {
        "id": "jjzv1ZW2MZIM"
      },
      "execution_count": null,
      "outputs": []
    },
    {
      "cell_type": "code",
      "source": [
        "for i in range(len(duzenlenmis_kabul_klinik)):\n",
        "  clinic= duzenlenmis_kabul_klinik.iloc[i]['Kabul Eden Klinik']\n",
        "  corrected_clinic= duzenlenmis_kabul_klinik.iloc[i]['Düzenlenmiş Kabul Eden Klinik']\n",
        "  if clinic not in clinic_keyword.keys():\n",
        "    clinic_keyword[clinic]= corrected_clinic\n",
        "for i in range(len(duzenlenmis_nakil_talep_eden_hastane)):\n",
        "  hospital= duzenlenmis_nakil_talep_eden_hastane.iloc[i]['Nakil Talep Eden Hastane']\n",
        "  corrected_hospital= duzenlenmis_nakil_talep_eden_hastane.iloc[i]['Düzenlenmiş Nakil Talep Eden Hastane']\n",
        "  if hospital not in hospital_keyword.keys():\n",
        "    hospital_keyword[hospital]= corrected_hospital\n",
        "for i in range(len(duzenlenmis_kabul_eden_hastane)):\n",
        "  hospital_2= duzenlenmis_kabul_eden_hastane.iloc[i]['Kabul Eden Hastane']\n",
        "  corrected_hospital_2= duzenlenmis_kabul_eden_hastane.iloc[i]['Düzenlenmş Kabul Eden Hastane']\n",
        "  if hospital_2 not in hospital_keyword.keys():\n",
        "    hospital_keyword[hospital_2]= corrected_hospital\n",
        "for i in range(len(nakil_talep_eden_baskanlik)):\n",
        "  presidency_1= nakil_talep_eden_baskanlik.iloc[i]['Nakil Talep Eden Başkanlık']\n",
        "  hospital_1= nakil_talep_eden_baskanlik.iloc[i]['Düzenlenmiş Nakil Talep Eden Hastane']\n",
        "  if presidency_1 not in presidency_keyword.keys():\n",
        "    presidency_keyword[hospital_1]= presidency_1\n",
        "for i in range(len(kabul_eden_baskanlik)):\n",
        "  presidency_2= kabul_eden_baskanlik.iloc[i]['Kabul Eden Hastane Başkanlık']\n",
        "  hospital_2= kabul_eden_baskanlik.iloc[i]['Düzenlenmş Kabul Eden Hastane']\n",
        "  if presidency_2 not in presidency_keyword.keys():\n",
        "    presidency_keyword[hospital_2]=  presidency_2"
      ],
      "metadata": {
        "id": "GMZPnMavMN7c"
      },
      "execution_count": null,
      "outputs": []
    },
    {
      "cell_type": "code",
      "source": [
        "presidency_keyword"
      ],
      "metadata": {
        "id": "pCc9em1nNFdg"
      },
      "execution_count": null,
      "outputs": []
    },
    {
      "cell_type": "code",
      "source": [],
      "metadata": {
        "id": "F5dbeU9qNFf6"
      },
      "execution_count": null,
      "outputs": []
    },
    {
      "cell_type": "code",
      "source": [],
      "metadata": {
        "id": "1Y3frMs-NFiI"
      },
      "execution_count": null,
      "outputs": []
    },
    {
      "cell_type": "code",
      "source": [
        "\"\"\"for i in range(len(df_all_internal_transports)):\n",
        "  clinic= df_all_internal_transports.iloc[i]['Kabul Eden Klinik']\n",
        "  corrected_clinic= df_all_internal_transports.iloc[i]['Düzenlenmiş Kabul Eden Klinik']\n",
        "  hospital= df_all_internal_transports.iloc[i]['Nakil Talep Eden Hastane']\n",
        "  corrected_hospital= df_all_internal_transports.iloc[i]['Düzenlenmiş Nakil Talep Eden Hastane']\n",
        "  hospital_2= df_all_internal_transports.iloc[i]['Kabul Eden Hastane']\n",
        "  corrected_hospital_2= df_all_internal_transports.iloc[i]['Düzenlenmş Kabul Eden Hastane']\n",
        "  presidency_1= df_all_internal_transports.iloc[i]['Nakil Talep Eden Başkanlık']\n",
        "  presidency_2= df_all_internal_transports.iloc[i]['Kabul Eden Hastane Başkanlık']\n",
        "  if clinic not in clinic_keyword.keys():\n",
        "    clinic_keyword[clinic]= corrected_clinic\n",
        "  if hospital not in hospital_keyword.keys():\n",
        "    hospital_keyword[hospital]= corrected_hospital\n",
        "  if hospital_2 not in hospital_keyword.keys():\n",
        "    hospital_keyword[hospital_2]= corrected_hospital_2\n",
        "  if presidency_1 not in presidency_keyword.keys():\n",
        "    presidency_keyword[corrected_hospital]= presidency_1\n",
        "  if presidency_2 not in presidency_keyword.keys():\n",
        "    presidency_keyword[corrected_hospital_2]=  presidency_2\"\"\""
      ],
      "metadata": {
        "id": "duhGt-mWjdt2"
      },
      "execution_count": null,
      "outputs": []
    },
    {
      "cell_type": "code",
      "source": [
        "len(clinic_keyword)"
      ],
      "metadata": {
        "id": "cRC5jwBQjdwR"
      },
      "execution_count": null,
      "outputs": []
    },
    {
      "cell_type": "code",
      "source": [
        "len(hospital_keyword)"
      ],
      "metadata": {
        "id": "7jDA6avOjdyj"
      },
      "execution_count": null,
      "outputs": []
    },
    {
      "cell_type": "code",
      "source": [
        "len(presidency_keyword)"
      ],
      "metadata": {
        "id": "GULHiYka9fa0"
      },
      "execution_count": null,
      "outputs": []
    },
    {
      "cell_type": "code",
      "source": [
        "duzenlenmis_nakil_talep_eden_hastane[duzenlenmis_nakil_talep_eden_hastane['Nakil Talep Eden Hastane'] == 'T.C. SAĞLIK BAKANLIĞI İSTANBUL FİZİK TEDAVİ VE REHABİLİTASYON EĞİTİM VE ARAŞTIRMA HASTANESİ']"
      ],
      "metadata": {
        "id": "5-D1oSUBTp7A"
      },
      "execution_count": null,
      "outputs": []
    },
    {
      "cell_type": "code",
      "source": [
        "duzenlenmis_nakil_talep_eden_hastane[duzenlenmis_nakil_talep_eden_hastane['Nakil Talep Eden Hastane'] == 'T.C. SAĞLIK BAKANLIĞI İSTANBUL FİZİK TEDAVİ VE REHABİLİTASYON EĞİTİM VE ARAŞTIRMA HASTANESİ']"
      ],
      "metadata": {
        "id": "LgIh1HbXfyHs"
      },
      "execution_count": null,
      "outputs": []
    },
    {
      "cell_type": "code",
      "source": [
        "for key, value in hospital_keyword.items():\n",
        "  if key != value:\n",
        "    if value != 'İL DIŞI':\n",
        "      print(key,':', value)"
      ],
      "metadata": {
        "id": "xls5QhQGjd05"
      },
      "execution_count": null,
      "outputs": []
    },
    {
      "cell_type": "code",
      "source": [
        "df_all_internal_transports[df_all_internal_transports['Kabul Eden Hastane'] == 'ÖZEL VEHBİ KOÇ VAKFI AMERİKAN HASTANESİ'][['Nakil Talep Eden Hastane' ,'Düzenlenmiş Nakil Talep Eden Hastane', 'Kabul Eden Hastane', 'Düzenlenmş Kabul Eden Hastane']]"
      ],
      "metadata": {
        "id": "cLb6rINqkeHB"
      },
      "execution_count": null,
      "outputs": []
    },
    {
      "cell_type": "code",
      "source": [
        "hospital_keyword['ÖZEL VEHBİ KOÇ VAKFI AMERİKAN HASTANESİ']"
      ],
      "metadata": {
        "id": "ChM317YpkeJw"
      },
      "execution_count": null,
      "outputs": []
    },
    {
      "cell_type": "code",
      "source": [],
      "metadata": {
        "id": "r7Vy78O_keOD"
      },
      "execution_count": null,
      "outputs": []
    },
    {
      "cell_type": "code",
      "source": [
        "\"\"\"clinic_keyword= dict(zip(df_all_internal_transports['Kabul Eden Klinik'].astype(str).str.strip(), df_all_internal_transports['Düzenlenmiş Kabul Eden Klinik'].astype(str).str.strip()))\n",
        "hospital_keyword= dict(zip(df_all_internal_transports['Nakil Talep Eden Hastane'].astype(str).str.strip(), df_all_internal_transports['Düzenlenmiş Nakil Talep Eden Hastane'].astype(str).str.strip()))\"\"\""
      ],
      "metadata": {
        "id": "rpfoHOvaiLV0"
      },
      "execution_count": null,
      "outputs": []
    },
    {
      "cell_type": "code",
      "source": [
        "print(clinic_keyword)"
      ],
      "metadata": {
        "id": "ZVOOwqaNiRpr"
      },
      "execution_count": null,
      "outputs": []
    },
    {
      "cell_type": "code",
      "source": [
        "# CLINIC KEYWORD\n",
        "\"\"\"\n",
        "{'GENEL YOĞUN BAKIM': 'GENEL YB', 'ACIL TIP': 'DİĞER', 'KORONER YOĞUN BAKIM': 'KORONER YB', 'HALK SAĞLIĞI': 'EVE NAKİL', 'KARDIYOLOJI': 'DİĞER', 'RUH SAĞLIĞI VE HASTALIKLARI': 'DİĞER', 'GÖĞÜS HASTALIKLARI': 'DİĞER', 'NÖROLOJI': 'DİĞER', 'GÖĞÜS CERRAHISI': 'DİĞER', 'ÇOCUK YOĞUN BAKIMI': 'ÇOCUK YB', 'RADYOLOJI': 'DİĞER', 'ÇOCUK ACIL': 'DİĞER', 'ORTOPEDI VE TRAVMATOLOJI': 'DİĞER', 'YENİDOĞAN YOĞUN BAKIM': 'YENİDOĞAN YB', 'KALP VE DAMAR CERRAHISI': 'DİĞER', 'BEYIN VE SINIR CERRAHISI': 'DİĞER', 'ÇOCUK CERRAHISI': 'DİĞER', 'PLASTIK, REKONSTRÜKTIF VE ESTETIK CERRAHI': 'DİĞER', 'ANESTEZİ VE REANİMASYON YOĞUN BAKIM': 'GENEL YB', 'GENEL CERRAHI': 'DİĞER', 'KULAK BURUN BOĞAZ HASTALIKLARI': 'DİĞER', 'KADIN HASTALIKLARI VE DOĞUM': 'DİĞER', 'İÇ HASTALIKLARI': 'DİĞER', 'ÇOCUK VE ERGEN RUH SAĞLIĞI VE HASTALIKLARI': 'DİĞER', 'GENEL CERRAHİ': 'DİĞER', 'PALYATIF BAKIM ÜNITESI': 'DİĞER', 'ÜROLOJI': 'DİĞER', 'GÖZ HASTALIKLARI': 'DİĞER', 'YANIK YOĞUN BAKIM': 'GENEL YB', 'SUALTI HEKIMLIĞI VE HIPERBARIK TIP': 'DİĞER', 'NÖROLOJİ YOĞUN BAKIM': 'NÖROLOJİ YB', 'ÇOCUK SAĞLIĞI VE HASTALIKLARI': 'DİĞER', 'ENFEKSIYON HASTALIKLARI VE KLINIK MIKROBIYOLOJI': 'DİĞER', 'GÖĞÜS HASTALIKLARI YOĞUN BAKIM': 'GENEL YB', 'GENEL YB': 'dr murat', 'NEFROLOJI': 'DİĞER', 'ÇOCUK KARDIYOLOJISI': 'DİĞER', 'ÇOCUK NÖROLOJISI': 'DİĞER', 'DAHİLİYE YOĞUN BAKIM': 'GENEL YB', 'ANESTEZIYOLOJI VE REANIMASYON': 'GENEL YB', 'EL CERRAHISI': 'DİĞER', 'GASTROENTEROLOJI': 'DİĞER', 'BEYİN CERRAHİ YOĞUN BAKIM': 'GENEL YB', 'PEDİATRİ YOĞUN BAKIM': 'ÇOCUK YB', 'DİĞER': 'askom', 'ACİL YOĞUN BAKIM': 'GENEL YB', 'KORONER YB': 'dr kenan', 'NÜKLEER TIP': 'DİĞER', 'KVC YOĞUN BAKIM': 'KVC YB', 'ÇOCUK GASTROENTEROLOJISI': 'DİĞER', 'FIZIKSEL TIP VE REHABILITASYON': 'DİĞER', 'AMELİYATHANE YOĞUN BAKIM': 'GENEL YB', 'ÇOCUK KALP VE DAMAR CERRAHISI': 'DİĞER', 'RADYASYON ONKOLOJISI': 'DİĞER', 'ÇOCUK ENDOKRINOLOJISI': 'DİĞER', 'EVE NAKİL': 'DR', 'DERI VE ZÜHREVI HASTALIKLARI': 'DİĞER', 'HEMATOLOJI': 'DİĞER', 'ÇOCUK YB': 'DR CANSU', 'KADIN DOĞUM YOĞUN BAKIM': 'GENEL YB', 'ENDOKRINOLOJI VE METABOLIZMA HASTALIKLARI': 'DİĞER', 'CERRAHİ YOĞUN BAKIM': 'GENEL YB', 'PERINATOLOJI': 'DİĞER', 'TIBBI ONKOLOJI': 'DİĞER', 'ÇOCUK HEMATOLOJISI VE ONKOLOJISI': 'DİĞER', 'GÖĞÜS CERRAHİ YOĞUN BAKIM': 'GENEL YB', 'JINEKOLOJIK ONKOLOJI CERRAHISI': 'DİĞER', 'ÇOCUK GÖĞÜS HASTALIKLARI': 'DİĞER', 'SAĞLIK KURULU': 'DİĞER', 'ACİL DAHİLİYE YOĞUN BAKIM': 'GENEL YB', 'ÇOCUK ENFEKSIYON HASTALIKLARI': 'DİĞER', 'TIBBI GENETIK': 'DİĞER', 'AILE HEKIMLIĞI': 'DİĞER', 'YENİDOĞAN YB': 'dr osman ', 'ÇOCUK CERRAHİ YOĞUN BAKIM': 'ÇOCUK YB', 'ORGAN NAKLİ YOĞUN BAKIM': 'İL DIŞI', 'NÖROLOJİ YB': 'dr arsida ', 'ROMATOLOJI': 'DİĞER', 'İL DIŞI': 'dr gülşen ', 'ACİL CERRAHİ YOĞUN BAKIM': 'GENEL YB', 'ÇOCUK NEFROLOJISI': 'DİĞER', 'ÇOCUK METABOLIZMA HASTALIKLARI': 'DİĞER', 'CERRAHI ONKOLOJI': 'DİĞER', 'ENFEKSİYON YOĞUN BAKIM': 'DİĞER', 'GASTROENTEROLOJI CERRAHISI': 'DİĞER'}\n",
        "\n",
        "\"\"\""
      ],
      "metadata": {
        "id": "qLLUru24iyCR"
      },
      "execution_count": null,
      "outputs": []
    },
    {
      "cell_type": "code",
      "source": [
        "print(hospital_keyword)"
      ],
      "metadata": {
        "id": "MKkJfQXpiRr4"
      },
      "execution_count": null,
      "outputs": []
    },
    {
      "cell_type": "code",
      "source": [
        "# INTERNAL TRANSPORT HOSPITAL KEYWORD\n",
        "\"\"\"\n",
        "{'T.C. SAĞLIK BAKANLIĞI SANCAKTEPE ŞEHİT PROF. DR. İLHAN VARANK EĞİTİM VE ARAŞTIRMA HASTANESİ': 'T.C. SAĞLIK BAKANLIĞI SANCAKTEPE ŞEHİT PROF. DR. İLHAN VARANK EĞİTİM VE ARAŞTIRMA HASTANESİ', '(EK KAMPÜS) SEYRANTEPE HAMİDİYE ETFAL EK HİZMET BİNASI': '(EK KAMPÜS) SEYRANTEPE HAMİDİYE ETFAL EK HİZMET BİNASI', 'T.C. SAĞLIK BAKANLIĞI ÜMRANİYE EĞİTİM VE ARAŞTIRMA HASTANESİ': 'T.C. SAĞLIK BAKANLIĞI ÜMRANİYE EĞİTİM VE ARAŞTIRMA HASTANESİ', 'T.C. SAĞLIK BAKANLIĞI İSTANBUL PROF. DR. CEMİL TAŞCIOĞLU ŞEHİR HASTANESİ': 'T.C. SAĞLIK BAKANLIĞI İSTANBUL PROF. DR. CEMİL TAŞCIOĞLU ŞEHİR HASTANESİ', 'T.C. SAĞLIK BAKANLIĞI MARMARA ÜNİVERSİTESİ PENDİK EĞİTİM VE ARAŞTIRMA HASTANESİ': 'T.C. SAĞLIK BAKANLIĞI MARMARA ÜNİVERSİTESİ PENDİK EĞİTİM VE ARAŞTIRMA HASTANESİ', 'T.C. SAĞLIK BAKANLIĞI KARTAL DR. LÜTFİ KIRDAR ŞEHİR HASTANESİ': 'T.C. SAĞLIK BAKANLIĞI KARTAL DR. LÜTFİ KIRDAR ŞEHİR HASTANESİ', 'T.C. SAĞLIK BAKANLIĞI BAĞCILAR EĞİTİM VE ARAŞTIRMA HASTANESİ': 'T.C. SAĞLIK BAKANLIĞI BAĞCILAR EĞİTİM VE ARAŞTIRMA HASTANESİ', 'T.C. SAĞLIK BAKANLIĞI GÖZTEPE PROF. DR. SÜLEYMAN YALÇIN ŞEHİR HASTANESİ': 'T.C. SAĞLIK BAKANLIĞI GÖZTEPE PROF. DR. SÜLEYMAN YALÇIN ŞEHİR HASTANESİ', 'T.C. SAĞLIK BAKANLIĞI BAKIRKÖY DR. SADİ KONUK EĞİTİM VE ARAŞTIRMA HASTANESİ': 'T.C. SAĞLIK BAKANLIĞI BAKIRKÖY DR. SADİ KONUK EĞİTİM VE ARAŞTIRMA HASTANESİ', 'T.C. SAĞLIK BAKANLIĞI İSTANBUL KANUNİ SULTAN SÜLEYMAN EĞİTİM VE ARAŞTIRMA HASTANESİ': 'T.C. SAĞLIK BAKANLIĞI İSTANBUL KANUNİ SULTAN SÜLEYMAN EĞİTİM VE ARAŞTIRMA HASTANESİ', 'T.C. SAĞLIK BAKANLIĞI BAŞAKŞEHİR ÇAM VE SAKURA ŞEHİR HASTANESİ': 'T.C. SAĞLIK BAKANLIĞI BAŞAKŞEHİR ÇAM VE SAKURA ŞEHİR HASTANESİ', 'T.C. SAĞLIK BAKANLIĞI İSTANBUL FATİH SULTAN MEHMET EĞİTİM VE ARAŞTIRMA HASTANESİ': 'T.C. SAĞLIK BAKANLIĞI İSTANBUL FATİH SULTAN MEHMET EĞİTİM VE ARAŞTIRMA HASTANESİ', 'T.C. SAĞLIK BAKANLIĞI GAZİOSMANPAŞA EĞİTİM VE ARAŞTIRMA HASTANESİ': 'T.C. SAĞLIK BAKANLIĞI GAZİOSMANPAŞA EĞİTİM VE ARAŞTIRMA HASTANESİ', 'T.C. SAĞLIK BAKANLIĞI SİLİVRİ DEVLET HASTANESİ': 'T.C. SAĞLIK BAKANLIĞI SİLİVRİ DEVLET HASTANESİ', 'T.C. SAĞLIK BAKANLIĞI İSTANBUL EĞİTİM VE ARAŞTIRMA HASTANESİ': 'T.C. SAĞLIK BAKANLIĞI İSTANBUL EĞİTİM VE ARAŞTIRMA HASTANESİ', 'T.C. SAĞLIK BAKANLIĞI ESENYURT NECMİ KADIOĞLU DEVLET HASTANESİ': 'T.C. SAĞLIK BAKANLIĞI ESENYURT NECMİ KADIOĞLU DEVLET HASTANESİ', 'T.C. SAĞLIK BAKANLIĞI BEYLİKDÜZÜ DEVLET HASTANESİ': 'T.C. SAĞLIK BAKANLIĞI BEYLİKDÜZÜ DEVLET HASTANESİ', 'T.C. SAĞLIK BAKANLIĞI SULTANBEYLİ DEVLET HASTANESİ': 'T.C. SAĞLIK BAKANLIĞI SULTANBEYLİ DEVLET HASTANESİ', 'T.C. SAĞLIK BAKANLIĞI ŞİLE DEVLET HASTANESİ': 'T.C. SAĞLIK BAKANLIĞI ŞİLE DEVLET HASTANESİ', '(EK KAMPÜS SULTANGAZİ) T.C. SAĞLIK BAKANLIĞI SBÜ İSTANBUL HASEKİ EĞİTİM VE ARAŞTIRMA HASTANESİ': '(EK KAMPÜS SULTANGAZİ) T.C. SAĞLIK BAKANLIĞI SBÜ İSTANBUL HASEKİ EĞİTİM VE ARAŞTIRMA HASTANESİ', 'T.C. SAĞLIK BAKANLIĞI ARNAVUTKÖY DEVLET HASTANESİ': 'T.C. SAĞLIK BAKANLIĞI ARNAVUTKÖY DEVLET HASTANESİ', '(EK KAMPÜS) PROF. DR. ASAF ATASEVEN EK HİZMET BİNASI': '(EK KAMPÜS) PROF. DR. ASAF ATASEVEN EK HİZMET BİNASI', 'T.C. SAĞLIK BAKANLIĞI BÜYÜKÇEKMECE MİMAR SİNAN DEVLET HASTANESİ': 'T.C. SAĞLIK BAKANLIĞI BÜYÜKÇEKMECE MİMAR SİNAN DEVLET HASTANESİ', 'T.C. SAĞLIK BAKANLIĞI İSTANBUL SULTAN 2. ABDÜLHAMİD HAN EĞİTİM VE ARAŞTIRMA HASTANESİ': 'T.C. SAĞLIK BAKANLIĞI İSTANBUL SULTAN 2. ABDÜLHAMİD HAN EĞİTİM VE ARAŞTIRMA HASTANESİ', 'T.C. SAĞLIK BAKANLIĞI BEYKOZ DEVLET HASTANESİ': 'T.C. SAĞLIK BAKANLIĞI BEYKOZ DEVLET HASTANESİ', 'T.C. SAĞLIK BAKANLIĞI AVCILAR MURAT KÖLÜK DEVLET HASTANESİ': 'T.C. SAĞLIK BAKANLIĞI AVCILAR MURAT KÖLÜK DEVLET HASTANESİ', 'T.C. SAĞLIK BAKANLIĞI TAKSİM EĞİTİM VE ARAŞTIRMA HASTANESİ': 'T.C. SAĞLIK BAKANLIĞI TAKSİM EĞİTİM VE ARAŞTIRMA HASTANESİ', 'T.C. SAĞLIK BAKANLIĞI TUZLA DEVLET HASTANESİ': 'T.C. SAĞLIK BAKANLIĞI TUZLA DEVLET HASTANESİ', 'İSTANBUL BEZMİALEM VAKIF ÜNİVERSİTESİ SAĞLIK UYGULAMA VE ARAŞTIRMA MERKEZİ': 'İSTANBUL BEZMİALEM VAKIF ÜNİVERSİTESİ SAĞLIK UYGULAMA VE ARAŞTIRMA MERKEZİ', 'T.C. SAĞLIK BAKANLIĞI ÇATALCA İLYAS ÇOKAY DEVLET HASTANESİ': 'T.C. SAĞLIK BAKANLIĞI ÇATALCA İLYAS ÇOKAY DEVLET HASTANESİ', 'T.C. SAĞLIK BAKANLIĞI BAHÇELİEVLER DEVLET HASTANESİ': 'T.C. SAĞLIK BAKANLIĞI BAHÇELİEVLER DEVLET HASTANESİ', 'T.C. SAĞLIK BAKANLIĞI İSTANBUL YEDİKULE GÖĞÜS HASTALIKLARI VE GÖĞÜS CERRAHİSİ EAH': 'T.C. SAĞLIK BAKANLIĞI İSTANBUL YEDİKULE GÖĞÜS HASTALIKLARI VE GÖĞÜS CERRAHİSİ EAH', 'ÖZEL BEYKENT HASTANESİ': 'ÖZEL BEYKENT HASTANESİ', 'T.C. SAĞLIK BAKANLIĞI İSTANBUL HAYDARPAŞA NUMUNE EĞİTİM VE ARAŞTIRMA HASTANESİ': 'T.C. SAĞLIK BAKANLIĞI İSTANBUL HAYDARPAŞA NUMUNE EĞİTİM VE ARAŞTIRMA HASTANESİ', '(EK KAMPÜS) T.C. SAĞLIK BAKANLIĞI ŞİŞLİ HAMİDİYE ETFAL EĞİTİM VE ARAŞTIRMA HASTANESİ': '(EK KAMPÜS) SARIYER HAMİDİYE ETFAL EK HİZMET BİNASI', 'YENİ YÜZYIL ÜNİVERSİTESİ ÖZEL GAZİOSMANPAŞA HASTANESİ': 'YENİ YÜZYIL ÜNİVERSİTESİ ÖZEL GAZİOSMANPAŞA HASTANESİ', 'ÖZEL ACIBADEM ATAŞEHİR HASTANESİ': 'ÖZEL ACIBADEM ATAŞEHİR HASTANESİ', 'T.C. SAĞLIK BAKANLIĞI PENDİK DEVLET HASTANESİ': 'T.C. SAĞLIK BAKANLIĞI PENDİK DEVLET HASTANESİ', 'İSTANBUL İSTİNYE ÜNİVERSİTESİ SAĞLIK UYGULAMA VE ARAŞTIRMA MERKEZİ': 'İSTANBUL İSTİNYE ÜNİVERSİTESİ SAĞLIK UYGULAMA VE ARAŞTIRMA MERKEZİ', 'ÖZEL MEDİCANA İNTERNATİONAL  İSTANBUL HASTANESİ': 'ÖZEL MEDİCANA İNTERNATİONAL  İSTANBUL HASTANESİ', 'ÖZEL REYAP İSTANBUL HASTANESİ': 'ÖZEL REYAP İSTANBUL HASTANESİ', 'İSTANBUL BİRUNİ ÜNİVERSİTESİ SAĞLIK EĞİTİMİ UYGULAMA VE ARAŞTIRMA MERKEZİ': 'İSTANBUL BİRUNİ ÜNİVERSİTESİ SAĞLIK EĞİTİMİ UYGULAMA VE ARAŞTIRMA MERKEZİ', 'ÖZEL SİLİVRİ ANADOLU HASTANESİ': 'ÖZEL SİLİVRİ ANADOLU HASTANESİ', 'ÖZEL ESENCAN HASTANESİ': 'ÖZEL ESENCAN HASTANESİ', 'ÖZEL MEMORİAL ŞİŞLİ HASTANESİ': 'ÖZEL MEMORİAL ŞİŞLİ HASTANESİ', 'İSTANBUL ÜNİVERSİTESİ': 'İSTANBUL ÜNİVERSİTESİ', 'İSTANBUL KOÇ ÜNİVERSİTESİ SAĞLIK EĞİTİM VE UYGULAMA MERKEZİ': 'İSTANBUL KOÇ ÜNİVERSİTESİ SAĞLIK EĞİTİM VE UYGULAMA MERKEZİ', 'T.C. SAĞLIK BAKANLIĞI BAŞAKŞEHİR DEVLET HASTANESİ': 'T.C. SAĞLIK BAKANLIĞI BAŞAKŞEHİR DEVLET HASTANESİ', 'ÖZEL MEMORİAL BAHÇELİEVLER HASTANESİ': 'ÖZEL MEMORİAL BAHÇELİEVLER HASTANESİ', 'ÖZEL İSTANBUL MEDİCİNE HOSPİTAL HASTANESİ': 'ÖZEL İSTANBUL MEDİCİNE HOSPİTAL HASTANESİ', 'T.C. SAĞLIK BAKANLIĞI İSTANBUL SÜREYYAPAŞA GÖĞÜS HASTALIKLARI VE GÖĞÜS CERRAHİSİ EAH': 'T.C. SAĞLIK BAKANLIĞI İSTANBUL SÜREYYAPAŞA GÖĞÜS HASTALIKLARI VE GÖĞÜS CERRAHİSİ EAH', 'ÖZEL ACIBADEM MASLAK HASTANESİ': 'ÖZEL ACIBADEM MASLAK HASTANESİ', 'ÖZEL EMSEY HOSPİTAL HASTANESİ': 'ÖZEL EMSEY HOSPİTAL HASTANESİ', 'T.C. SAĞLIK BAKANLIĞI BAYRAMPAŞA DEVLET HASTANESİ': 'T.C. SAĞLIK BAKANLIĞI BAYRAMPAŞA DEVLET HASTANESİ', 'İSTANBUL ÜNİVERSİTESİ İSTANBUL  HASTANESİ': 'İSTANBUL ÜNİVERSİTESİ İSTANBUL  HASTANESİ', 'T.C. SAĞLIK BAKANLIĞI ERENKÖY RUH VE SİNİR HASTALIKLARI EĞİTİM VE ARAŞTIRMA HASTANESİ': 'T.C. SAĞLIK BAKANLIĞI ERENKÖY RUH VE SİNİR HASTALIKLARI EĞİTİM VE ARAŞTIRMA HASTANESİ', '(EK KAMPÜS GAZİOSMANPAŞA) İSTANBUL İSTİNYE ÜNİVERSİTESİ SAĞLIK UYGULAMA VE ARAŞTIRMA MERKEZİ': '(EK KAMPÜS GAZİOSMANPAŞA) İSTANBUL İSTİNYE ÜNİVERSİTESİ SAĞLIK UYGULAMA VE ARAŞTIRMA MERKEZİ', 'ÖZEL ACIBADEM ALTUNİZADE HASTANESİ': 'ÖZEL ACIBADEM ALTUNİZADE HASTANESİ', 'ÖZEL LOKMAN HEKİM İSTANBUL HASTANESİ': 'ÖZEL LOKMAN HEKİM İSTANBUL HASTANESİ', 'İSTANBUL ÜNİVERSİTESİ İSTANBUL HASTANESİ': 'İSTANBUL ÜNİVERSİTESİ İSTANBUL HASTANESİ', 'ACIBADEM ÜNİVERSİTESİ ÖZEL ACIBADEM ATAKENT HASTANESİ': 'ACIBADEM ÜNİVERSİTESİ ÖZEL ACIBADEM ATAKENT HASTANESİ', 'T.C. SAĞLIK BAKANLIĞI EYÜPSULTAN DEVLET HASTANESİ': 'T.C. SAĞLIK BAKANLIĞI EYÜPSULTAN DEVLET HASTANESİ', 'T.C. SAĞLIK BAKANLIĞI İSTANBUL BALTALİMANI METİN SABANCI KEMİK HASTALIKLARI EAH': 'T.C. SAĞLIK BAKANLIĞI İSTANBUL BALTALİMANI METİN SABANCI KEMİK HASTALIKLARI EAH', 'ÖZEL MEDİCANA HOSPİTALS AVCILAR': 'ÖZEL MEDİCANA HOSPİTALS AVCILAR', 'ÖZEL AVRUPA ŞAFAK HASTANESİ': 'ÖZEL AVRUPA ŞAFAK HASTANESİ', 'T.C. SAĞLIK BAKANLIĞI İSTANBUL ZEYNEP KAMİL KADIN VE ÇOCUK HASTALIKLARI EAH': 'T.C. SAĞLIK BAKANLIĞI İSTANBUL ZEYNEP KAMİL KADIN VE ÇOCUK HASTALIKLARI EAH', 'T.C. SAĞLIK BAKANLIĞI İSTANBUL PROF. DR. MAZHAR OSMAN RUH SAĞLIĞI VE SİNİR HASTALIKLARI EAH': 'T.C. SAĞLIK BAKANLIĞI İSTANBUL PROF. DR. MAZHAR OSMAN RUH SAĞLIĞI VE SİNİR HASTALIKLARI EAH', 'T.C. SAĞLIK BAKANLIĞI KARTAL KOŞUYOLU YÜKSEK İHTİSAS EĞİTİM VE ARAŞTIRMA HASTANESİ': 'T.C. SAĞLIK BAKANLIĞI KARTAL KOŞUYOLU YÜKSEK İHTİSAS EĞİTİM VE ARAŞTIRMA HASTANESİ', 'ÖZEL AVCILAR HOSPİTAL': 'ÖZEL AVCILAR HOSPİTAL', 'ÖZEL BÜYÜKÇEKMECE KOLAN HOSPİTAL HASTANESİ': 'ÖZEL BÜYÜKÇEKMECE KOLAN HOSPİTAL HASTANESİ', '(EK KAMPÜS ZEYTİNBURNU) T.C. SAĞLIK BAKANLIĞI SBÜ İSTANBUL EĞİTİM VE ARAŞTIRMA HASTANESİ': '(EK KAMPÜS ZEYTİNBURNU) T.C. SAĞLIK BAKANLIĞI SBÜ İSTANBUL EĞİTİM VE ARAŞTIRMA HASTANESİ', 'ÖZEL SAYGI HASTANESİ': 'ÖZEL SAYGI HASTANESİ', 'ÖZEL MEDİPOL MEGA HASTANELER KOMPLEKSİ': 'ÖZEL MEDİPOL MEGA HASTANELER KOMPLEKSİ', 'İSTANBUL AYDIN ÜNİVERSİTESİ SAĞLIK UYGULAMA VE ARAŞTIRMA MERKEZİ': 'İSTANBUL AYDIN ÜNİVERSİTESİ SAĞLIK UYGULAMA VE ARAŞTIRMA MERKEZİ', 'ÖZEL İSTANBUL BÖLGE  HASTANESİ': 'ÖZEL İSTANBUL BÖLGE  HASTANESİ', 'ÖZEL MEDİCANA HOSPİTALS ÇAMLICA HASTANESİ': 'ÖZEL MEDİCANA HOSPİTALS ÇAMLICA HASTANESİ', 'İSTANBUL ÜNİVERSİTESİ -CERRAHPAŞA CERRAHPAŞA HASTANESİ': 'İSTANBUL ÜNİVERSİTESİ CERRAHPAŞA HASTANESİ', 'ÖZEL ERDEM HASTANESİ': 'ÖZEL ERDEM HASTANESİ', 'BİRUNİ ÜNİVERSİTESİ TIP FAKÜLTESİ HASTANESİ': 'İSTANBUL BİRUNİ ÜNİVERSİTESİ SAĞLIK EĞİTİMİ UYGULAMA VE ARAŞTIRMA MERKEZİ', 'ÖZEL MEMORİAL ATAŞEHİR HASTANESİ': 'ÖZEL MEMORİAL ATAŞEHİR HASTANESİ', 'ÖZEL BAYRAMPAŞA KOLAN HOSPITAL HASTANESİ': 'ÖZEL BAYRAMPAŞA KOLAN HOSPITAL HASTANESİ', 'ÖZEL MEDİCANA ATAŞEHİR HASTANESİ': 'ÖZEL MEDİCANA ATAŞEHİR HASTANESİ', 'ÖZEL BİRİNCİ HASTANESİ': 'ÖZEL BİRİNCİ HASTANESİ', 'ÖZEL MEDİCAL PARK GÖZTEPE HASTANESİ KOMPLEKSİ (GENEL HASTANE-KANSER HASTANESİ-AĞIZ VE DİŞ HASTANESİ)': 'ÖZEL MEDİCAL PARK GÖZTEPE HASTANESİ KOMPLEKSİ (GENEL HASTANE-KANSER HASTANESİ-AĞIZ VE DİŞ HASTANESİ)', 'ÖZEL MEDİSTATE KAVACIK HASTANESİ': 'ÖZEL MEDİSTATE KAVACIK HASTANESİ', 'ÖZEL BAĞCILAR MEDİLİFE HASTANESİ': 'ÖZEL BAĞCILAR MEDİLİFE HASTANESİ', 'ÖZEL MEDIVIA HOSPITAL HASTANESİ': 'ÖZEL MEDIVIA HOSPITAL HASTANESİ', 'İSTANBUL OKAN ÜNİVERSİTESİ SAĞLIK UYGULAMA VE ARAŞTIRMA MERKEZİ': 'İSTANBUL OKAN ÜNİVERSİTESİ SAĞLIK UYGULAMA VE ARAŞTIRMA MERKEZİ', 'ÖZEL YENİBOSNA SAFA HASTANESİ': 'ÖZEL YENİBOSNA SAFA HASTANESİ', 'İSTANBUL MALTEPE ÜNİVERSİTESİ TIP FAKÜLTESİ HASTANESİ': 'İSTANBUL MALTEPE ÜNİVERSİTESİ TIP FAKÜLTESİ HASTANESİ', 'ÖZEL AVCILAR ANADOLU HASTANESİ': 'ÖZEL AVCILAR ANADOLU HASTANESİ', '(EK KAMPÜS ÇEKMEKÖY) T.C. SAĞLIK BAKANLIĞI SANCAKTEPE ŞEHİT PROF. DR. İLHAN VARANK EAH': '(EK KAMPÜS ÇEKMEKÖY) T.C. SAĞLIK BAKANLIĞI SANCAKTEPE ŞEHİT PROF. DR. İLHAN VARANK EAH', 'ÖZEL VM MEDİCALPARK PENDİK HASTANESİ': 'ÖZEL VM MEDİCALPARK PENDİK HASTANESİ', 'ÖZEL GÜNGÖREN HASTANESİ': 'ÖZEL GÜNGÖREN HASTANESİ', 'ÖZEL ÇAMLICA ERDEM HASTANESİ': 'ÖZEL ÇAMLICA ERDEM HASTANESİ', 'T.C. SAĞLIK BAKANLIĞI İSTANBUL DR. SİYAMİ ERSEK GÖĞÜS KALP VE DAMAR CERRAHİSİ EAH': 'T.C. SAĞLIK BAKANLIĞI İSTANBUL DR. SİYAMİ ERSEK GÖĞÜS KALP VE DAMAR CERRAHİSİ EAH', 'ÖZEL KURTKÖY ERSOY HASTANESİ': 'ÖZEL KURTKÖY ERSOY HASTANESİ', 'ÖZEL MEDİCANA KADIKÖY HASTANESİ': 'ÖZEL MEDİCANA KADIKÖY HASTANESİ', '(EK KAMPÜS) PROF. DR. FERİHA ÖZ ACİL DURUM HASTANESİ EK HİZMET BİNASI ': '(EK KAMPÜS) PROF. DR. FERİHA ÖZ ACİL DURUM HASTANESİ EK HİZMET BİNASI ', 'ÖZEL ACIBADEM BAKIRKÖY HASTANESİ': 'ÖZEL ACIBADEM BAKIRKÖY HASTANESİ', 'İSTANBUL YEDİTEPE ÜNİVERSİTESİ SAĞLIK HİZMETLERİ EĞİTİM ARAŞTIRMA VE UYGULAMA MERKEZİ': 'İSTANBUL YEDİTEPE ÜNİVERSİTESİ SAĞLIK HİZMETLERİ EĞİTİM ARAŞTIRMA VE UYGULAMA MERKEZİ', 'ÖZEL ŞAFAK HASTANESİ BAĞCILAR': 'ÖZEL ŞAFAK HASTANESİ BAĞCILAR', 'ÖZEL BEYLİKDÜZÜ KOLAN HOSPİTAL HASTANESİ': 'ÖZEL BEYLİKDÜZÜ KOLAN HOSPİTAL HASTANESİ', 'T.C. SAĞLIK BAKANLIĞI İSTANBUL İSTİNYE DEVLET HASTANESİ': 'T.C. SAĞLIK BAKANLIĞI İSTANBUL İSTİNYE DEVLET HASTANESİ', '(EK KAMPÜS MALTEPE) İSTANBUL BEZMİALEM VAKIF ÜNİVERSİTESİ SAĞLIK UYGULAMA VE ARAŞTIRMA MERKEZİ DRAGOS HASTANESİ': '(EK KAMPÜS MALTEPE) İSTANBUL BEZMİALEM VAKIF ÜNİVERSİTESİ SAĞLIK UYGULAMA VE ARAŞTIRMA MERKEZİ DRAGOS HASTANESİ', 'ÖZEL MEDİPOL BAHÇELİEVLER HASTANESİ': 'ÖZEL MEDİPOL BAHÇELİEVLER HASTANESİ', 'ÖZEL HİSAR İNTERCONTİNENTAL HOSPİTAL HASTANESİ': 'ÖZEL HİSAR İNTERCONTİNENTAL HOSPİTAL HASTANESİ', 'ÖZEL GSM GİSBİR SAĞLIK MERKEZİ HASTANESİ': 'ÖZEL GSM GİSBİR SAĞLIK MERKEZİ HASTANESİ', 'ÖZEL BAYPARK HOSPİTAL HASTANESİ': 'ÖZEL BAYPARK HOSPİTAL HASTANESİ', 'T.C. SAĞLIK BAKANLIĞI İSTANBUL MEHMET AKİF ERSOY GÖĞÜS KALP VE DAMAR CERRAHİSİ EAH': 'T.C. SAĞLIK BAKANLIĞI İSTANBUL MEHMET AKİF ERSOY GÖĞÜS KALP VE DAMAR CERRAHİSİ EAH', 'ÖZEL MEDİCAL PARK BAHÇELİEVLER HASTANESİ': 'ÖZEL MEDİCAL PARK BAHÇELİEVLER HASTANESİ', 'T.C. SAĞLIK BAKANLIĞI MALTEPE DEVLET HASTANESİ': 'T.C. SAĞLIK BAKANLIĞI MALTEPE DEVLET HASTANESİ', 'T.C. SAĞLIK BAKANLIĞI İSTANBUL HASEKİ EĞİTİM VE ARAŞTIRMA HASTANESİ': '(EK KAMPÜS SULTANGAZİ) T.C. SAĞLIK BAKANLIĞI SBÜ İSTANBUL HASEKİ EĞİTİM VE ARAŞTIRMA HASTANESİ', 'İSTANBUL BAŞKENT ÜNİVERSİTESİ İSTANBUL SAĞLIK UYGULAMA VE ARAŞTIRMA MERKEZİ': 'İSTANBUL BAŞKENT ÜNİVERSİTESİ İSTANBUL SAĞLIK UYGULAMA VE ARAŞTIRMA MERKEZİ', 'ÖZEL BEYLİKDÜZÜ MEDİLİFE HASTANESİ': 'ÖZEL BEYLİKDÜZÜ MEDİLİFE HASTANESİ', 'T.C. SAĞLIK BAKANLIĞI ESENLER KADIN DOĞUM VE ÇOCUK HASTALIKLARI HASTANESİ': 'T.C. SAĞLIK BAKANLIĞI ESENLER KADIN DOĞUM VE ÇOCUK HASTALIKLARI HASTANESİ', 'ÖZEL GÜNEŞLİ ERDEM HASTANESİ': 'ÖZEL GÜNEŞLİ ERDEM HASTANESİ', 'ÖZEL ACIBADEM KOZYATAĞI HASTANESİ': 'ÖZEL ACIBADEM KOZYATAĞI HASTANESİ', 'BİRUNİ ÜNİVERSİTESİ': 'İSTANBUL BİRUNİ ÜNİVERSİTESİ SAĞLIK EĞİTİMİ UYGULAMA VE ARAŞTIRMA MERKEZİ', 'ÖZEL LİV HOSPİTAL ULUS HASTANESİ': 'ÖZEL LİV HOSPİTAL ULUS HASTANESİ', 'ÖZEL İSTANBUL FLORENCE NIGHTINGALE HASTANESİ': 'ÖZEL İSTANBUL FLORENCE NIGHTINGALE HASTANESİ', 'ÖZEL YÜZYIL HASTANESİ PENDİK': 'ÖZEL YÜZYIL HASTANESİ PENDİK', 'ÖZEL ŞİŞLİ KOLAN İNTERNATIONAL HOSPİTAL HASTANESİ': 'ÖZEL ŞİŞLİ KOLAN İNTERNATIONAL HOSPİTAL HASTANESİ', 'ÖZEL AVRASYA HASTANESİ': 'ÖZEL AVRASYA HASTANESİ', 'ÖZEL ACIBADEM DR. ŞİNASİ CAN HASTANESİ': 'ÖZEL ACIBADEM DR. ŞİNASİ CAN HASTANESİ', 'İSTANBUL MEDİPOL ÜNİVERSİTESİ SAĞLIK EĞİTİM UYGULAMA MERKEZİ': 'İSTANBUL MEDİPOL ÜNİVERSİTESİ SAĞLIK EĞİTİM UYGULAMA MERKEZİ', '(EK KAMPÜS) SARIYER HAMİDİYE ETFAL EK HİZMET BİNASI': 'ACIL TIP', 'ÖZEL KADIKÖY FLORANCE NİGHTİNGALE HASTANESİ': 'ÖZEL KADIKÖY FLORANCE NİGHTİNGALE HASTANESİ', 'T.C. SAĞLIK BAKANLIĞI ÜSKÜDAR DEVLET HASTANESİ': 'T.C. SAĞLIK BAKANLIĞI ÜSKÜDAR DEVLET HASTANESİ', 'ÖZEL KIZILAY KAĞITHANE HASTANESİ': 'ÖZEL KIZILAY KAĞITHANE HASTANESİ', 'ÖZEL LİV HOSPİTAL VADİ İSTANBUL HASTANESİ': 'ÖZEL LİV HOSPİTAL VADİ İSTANBUL HASTANESİ', 'ÖZEL VM MEDİCAL PARK MALTEPE HASTANESİ': 'ÖZEL VM MEDİCAL PARK MALTEPE HASTANESİ', 'ÖZEL TUSA HASTANESİ': 'ÖZEL TUSA HASTANESİ', 'T.C. SAĞLIK BAKANLIĞI ŞİŞLİ HAMİDİYE ETFAL EĞİTİM VE ARAŞTIRMA HASTANESİ': '(EK KAMPÜS) SEYRANTEPE HAMİDİYE ETFAL EK HİZMET BİNASI', 'ÖZEL DELTA HOSPİTAL': 'ÖZEL DELTA HOSPİTAL', 'T.C. SAĞLIK BAKANLIĞI BEŞİKTAŞ SAİT ÇİFTÇİ DEVLET HASTANESİ': 'T.C. SAĞLIK BAKANLIĞI BEŞİKTAŞ SAİT ÇİFTÇİ DEVLET HASTANESİ', 'ÖZEL AVİCENNA HASTANESİ GÜLTEPE': 'ÖZEL AVİCENNA HASTANESİ GÜLTEPE', 'ÖZEL ACIBADEM İNTERNATİONAL HASTANESİ': 'ÖZEL ACIBADEM İNTERNATİONAL HASTANESİ', '(EK KAMPÜS PENDİK) İSTANBUL MEDİPOL ÜNİVERSİTESİ SAĞLIK EĞİTİM UYGULAMA MERKEZİ': '(EK KAMPÜS PENDİK) İSTANBUL MEDİPOL ÜNİVERSİTESİ SAĞLIK EĞİTİM UYGULAMA MERKEZİ', 'ÖZEL SİLİVRİ KOLAN HOSPİTAL HASTANESİ': 'ÖZEL SİLİVRİ KOLAN HOSPİTAL HASTANESİ', 'ÖZEL RUMELİ HOSPİTAL HASTANESİ': 'ÖZEL RUMELİ HOSPİTAL HASTANESİ', 'ÖZEL ACIBADEM FULYA HASTANESİ': 'ÖZEL ACIBADEM FULYA HASTANESİ', 'ÖZEL VEHBİ KOÇ VAKFI AMERİKAN HASTANESİ': 'ÖZEL VEHBİ KOÇ VAKFI AMERİKAN HASTANESİ', 'ÖZEL AVİCENNA UMUT HASTANESİ': 'ÖZEL AVİCENNA UMUT HASTANESİ', 'ÖZEL İSTANBUL MEDİPOL HASTANESİ': 'ÖZEL İSTANBUL MEDİPOL HASTANESİ', 'ÖZEL LEVENT HASTANESİ': 'ÖZEL LEVENT HASTANESİ', 'ÖZEL TRG HOSPİTALİST HASTANESİ': 'ÖZEL TRG HOSPİTALİST HASTANESİ', 'T.C. SAĞLIK BAKANLIĞI İSTANBUL FİZİK TEDAVİ VE REHABİLİTASYON EĞİTİM VE ARAŞTIRMA HASTANESİ': 'T.C. SAĞLIK BAKANLIĞI İSTANBUL FİZİK TEDAVİ VE REHABİLİTASYON EĞİTİM VE ARAŞTIRMA HASTANESİ', 'ÖZEL FLORYA HASTANESİ': 'ÖZEL FLORYA HASTANESİ', 'ÖZEL YEDİKULE SURP PIRGİÇ ERMENİ HASTANESİ': 'ÖZEL YEDİKULE SURP PIRGİÇ ERMENİ HASTANESİ', 'İSTANBUL ÜNİVERSİTESİ CERRAHPAŞA HASTANESİ': 'İSTANBUL ÜNİVERSİTESİ CERRAHPAŞA HASTANESİ', 'ÖZEL MEDİGOLD SULTAN HASTANESİ': 'ÖZEL MEDİGOLD SULTAN HASTANESİ', 'ÖZEL BAHAT HOSPİTAL HASTANESİ': 'ÖZEL BAHAT HOSPİTAL HASTANESİ', 'ÖZEL PENDİK BÖLGE HASTANESİ': 'ÖZEL PENDİK BÖLGE HASTANESİ', 'ÖZEL DUYGU HASTANESİ': 'ÖZEL DUYGU HASTANESİ', 'T.C. SAĞLIK BAKANLIĞI BAŞAKŞEHİR ÇAM VE SAKURA HASTANESİ GENEL HASTANE': 'T.C. SAĞLIK BAKANLIĞI BAŞAKŞEHİR ÇAM VE SAKURA ŞEHİR HASTANESİ', 'ÖZEL MEDİCANA HOSPİTALS BAHÇELİEVLER HASTANESİ': 'ÖZEL MEDİCANA HOSPİTALS BAHÇELİEVLER HASTANESİ', 'ÖZEL DOĞAN HASTANESİ': 'ÖZEL DOĞAN HASTANESİ', 'ÖZEL MEDİSTANBUL HASTANESİ': 'ÖZEL MEDİSTANBUL HASTANESİ', 'ÖZEL GAZİ HASTANESİ': 'ÖZEL GAZİ HASTANESİ', 'ÖZEL TÜRKİYE GAZETESİ HASTANESİ': 'ÖZEL TÜRKİYE GAZETESİ HASTANESİ', 'ÖZEL AKTİF İNTERNATIONAL HOSPİTAL BAHÇELİEVLER HASTANESİ': 'ÖZEL AKTİF İNTERNATIONAL HOSPİTAL BAHÇELİEVLER HASTANESİ', 'ÖZEL KOZYATAĞI CENTRAL HOSPİTAL ATAŞEHİR HASTANESİ': 'ÖZEL KOZYATAĞI CENTRAL HOSPİTAL ATAŞEHİR HASTANESİ', 'ÖZEL ERSOY HASTANESİ': 'ÖZEL ERSOY HASTANESİ', 'ÖZEL MEDİCALPARK ATAŞEHİR HASTANESİ': 'ÖZEL MEDİCALPARK ATAŞEHİR HASTANESİ', 'ÖZEL GAYRETTEPE  FLORENCE NİGHTİNGALE HASTANESİ': 'ÖZEL GAYRETTEPE  FLORENCE NİGHTİNGALE HASTANESİ', 'ÖZEL NP İSTANBUL BEYİN HASTANESİ': 'ÖZEL NP İSTANBUL BEYİN HASTANESİ', 'ÖZEL ESENLER ENSAR HASTANESİ AVİCENNA': 'ÖZEL ESENLER ENSAR HASTANESİ AVİCENNA', 'ÖZEL RAMİ HASTANESİ': 'ÖZEL RAMİ HASTANESİ', 'Özel MEDİPOL Acıbadem Bölge Hastanesi': 'ACIL TIP', 'ÖZEL İSTANBUL HOSPİTAL HASTANESİ': 'ÖZEL İSTANBUL HOSPİTAL HASTANESİ', 'İSTANBUL OKAN ÜNİVERSİTESİ TIP FAKÜLTESİ': 'İSTANBUL OKAN ÜNİVERSİTESİ SAĞLIK UYGULAMA VE ARAŞTIRMA MERKEZİ', '(EK KAMPÜS) PROF. DR. MURAT DİLMENER ACİL DURUM HASTANESİ EK HİZMET BİNASI': 'İSTANBUL ÜNİVERSİTESİ CERRAHPAŞA HASTANESİ', '(EK KAMPÜS ÜSKÜDAR) İSTANBUL MEDİPOL ÜNİVERSİTESİ SAĞLIK EĞİTİM UYGULAMA MERKEZİ': '(EK KAMPÜS ÜSKÜDAR) İSTANBUL MEDİPOL ÜNİVERSİTESİ SAĞLIK EĞİTİM UYGULAMA MERKEZİ', 'ÖZEL İSTANBUL TEMA HASTANESİ': 'ÖZEL İSTANBUL TEMA HASTANESİ', 'TÜRK KIZILAYI ÖZEL KARTAL HASTANESİ': 'TÜRK KIZILAYI ÖZEL KARTAL HASTANESİ', 'T.C. SAĞLIK BAKANLIĞI İSTİNYE DEVLET HASTANESİ': 'T.C. SAĞLIK BAKANLIĞI İSTİNYE DEVLET HASTANESİ', 'ÖZEL BAŞARI HASTANESİ': 'ÖZEL BAŞARI HASTANESİ', 'ÖZEL AVİCENNA  HASTANESİ ATAŞEHİR (ANADOLU ÇINAR)': 'ÖZEL AVİCENNA  HASTANESİ ATAŞEHİR (ANADOLU ÇINAR)', 'ÖZEL AVRASYA HASTANESİ GAZİOSMANPAŞA': 'ÖZEL AVRASYA HASTANESİ GAZİOSMANPAŞA', 'ÖZEL ATAŞEHİR FLORENCE NIGHTINGALE HASTANESİ': 'ÖZEL ATAŞEHİR FLORENCE NIGHTINGALE HASTANESİ', 'ÖZEL ACIBADEM TAKSİM HASTANESİ': 'ÖZEL ACIBADEM TAKSİM HASTANESİ', 'ÖZEL MELTEM  HASTANESİ VE DOĞUM HASTANESİ': 'ÖZEL MELTEM  HASTANESİ VE DOĞUM HASTANESİ', 'İSTANBUL ÜNİVERSİTESİ ONKOLOJİ ENSTİTÜSÜ HASTANESİ': 'İSTANBUL ÜNİVERSİTESİ ONKOLOJİ ENSTİTÜSÜ HASTANESİ', 'ÖZEL OKMEYDANI HASTANESİ': 'ÖZEL OKMEYDANI HASTANESİ', 'ÖZEL ÇAMLIK HASTANESİ': 'ÖZEL ÇAMLIK HASTANESİ', 'İSTANBUL AVRUPA İL AMBULANS SERVİSİ KOMUTA KONTROL MERKEZİ': 'İSTANBUL AYDIN ÜNİVERSİTESİ SAĞLIK UYGULAMA VE ARAŞTIRMA MERKEZİ', 'ÖZEL MERCAN HASTANESİ': 'ÖZEL MERCAN HASTANESİ', '(EK KAMPÜS ESENLER) İSTANBUL MEDİPOL ÜNİVERSİTESİ SAĞLIK EĞİTİM UYGULAMA MERKEZİ': '(EK KAMPÜS ESENLER) İSTANBUL MEDİPOL ÜNİVERSİTESİ SAĞLIK EĞİTİM UYGULAMA MERKEZİ', 'AYDIN ÜNİVERSİTESİ SAĞLIK UYGULAMA VE ARAŞTIRMA MERKEZİ': 'İSTANBUL AYDIN ÜNİVERSİTESİ SAĞLIK UYGULAMA VE ARAŞTIRMA MERKEZİ', 'BEYKENT ÜNİVERSİTESİ TIP FAKÜLTESİ HASTANESİ': 'BEYKENT ÜNİVERSİTESİ TIP FAKÜLTESİ HASTANESİ', 'T.C. SAĞLIK BAKANLIĞI BAŞAKŞEHİR ÇAM VE SAKURA HASTANESİ RUH VE SİNİR HASTALIKLARI HASTANESİ': 'T.C. SAĞLIK BAKANLIĞI BAŞAKŞEHİR ÇAM VE SAKURA ŞEHİR HASTANESİ', 'ÖZEL KÜÇÜKÇEKMECE HASTANESİ': 'ÖZEL KÜÇÜKÇEKMECE HASTANESİ', 'ÖZEL FRANSIZ  LAPE HASTANESİ': 'ÖZEL FRANSIZ  LAPE HASTANESİ', 'ÖZEL HAYAT ŞİFA HASTANESİ': 'ÖZEL HAYAT ŞİFA HASTANESİ', 'ÖZEL KOZYATAĞI CENTRAL HOSPİTAL': 'ÖZEL KOZYATAĞI CENTRAL HOSPİTAL', 'ÖZEL MALTEPE ERSOY HASTANESİ': 'ÖZEL MALTEPE ERSOY HASTANESİ', 'ÖZEL MECİDİYEKÖY ÇEVRE HASTANESİ': 'ÖZEL MECİDİYEKÖY ÇEVRE HASTANESİ', 'ÖZEL MEDİCANA ATAKÖY HASTANESİ': 'ÖZEL MEDİCANA ATAKÖY HASTANESİ', 'ÖZEL A PLUS HASTANESİ': 'ÖZEL A PLUS HASTANESİ', 'ÖZEL ACADEMİC HOSPİTAL HASTANESİ': 'ÖZEL ACADEMİC HOSPİTAL HASTANESİ', 'ÖZEL AİLE HASTANESİ': 'ÖZEL AİLE HASTANESİ', 'ÖZEL AFİYET HASTANESİ': 'ÖZEL AFİYET HASTANESİ', 'ÖZEL ASYA HASTANESİ': 'ÖZEL ASYA HASTANESİ', 'ÖZEL ATLAS HASTANESİ': 'ÖZEL ATLAS HASTANESİ', 'ÖZEL AVRUPA HOSPITAL HASTANESİ': 'ÖZEL AVRUPA HOSPITAL HASTANESİ', 'ÖZEL AVİCENNA  HASTANESİ': 'ÖZEL AVİCENNA  HASTANESİ', 'İSTANBUL İSTİNYE ÜNİVERSİTESİ SAĞLIK UYGULAMA VE ARAŞTIRMA MERKEZİ ÜYTE MERKEZİ': 'İSTANBUL İSTİNYE ÜNİVERSİTESİ SAĞLIK UYGULAMA VE ARAŞTIRMA MERKEZİ', 'BEYKENT ÜNİVERSİTESİ': 'İSTANBUL İSTİNYE ÜNİVERSİTESİ SAĞLIK UYGULAMA VE ARAŞTIRMA MERKEZİ', 'ÖZEL DOKTOR NAZİF BAĞRIAÇIK KADIKÖY HASTANESİ': 'İSTANBUL İSTİNYE ÜNİVERSİTESİ SAĞLIK UYGULAMA VE ARAŞTIRMA MERKEZİ', 'ÖZEL MEDİVİTA İNCİRLİ HASTANESİ': 'İSTANBUL İSTİNYE ÜNİVERSİTESİ SAĞLIK UYGULAMA VE ARAŞTIRMA MERKEZİ', 'ÖZEL GÜNEY HASTANESİ': 'İSTANBUL İSTİNYE ÜNİVERSİTESİ SAĞLIK UYGULAMA VE ARAŞTIRMA MERKEZİ', 'EVE NAKİL': 'İSTANBUL İSTİNYE ÜNİVERSİTESİ SAĞLIK UYGULAMA VE ARAŞTIRMA MERKEZİ', 'AYDIN ÜNİVERSİTESİ SAĞLIK UYGULAMA VE ARAŞTIRMA HASTANESİ': 'İSTANBUL İSTİNYE ÜNİVERSİTESİ SAĞLIK UYGULAMA VE ARAŞTIRMA MERKEZİ', 'ÖZEL MEGAPOL HASTANESİ': 'İSTANBUL İSTİNYE ÜNİVERSİTESİ SAĞLIK UYGULAMA VE ARAŞTIRMA MERKEZİ', 'ÖZEL DOĞA HOSPİTAL HASTANESİ': 'İSTANBUL İSTİNYE ÜNİVERSİTESİ SAĞLIK UYGULAMA VE ARAŞTIRMA MERKEZİ', 'T.C. SAĞLIK BAKANLIĞI BAŞAKŞEHİR ÇAM VE SAKURA ŞEHİR HASTANESİ KALP VE DAMAR HASTANESİ': 'İSTANBUL İSTİNYE ÜNİVERSİTESİ SAĞLIK UYGULAMA VE ARAŞTIRMA MERKEZİ', 'ÖZEL İSTANBUL ŞAFAK HASTANESİ': 'İSTANBUL İSTİNYE ÜNİVERSİTESİ SAĞLIK UYGULAMA VE ARAŞTIRMA MERKEZİ', 'T.C. SAĞLIK BAKANLIĞI BAŞAKŞEHİR ÇAM VE SAKURA HASTANESİ ÇOCUK HASTANESİ': 'İSTANBUL İSTİNYE ÜNİVERSİTESİ SAĞLIK UYGULAMA VE ARAŞTIRMA MERKEZİ', 'ÖZEL MEDAR ATAŞEHİR HASTANESİ': 'İSTANBUL İSTİNYE ÜNİVERSİTESİ SAĞLIK UYGULAMA VE ARAŞTIRMA MERKEZİ', 'ÖZEL GÖZTEPE HASTANESİ': 'İSTANBUL İSTİNYE ÜNİVERSİTESİ SAĞLIK UYGULAMA VE ARAŞTIRMA MERKEZİ', 'İSTANBUL ÜNİVERSİTESİ -CERRAHPAŞA KARDİYOLOJİ ENSTİTÜSÜ HASTANESİ': 'İSTANBUL İSTİNYE ÜNİVERSİTESİ SAĞLIK UYGULAMA VE ARAŞTIRMA MERKEZİ', 'İSTANBUL PENDİK DEVLET HASTANESİ KAYNARCA SEMT POLİKLİNİĞİ': 'İSTANBUL İSTİNYE ÜNİVERSİTESİ SAĞLIK UYGULAMA VE ARAŞTIRMA MERKEZİ', 'ÖZEL BALAT  OR-AHAYİM MUSEVİ HASTANESİ  VAKFI İKTİSADİ İŞLETMESİ HASTANESİ': 'İSTANBUL İSTİNYE ÜNİVERSİTESİ SAĞLIK UYGULAMA VE ARAŞTIRMA MERKEZİ', 'İSTANBUL ATLAS ÜNİVERSİTESİ TIP FAKÜLTESİ HASTANESİ': 'İSTANBUL İSTİNYE ÜNİVERSİTESİ SAĞLIK UYGULAMA VE ARAŞTIRMA MERKEZİ', 'ÖZEL AKSU GÖZTEPE HASTANESİ': 'İSTANBUL İSTİNYE ÜNİVERSİTESİ SAĞLIK UYGULAMA VE ARAŞTIRMA MERKEZİ', 'ÖZEL İSTANBUL ONKOLOJİ HASTANESİ': 'İSTANBUL İSTİNYE ÜNİVERSİTESİ SAĞLIK UYGULAMA VE ARAŞTIRMA MERKEZİ', 'ÖZEL MEDİCANA ZİNCİRLİKUYU HASTANESİ': 'İSTANBUL İSTİNYE ÜNİVERSİTESİ SAĞLIK UYGULAMA VE ARAŞTIRMA MERKEZİ', 'T.C. SAĞLIK BAKANLIĞI BAŞAKŞEHİR ÇAM VE SAKURA ŞEHİR HASTANESİ KADIN DOĞUM HASTANESİ': 'İSTANBUL İSTİNYE ÜNİVERSİTESİ SAĞLIK UYGULAMA VE ARAŞTIRMA MERKEZİ', 'T.C. SAĞLIK BAKANLIĞI BAŞAKŞEHİR ÇAM VE SAKURA HASTANESİ ONKOLOJİ HASTANESİ': 'İSTANBUL İSTİNYE ÜNİVERSİTESİ SAĞLIK UYGULAMA VE ARAŞTIRMA MERKEZİ', 'ÖZEL BAYINDIR İÇERENKÖY HASTANESİ': 'İSTANBUL İSTİNYE ÜNİVERSİTESİ SAĞLIK UYGULAMA VE ARAŞTIRMA MERKEZİ', 'YEŞİLKÖY PROF.DR.MURAT DİLMENER ACİL DURUM HASTANESİ EK HİZMET BİNASI': 'İSTANBUL İSTİNYE ÜNİVERSİTESİ SAĞLIK UYGULAMA VE ARAŞTIRMA MERKEZİ', 'Ö ACIBADEM ATAŞEHİR HASTANESİ': 'İSTANBUL İSTİNYE ÜNİVERSİTESİ SAĞLIK UYGULAMA VE ARAŞTIRMA MERKEZİ', 'ÖZEL İKİTELLİ BAHAT HASTANESİ': 'İSTANBUL İSTİNYE ÜNİVERSİTESİ SAĞLIK UYGULAMA VE ARAŞTIRMA MERKEZİ', 'ÖZEL İSTANBUL BALIKLI RUM HASTANESİ': 'İSTANBUL İSTİNYE ÜNİVERSİTESİ SAĞLIK UYGULAMA VE ARAŞTIRMA MERKEZİ', 'İSTANBUL ÖZEL MEMORİAL HİZMET HASTANESİ': 'İSTANBUL İSTİNYE ÜNİVERSİTESİ SAĞLIK UYGULAMA VE ARAŞTIRMA MERKEZİ', '(EK KAMPÜS BEYLİKDÜZÜ) İSTANBUL T.C. SB KANUNİ SULTAN SÜLEYMAN EAH': 'İSTANBUL İSTİNYE ÜNİVERSİTESİ SAĞLIK UYGULAMA VE ARAŞTIRMA MERKEZİ', 'T.C. SAĞLIK BAKANLIĞI KOCAELİ ŞEHİR HASTANESİ': 'İSTANBUL İSTİNYE ÜNİVERSİTESİ SAĞLIK UYGULAMA VE ARAŞTIRMA MERKEZİ', 'T.C. SAĞLIK BAKANLIĞI BAŞAKŞEHİR ÇAM VE SAKURA HASTANESİ FİZİK TEDAVİ VE REHABİLİTASYON HASTANESİ': 'İSTANBUL İSTİNYE ÜNİVERSİTESİ SAĞLIK UYGULAMA VE ARAŞTIRMA MERKEZİ', 'FATİH SULTAN MEHMET EĞİTİM VE ARAŞTIRMA HASTANESİ HEMODİYALİZ MERKEZİ': 'İSTANBUL İSTİNYE ÜNİVERSİTESİ SAĞLIK UYGULAMA VE ARAŞTIRMA MERKEZİ', 'BEYKOZ DEVLET HASTANESİ DİYALİZ MERKEZİ': 'İSTANBUL İSTİNYE ÜNİVERSİTESİ SAĞLIK UYGULAMA VE ARAŞTIRMA MERKEZİ', 'T.C. SAĞLIK BAKANLIĞI BEYOĞLU GÖZ EĞİTİM VE ARAŞTIRMA HASTANESİ': 'İSTANBUL İSTİNYE ÜNİVERSİTESİ SAĞLIK UYGULAMA VE ARAŞTIRMA MERKEZİ', 'ÖZEL MEDİCANA HOSPİTALS ÇAMLICA DİYALİZ MERKEZİ': 'İSTANBUL İSTİNYE ÜNİVERSİTESİ SAĞLIK UYGULAMA VE ARAŞTIRMA MERKEZİ', 'ÖZEL MEDİCANA HOSPİTALS AVCILAR DİYALİZ MERKEZİ': 'İSTANBUL İSTİNYE ÜNİVERSİTESİ SAĞLIK UYGULAMA VE ARAŞTIRMA MERKEZİ', 'İSTANBUL ÜNİVERSİTESİ -CERRAHPAŞA HASTANESİ ERİŞKİN DİYALİZ MERKEZİ': 'İSTANBUL İSTİNYE ÜNİVERSİTESİ SAĞLIK UYGULAMA VE ARAŞTIRMA MERKEZİ', 'İSTANBUL ÜNİVERSİTESİ İSTANBUL TIP FAKÜLTESİ HEMODİYALİZ VE PERİTON DİYALİZ MERKEZİ': 'İSTANBUL İSTİNYE ÜNİVERSİTESİ SAĞLIK UYGULAMA VE ARAŞTIRMA MERKEZİ', 'T.C. SAĞLIK BAKANLIĞI ÇORLU DEVLET HASTANESİ': 'İSTANBUL İSTİNYE ÜNİVERSİTESİ SAĞLIK UYGULAMA VE ARAŞTIRMA MERKEZİ', 'YEDİKULE SURP PIRGİÇ ERMENİ HASTANESİ ': 'İSTANBUL İSTİNYE ÜNİVERSİTESİ SAĞLIK UYGULAMA VE ARAŞTIRMA MERKEZİ', 'T.C. SAĞLIK BAKANLIĞI BAĞCILAR AĞIZ VE DİŞ SAĞLIĞI HASTANESİ': 'İSTANBUL İSTİNYE ÜNİVERSİTESİ SAĞLIK UYGULAMA VE ARAŞTIRMA MERKEZİ', 'ÖZEL TÜRKMED KARTAL DİYALİZ MERKEZİ': 'İSTANBUL İSTİNYE ÜNİVERSİTESİ SAĞLIK UYGULAMA VE ARAŞTIRMA MERKEZİ', 'İSTANBUL ÜNİVERSİTESİ KARDİYOLOJİ ENSTİTÜSÜ HASTANESİ': 'İSTANBUL İSTİNYE ÜNİVERSİTESİ SAĞLIK UYGULAMA VE ARAŞTIRMA MERKEZİ', 'ÖZEL ÇAMLICA MEDİCANA TIP MERKEZİ': 'İSTANBUL İSTİNYE ÜNİVERSİTESİ SAĞLIK UYGULAMA VE ARAŞTIRMA MERKEZİ', 'İSTANBUL OKAN ÜNİVERSİTESİ DİŞ HEKİMLİĞİ FAKÜLTES EĞİTİM VE UYGULAMA  MERKEZİ': 'İSTANBUL İSTİNYE ÜNİVERSİTESİ SAĞLIK UYGULAMA VE ARAŞTIRMA MERKEZİ', 'İL DIŞI': 'İSTANBUL İSTİNYE ÜNİVERSİTESİ SAĞLIK UYGULAMA VE ARAŞTIRMA MERKEZİ', 'İNÖNÜ ÜNİVERSİTESİ TURGUT ÖZAL  HASTANESİ': 'İSTANBUL İSTİNYE ÜNİVERSİTESİ SAĞLIK UYGULAMA VE ARAŞTIRMA MERKEZİ', 'İSTANBUL KARTAL DR.LÜTFİ KIRDAR ŞEHİR  HASTANESİ PENDİK SEMT POLİKLİNİĞİ': 'İSTANBUL İSTİNYE ÜNİVERSİTESİ SAĞLIK UYGULAMA VE ARAŞTIRMA MERKEZİ', 'İSTANBUL BAKIRKÖY DR.SADİ KONUK EĞİTİM VE ARAŞTIRMA HASTANESİ BAHÇELİEVLER SEMT POLİKLİNİĞİ': 'İSTANBUL İSTİNYE ÜNİVERSİTESİ SAĞLIK UYGULAMA VE ARAŞTIRMA MERKEZİ', 'İSTANBUL BAŞKENT ÜNİVERSİTESİ HEMODİYALİZ VE PERİTON DİYALİZ MERKEZİ': 'İSTANBUL İSTİNYE ÜNİVERSİTESİ SAĞLIK UYGULAMA VE ARAŞTIRMA MERKEZİ', 'İSTANBUL EYÜP DEVLET HASTANESİ ALİBEYKÖY SEMT POLİKLİNİĞİ': 'İSTANBUL İSTİNYE ÜNİVERSİTESİ SAĞLIK UYGULAMA VE ARAŞTIRMA MERKEZİ', 'T.C. SAĞLIK BAKANLIĞI ANTALYA ATATÜRK DEVLET HASTANESİ': 'İSTANBUL İSTİNYE ÜNİVERSİTESİ SAĞLIK UYGULAMA VE ARAŞTIRMA MERKEZİ', 'T.C. SAĞLIK BAKANLIĞI ADANA ŞEHİR HASTANESİ': 'İSTANBUL İSTİNYE ÜNİVERSİTESİ SAĞLIK UYGULAMA VE ARAŞTIRMA MERKEZİ', 'T.C. SAĞLIK BAKANLIĞI  ATAŞEHİR AĞIZ VE DİŞ SAĞLIĞI HASTANESİ': 'İSTANBUL İSTİNYE ÜNİVERSİTESİ SAĞLIK UYGULAMA VE ARAŞTIRMA MERKEZİ', 'SARIYER İSMAİL AKGÜN EK HİZMET BİNASI': 'İSTANBUL İSTİNYE ÜNİVERSİTESİ SAĞLIK UYGULAMA VE ARAŞTIRMA MERKEZİ', 'PROF.DR. CEMİL TAŞCIOĞLU ŞEHİR HASTANESİ HEMODİYALİZ VE PERİTON DİYALİZ MERKEZİ': 'İSTANBUL İSTİNYE ÜNİVERSİTESİ SAĞLIK UYGULAMA VE ARAŞTIRMA MERKEZİ', 'PENDİK DEVLET HASTANESİ KAYNARCA SEMT POLİKLİNİĞİ DİYALİZ MERKEZİ': 'İSTANBUL İSTİNYE ÜNİVERSİTESİ SAĞLIK UYGULAMA VE ARAŞTIRMA MERKEZİ', 'NAMIK KEMAL ÜNİVERSİTESİ HASTANESİ': 'İSTANBUL İSTİNYE ÜNİVERSİTESİ SAĞLIK UYGULAMA VE ARAŞTIRMA MERKEZİ', 'KANUNİ SULTAN SÜLEYMAN EĞİTİM VE ARAŞTIRMA HASTANESİ ÇOCUK PERİTON MERKEZİ': 'İSTANBUL İSTİNYE ÜNİVERSİTESİ SAĞLIK UYGULAMA VE ARAŞTIRMA MERKEZİ', 'BAŞAKŞEHİR ÇAM VE SAKURA ŞEHİR HASTANESİ ÇOCUK HEMODİYALİZ VE PERİTON DİYALİZ MERKEZİ': 'İSTANBUL İSTİNYE ÜNİVERSİTESİ SAĞLIK UYGULAMA VE ARAŞTIRMA MERKEZİ', 'T.C. SAĞLIK BAKANLIĞI YALOVA DEVLET HASTANESİ': 'İSTANBUL İSTİNYE ÜNİVERSİTESİ SAĞLIK UYGULAMA VE ARAŞTIRMA MERKEZİ', 'ÖZEL BOĞAZİÇİ DİYALİZ MERKEZİ': 'İSTANBUL İSTİNYE ÜNİVERSİTESİ SAĞLIK UYGULAMA VE ARAŞTIRMA MERKEZİ', 'ÖZEL BİLGE HASTANESİ': 'İSTANBUL İSTİNYE ÜNİVERSİTESİ SAĞLIK UYGULAMA VE ARAŞTIRMA MERKEZİ', 'T.C. SAĞLIK BAKANLIĞI SULTANBEYLİ DEVLET HASTANESİ TACİRLER EĞİTİM VAKFI SULTANBEYLİ SEMT POLİKLİNİĞ': 'İSTANBUL İSTİNYE ÜNİVERSİTESİ SAĞLIK UYGULAMA VE ARAŞTIRMA MERKEZİ', 'T.C.SAĞLIK BAKANLIĞI ARNAVUTKÖY DEVLET HASTANESİ HADIMKÖY SEMT POLİKLİNİĞİ': 'İSTANBUL İSTİNYE ÜNİVERSİTESİ SAĞLIK UYGULAMA VE ARAŞTIRMA MERKEZİ', 'T.C. SAĞLIK BAKANLIĞI DARICA FARABİ EĞİTİM VE ARAŞTIRMA HASTANESİ': 'İSTANBUL İSTİNYE ÜNİVERSİTESİ SAĞLIK UYGULAMA VE ARAŞTIRMA MERKEZİ', 'ÖZEL MEDİPOL MEGA HASTANELERİ KOMPLEKSİ HİPERBARİK OKSİJEN TEDAVİ MERKEZİ': 'İSTANBUL İSTİNYE ÜNİVERSİTESİ SAĞLIK UYGULAMA VE ARAŞTIRMA MERKEZİ', 'ÖZEL OTA-JİNEMED HASTANESİ': 'İSTANBUL İSTİNYE ÜNİVERSİTESİ SAĞLIK UYGULAMA VE ARAŞTIRMA MERKEZİ', 'ÖZEL DİYA CENTER SİLİVRİ  DİYALİZ MERKEZİ': 'İSTANBUL İSTİNYE ÜNİVERSİTESİ SAĞLIK UYGULAMA VE ARAŞTIRMA MERKEZİ', 'ÖZEL ERDEM TIP MERKEZİ': 'İSTANBUL İSTİNYE ÜNİVERSİTESİ SAĞLIK UYGULAMA VE ARAŞTIRMA MERKEZİ', 'ÖZEL ERKLİ DİYALİZ MERKEZİ': 'İSTANBUL İSTİNYE ÜNİVERSİTESİ SAĞLIK UYGULAMA VE ARAŞTIRMA MERKEZİ', 'ÖZEL GÖZTEPE AYMED HİPERBARİK OKSİJEN TEDAVİ MERKEZİ': 'İSTANBUL İSTİNYE ÜNİVERSİTESİ SAĞLIK UYGULAMA VE ARAŞTIRMA MERKEZİ', 'T.C. SAĞLIK BAKANLIĞI KAĞITHANE DEVLET HASTANESİ': 'İSTANBUL İSTİNYE ÜNİVERSİTESİ SAĞLIK UYGULAMA VE ARAŞTIRMA MERKEZİ', 'ÖZEL HALKALI KENT HASTANESİ': 'İSTANBUL İSTİNYE ÜNİVERSİTESİ SAĞLIK UYGULAMA VE ARAŞTIRMA MERKEZİ', 'T.C. SAĞLIK BAKANLIĞI HAVZA DEVLET HASTANESİ': 'İSTANBUL İSTİNYE ÜNİVERSİTESİ SAĞLIK UYGULAMA VE ARAŞTIRMA MERKEZİ'}\n",
        "\"\"\""
      ],
      "metadata": {
        "id": "0iTxtwqZi2K4"
      },
      "execution_count": null,
      "outputs": []
    },
    {
      "cell_type": "code",
      "source": [
        "print(presidency_keyword)"
      ],
      "metadata": {
        "id": "4V_0EAidiRuM"
      },
      "execution_count": null,
      "outputs": []
    },
    {
      "cell_type": "code",
      "source": [
        "# PRESIDENCY KEYWORD\n",
        "\"\"\"\n",
        "{'T.C. SAĞLIK BAKANLIĞI SANCAKTEPE ŞEHİT PROF. DR. İLHAN VARANK EĞİTİM VE ARAŞTIRMA HASTANESİ': '2.BAŞKANLIK', '(EK KAMPÜS) SEYRANTEPE HAMİDİYE ETFAL EK HİZMET BİNASI': '4.BAŞKANLIK', 'T.C. SAĞLIK BAKANLIĞI ÜMRANİYE EĞİTİM VE ARAŞTIRMA HASTANESİ': '2.BAŞKANLIK', 'T.C. SAĞLIK BAKANLIĞI İSTANBUL PROF. DR. CEMİL TAŞCIOĞLU ŞEHİR HASTANESİ': '4.BAŞKANLIK', 'T.C. SAĞLIK BAKANLIĞI MARMARA ÜNİVERSİTESİ PENDİK EĞİTİM VE ARAŞTIRMA HASTANESİ': '1.BAŞKANLIK', 'T.C. SAĞLIK BAKANLIĞI KARTAL DR. LÜTFİ KIRDAR ŞEHİR HASTANESİ': '1.BAŞKANLIK', 'T.C. SAĞLIK BAKANLIĞI BAĞCILAR EĞİTİM VE ARAŞTIRMA HASTANESİ': '3.BAŞKANLIK', 'T.C. SAĞLIK BAKANLIĞI GÖZTEPE PROF. DR. SÜLEYMAN YALÇIN ŞEHİR HASTANESİ': '2.BAŞKANLIK', 'T.C. SAĞLIK BAKANLIĞI BAKIRKÖY DR. SADİ KONUK EĞİTİM VE ARAŞTIRMA HASTANESİ': '3.BAŞKANLIK', 'T.C. SAĞLIK BAKANLIĞI İSTANBUL KANUNİ SULTAN SÜLEYMAN EĞİTİM VE ARAŞTIRMA HASTANESİ': '6.BAŞKANLIK', 'T.C. SAĞLIK BAKANLIĞI BAŞAKŞEHİR ÇAM VE SAKURA ŞEHİR HASTANESİ': '6.BAŞKANLIK', 'T.C. SAĞLIK BAKANLIĞI İSTANBUL FATİH SULTAN MEHMET EĞİTİM VE ARAŞTIRMA HASTANESİ': '2.BAŞKANLIK', 'T.C. SAĞLIK BAKANLIĞI GAZİOSMANPAŞA EĞİTİM VE ARAŞTIRMA HASTANESİ': '5.BAŞKANLIK', 'T.C. SAĞLIK BAKANLIĞI SİLİVRİ DEVLET HASTANESİ': '6.BAŞKANLIK', 'T.C. SAĞLIK BAKANLIĞI İSTANBUL EĞİTİM VE ARAŞTIRMA HASTANESİ': '5.BAŞKANLIK', 'T.C. SAĞLIK BAKANLIĞI ESENYURT NECMİ KADIOĞLU DEVLET HASTANESİ': '6.BAŞKANLIK', 'T.C. SAĞLIK BAKANLIĞI BEYLİKDÜZÜ DEVLET HASTANESİ': '6.BAŞKANLIK', 'T.C. SAĞLIK BAKANLIĞI SULTANBEYLİ DEVLET HASTANESİ': '1.BAŞKANLIK', 'T.C. SAĞLIK BAKANLIĞI ŞİLE DEVLET HASTANESİ': '2.BAŞKANLIK', '(EK KAMPÜS SULTANGAZİ) T.C. SAĞLIK BAKANLIĞI SBÜ İSTANBUL HASEKİ EĞİTİM VE ARAŞTIRMA HASTANESİ': '5.BAŞKANLIK', 'T.C. SAĞLIK BAKANLIĞI ARNAVUTKÖY DEVLET HASTANESİ': '5.BAŞKANLIK', '(EK KAMPÜS) PROF. DR. ASAF ATASEVEN EK HİZMET BİNASI': '1.BAŞKANLIK', 'T.C. SAĞLIK BAKANLIĞI BÜYÜKÇEKMECE MİMAR SİNAN DEVLET HASTANESİ': '6.BAŞKANLIK', 'T.C. SAĞLIK BAKANLIĞI İSTANBUL SULTAN 2. ABDÜLHAMİD HAN EĞİTİM VE ARAŞTIRMA HASTANESİ': '2.BAŞKANLIK', 'T.C. SAĞLIK BAKANLIĞI BEYKOZ DEVLET HASTANESİ': '2.BAŞKANLIK', 'T.C. SAĞLIK BAKANLIĞI AVCILAR MURAT KÖLÜK DEVLET HASTANESİ': '6.BAŞKANLIK', 'T.C. SAĞLIK BAKANLIĞI TAKSİM EĞİTİM VE ARAŞTIRMA HASTANESİ': '4.BAŞKANLIK', 'T.C. SAĞLIK BAKANLIĞI TUZLA DEVLET HASTANESİ': '1.BAŞKANLIK', 'İSTANBUL BEZMİALEM VAKIF ÜNİVERSİTESİ SAĞLIK UYGULAMA VE ARAŞTIRMA MERKEZİ': 'BAĞLI OLDUĞU BAŞKANLIK BULUNMAYAN', 'T.C. SAĞLIK BAKANLIĞI ÇATALCA İLYAS ÇOKAY DEVLET HASTANESİ': '6.BAŞKANLIK', 'T.C. SAĞLIK BAKANLIĞI BAHÇELİEVLER DEVLET HASTANESİ': '3.BAŞKANLIK', 'T.C. SAĞLIK BAKANLIĞI İSTANBUL YEDİKULE GÖĞÜS HASTALIKLARI VE GÖĞÜS CERRAHİSİ EAH': '5.BAŞKANLIK', 'ÖZEL BEYKENT HASTANESİ': 'BAĞLI OLDUĞU BAŞKANLIK BULUNMAYAN', 'T.C. SAĞLIK BAKANLIĞI İSTANBUL HAYDARPAŞA NUMUNE EĞİTİM VE ARAŞTIRMA HASTANESİ': '2.BAŞKANLIK', '(EK KAMPÜS) SARIYER HAMİDİYE ETFAL EK HİZMET BİNASI': '4.BAŞKANLIK', 'YENİ YÜZYIL ÜNİVERSİTESİ ÖZEL GAZİOSMANPAŞA HASTANESİ': 'BAĞLI OLDUĞU BAŞKANLIK BULUNMAYAN', 'İSTANBUL BİRUNİ ÜNİVERSİTESİ SAĞLIK EĞİTİMİ UYGULAMA VE ARAŞTIRMA MERKEZİ': 'BAĞLI OLDUĞU BAŞKANLIK BULUNMAYAN', 'ÖZEL ACIBADEM ATAŞEHİR HASTANESİ': 'BAĞLI OLDUĞU BAŞKANLIK BULUNMAYAN', 'T.C. SAĞLIK BAKANLIĞI PENDİK DEVLET HASTANESİ': '1.BAŞKANLIK', 'İSTANBUL İSTİNYE ÜNİVERSİTESİ SAĞLIK UYGULAMA VE ARAŞTIRMA MERKEZİ': 'BAĞLI OLDUĞU BAŞKANLIK BULUNMAYAN', 'ÖZEL MEDİCANA İNTERNATİONAL  İSTANBUL HASTANESİ': 'BAĞLI OLDUĞU BAŞKANLIK BULUNMAYAN', 'ÖZEL REYAP İSTANBUL HASTANESİ': 'BAĞLI OLDUĞU BAŞKANLIK BULUNMAYAN', 'ÖZEL SİLİVRİ ANADOLU HASTANESİ': 'BAĞLI OLDUĞU BAŞKANLIK BULUNMAYAN', 'ÖZEL ESENCAN HASTANESİ': 'BAĞLI OLDUĞU BAŞKANLIK BULUNMAYAN', 'ÖZEL MEMORİAL ŞİŞLİ HASTANESİ': 'BAĞLI OLDUĞU BAŞKANLIK BULUNMAYAN', 'İSTANBUL ÜNİVERSİTESİ': 'BAĞLI OLDUĞU BAŞKANLIK BULUNMAYAN', 'İSTANBUL KOÇ ÜNİVERSİTESİ SAĞLIK EĞİTİM VE UYGULAMA MERKEZİ': 'BAĞLI OLDUĞU BAŞKANLIK BULUNMAYAN', 'T.C. SAĞLIK BAKANLIĞI BAŞAKŞEHİR DEVLET HASTANESİ': '6.BAŞKANLIK', 'ÖZEL MEMORİAL BAHÇELİEVLER HASTANESİ': 'BAĞLI OLDUĞU BAŞKANLIK BULUNMAYAN', 'ÖZEL İSTANBUL MEDİCİNE HOSPİTAL HASTANESİ': 'BAĞLI OLDUĞU BAŞKANLIK BULUNMAYAN', 'T.C. SAĞLIK BAKANLIĞI İSTANBUL SÜREYYAPAŞA GÖĞÜS HASTALIKLARI VE GÖĞÜS CERRAHİSİ EAH': '1.BAŞKANLIK', 'ÖZEL ACIBADEM MASLAK HASTANESİ': 'BAĞLI OLDUĞU BAŞKANLIK BULUNMAYAN', 'ÖZEL EMSEY HOSPİTAL HASTANESİ': 'BAĞLI OLDUĞU BAŞKANLIK BULUNMAYAN', 'T.C. SAĞLIK BAKANLIĞI BAYRAMPAŞA DEVLET HASTANESİ': '5.BAŞKANLIK', 'İSTANBUL ÜNİVERSİTESİ İSTANBUL  HASTANESİ': 'BAĞLI OLDUĞU BAŞKANLIK BULUNMAYAN', 'T.C. SAĞLIK BAKANLIĞI ERENKÖY RUH VE SİNİR HASTALIKLARI EĞİTİM VE ARAŞTIRMA HASTANESİ': '2.BAŞKANLIK', '(EK KAMPÜS GAZİOSMANPAŞA) İSTANBUL İSTİNYE ÜNİVERSİTESİ SAĞLIK UYGULAMA VE ARAŞTIRMA MERKEZİ': 'BAĞLI OLDUĞU BAŞKANLIK BULUNMAYAN', 'ÖZEL ACIBADEM ALTUNİZADE HASTANESİ': 'BAĞLI OLDUĞU BAŞKANLIK BULUNMAYAN', 'İSTANBUL ÜNİVERSİTESİ İSTANBUL HASTANESİ': 'BAĞLI OLDUĞU BAŞKANLIK BULUNMAYAN', 'ÖZEL LOKMAN HEKİM İSTANBUL HASTANESİ': 'BAĞLI OLDUĞU BAŞKANLIK BULUNMAYAN', 'ACIBADEM ÜNİVERSİTESİ ÖZEL ACIBADEM ATAKENT HASTANESİ': 'BAĞLI OLDUĞU BAŞKANLIK BULUNMAYAN', 'T.C. SAĞLIK BAKANLIĞI İSTANBUL BALTALİMANI METİN SABANCI KEMİK HASTALIKLARI EAH': '4.BAŞKANLIK', 'T.C. SAĞLIK BAKANLIĞI EYÜPSULTAN DEVLET HASTANESİ': '4.BAŞKANLIK', 'ÖZEL MEDİCANA HOSPİTALS AVCILAR': 'BAĞLI OLDUĞU BAŞKANLIK BULUNMAYAN', 'ÖZEL AVRUPA ŞAFAK HASTANESİ': 'BAĞLI OLDUĞU BAŞKANLIK BULUNMAYAN', 'T.C. SAĞLIK BAKANLIĞI İSTANBUL ZEYNEP KAMİL KADIN VE ÇOCUK HASTALIKLARI EAH': '2.BAŞKANLIK', 'T.C. SAĞLIK BAKANLIĞI İSTANBUL PROF. DR. MAZHAR OSMAN RUH SAĞLIĞI VE SİNİR HASTALIKLARI EAH': '3.BAŞKANLIK', 'T.C. SAĞLIK BAKANLIĞI KARTAL KOŞUYOLU YÜKSEK İHTİSAS EĞİTİM VE ARAŞTIRMA HASTANESİ': '1.BAŞKANLIK', 'ÖZEL AVCILAR HOSPİTAL': 'BAĞLI OLDUĞU BAŞKANLIK BULUNMAYAN', 'ÖZEL BÜYÜKÇEKMECE KOLAN HOSPİTAL HASTANESİ': 'BAĞLI OLDUĞU BAŞKANLIK BULUNMAYAN', '(EK KAMPÜS ZEYTİNBURNU) T.C. SAĞLIK BAKANLIĞI SBÜ İSTANBUL EĞİTİM VE ARAŞTIRMA HASTANESİ': '5.BAŞKANLIK', 'ÖZEL SAYGI HASTANESİ': 'BAĞLI OLDUĞU BAŞKANLIK BULUNMAYAN', 'ÖZEL MEDİPOL MEGA HASTANELER KOMPLEKSİ': 'BAĞLI OLDUĞU BAŞKANLIK BULUNMAYAN', 'İSTANBUL ÜNİVERSİTESİ CERRAHPAŞA HASTANESİ': 'BAĞLI OLDUĞU BAŞKANLIK BULUNMAYAN', 'İSTANBUL AYDIN ÜNİVERSİTESİ SAĞLIK UYGULAMA VE ARAŞTIRMA MERKEZİ': 'BAĞLI OLDUĞU BAŞKANLIK BULUNMAYAN', 'ÖZEL MEDİCANA HOSPİTALS ÇAMLICA HASTANESİ': 'BAĞLI OLDUĞU BAŞKANLIK BULUNMAYAN', 'ÖZEL İSTANBUL BÖLGE  HASTANESİ': 'BAĞLI OLDUĞU BAŞKANLIK BULUNMAYAN', 'ÖZEL MEMORİAL ATAŞEHİR HASTANESİ': 'BAĞLI OLDUĞU BAŞKANLIK BULUNMAYAN', 'ÖZEL ERDEM HASTANESİ': 'BAĞLI OLDUĞU BAŞKANLIK BULUNMAYAN', 'ÖZEL BAYRAMPAŞA KOLAN HOSPITAL HASTANESİ': 'BAĞLI OLDUĞU BAŞKANLIK BULUNMAYAN', 'ÖZEL BİRİNCİ HASTANESİ': 'BAĞLI OLDUĞU BAŞKANLIK BULUNMAYAN', 'ÖZEL MEDİCANA ATAŞEHİR HASTANESİ': 'BAĞLI OLDUĞU BAŞKANLIK BULUNMAYAN', 'ÖZEL MEDİCAL PARK GÖZTEPE HASTANESİ KOMPLEKSİ (GENEL HASTANE-KANSER HASTANESİ-AĞIZ VE DİŞ HASTANESİ)': 'BAĞLI OLDUĞU BAŞKANLIK BULUNMAYAN', 'İSTANBUL OKAN ÜNİVERSİTESİ SAĞLIK UYGULAMA VE ARAŞTIRMA MERKEZİ': 'BAĞLI OLDUĞU BAŞKANLIK BULUNMAYAN', 'ÖZEL MEDİSTATE KAVACIK HASTANESİ': 'BAĞLI OLDUĞU BAŞKANLIK BULUNMAYAN', 'ÖZEL BAĞCILAR MEDİLİFE HASTANESİ': 'BAĞLI OLDUĞU BAŞKANLIK BULUNMAYAN', 'ÖZEL MEDIVIA HOSPITAL HASTANESİ': 'BAĞLI OLDUĞU BAŞKANLIK BULUNMAYAN', 'ÖZEL YENİBOSNA SAFA HASTANESİ': 'BAĞLI OLDUĞU BAŞKANLIK BULUNMAYAN', '(EK KAMPÜS ÇEKMEKÖY) T.C. SAĞLIK BAKANLIĞI SANCAKTEPE ŞEHİT PROF. DR. İLHAN VARANK EAH': '2.BAŞKANLIK', 'İSTANBUL MALTEPE ÜNİVERSİTESİ TIP FAKÜLTESİ HASTANESİ': 'BAĞLI OLDUĞU BAŞKANLIK BULUNMAYAN', 'ÖZEL AVCILAR ANADOLU HASTANESİ': 'BAĞLI OLDUĞU BAŞKANLIK BULUNMAYAN', 'ÖZEL GÜNGÖREN HASTANESİ': 'BAĞLI OLDUĞU BAŞKANLIK BULUNMAYAN', 'ÖZEL VM MEDİCALPARK PENDİK HASTANESİ': 'BAĞLI OLDUĞU BAŞKANLIK BULUNMAYAN', 'ÖZEL ÇAMLICA ERDEM HASTANESİ': 'BAĞLI OLDUĞU BAŞKANLIK BULUNMAYAN', 'T.C. SAĞLIK BAKANLIĞI İSTANBUL DR. SİYAMİ ERSEK GÖĞÜS KALP VE DAMAR CERRAHİSİ EAH': '2.BAŞKANLIK', 'ÖZEL MEDİCANA KADIKÖY HASTANESİ': 'BAĞLI OLDUĞU BAŞKANLIK BULUNMAYAN', 'ÖZEL KURTKÖY ERSOY HASTANESİ': 'BAĞLI OLDUĞU BAŞKANLIK BULUNMAYAN', 'ÖZEL ACIBADEM BAKIRKÖY HASTANESİ': 'BAĞLI OLDUĞU BAŞKANLIK BULUNMAYAN', 'İSTANBUL YEDİTEPE ÜNİVERSİTESİ SAĞLIK HİZMETLERİ EĞİTİM ARAŞTIRMA VE UYGULAMA MERKEZİ': 'BAĞLI OLDUĞU BAŞKANLIK BULUNMAYAN', '(EK KAMPÜS) PROF. DR. FERİHA ÖZ ACİL DURUM HASTANESİ EK HİZMET BİNASI ': '2.BAŞKANLIK', 'ÖZEL ŞAFAK HASTANESİ BAĞCILAR': 'BAĞLI OLDUĞU BAŞKANLIK BULUNMAYAN', 'ÖZEL BEYLİKDÜZÜ KOLAN HOSPİTAL HASTANESİ': 'BAĞLI OLDUĞU BAŞKANLIK BULUNMAYAN', 'T.C. SAĞLIK BAKANLIĞI İSTANBUL İSTİNYE DEVLET HASTANESİ': '4.BAŞKANLIK', '(EK KAMPÜS MALTEPE) İSTANBUL BEZMİALEM VAKIF ÜNİVERSİTESİ SAĞLIK UYGULAMA VE ARAŞTIRMA MERKEZİ DRAGOS HASTANESİ': 'BAĞLI OLDUĞU BAŞKANLIK BULUNMAYAN', 'ÖZEL MEDİPOL BAHÇELİEVLER HASTANESİ': 'BAĞLI OLDUĞU BAŞKANLIK BULUNMAYAN', 'ÖZEL BAYPARK HOSPİTAL HASTANESİ': 'BAĞLI OLDUĞU BAŞKANLIK BULUNMAYAN', 'T.C. SAĞLIK BAKANLIĞI İSTANBUL MEHMET AKİF ERSOY GÖĞÜS KALP VE DAMAR CERRAHİSİ EAH': '6.BAŞKANLIK', 'ÖZEL MEDİCAL PARK BAHÇELİEVLER HASTANESİ': 'BAĞLI OLDUĞU BAŞKANLIK BULUNMAYAN', 'ÖZEL GSM GİSBİR SAĞLIK MERKEZİ HASTANESİ': 'BAĞLI OLDUĞU BAŞKANLIK BULUNMAYAN', 'T.C. SAĞLIK BAKANLIĞI MALTEPE DEVLET HASTANESİ': '1.BAŞKANLIK', 'ÖZEL HİSAR İNTERCONTİNENTAL HOSPİTAL HASTANESİ': 'BAĞLI OLDUĞU BAŞKANLIK BULUNMAYAN', 'ÖZEL ACIBADEM KOZYATAĞI HASTANESİ': 'BAĞLI OLDUĞU BAŞKANLIK BULUNMAYAN', 'ÖZEL BEYLİKDÜZÜ MEDİLİFE HASTANESİ': 'BAĞLI OLDUĞU BAŞKANLIK BULUNMAYAN', 'ÖZEL GÜNEŞLİ ERDEM HASTANESİ': 'BAĞLI OLDUĞU BAŞKANLIK BULUNMAYAN', 'ÖZEL İSTANBUL FLORENCE NIGHTINGALE HASTANESİ': 'BAĞLI OLDUĞU BAŞKANLIK BULUNMAYAN', 'İSTANBUL BAŞKENT ÜNİVERSİTESİ İSTANBUL SAĞLIK UYGULAMA VE ARAŞTIRMA MERKEZİ': 'BAĞLI OLDUĞU BAŞKANLIK BULUNMAYAN', 'İSTANBUL ÜNİVERSİTESİ -CERRAHPAŞA CERRAHPAŞA HASTANESİ': 'BAĞLI OLDUĞU BAŞKANLIK BULUNMAYAN', 'ÖZEL LİV HOSPİTAL ULUS HASTANESİ': 'BAĞLI OLDUĞU BAŞKANLIK BULUNMAYAN', 'T.C. SAĞLIK BAKANLIĞI ESENLER KADIN DOĞUM VE ÇOCUK HASTALIKLARI HASTANESİ': '3.BAŞKANLIK', 'ÖZEL YÜZYIL HASTANESİ PENDİK': 'BAĞLI OLDUĞU BAŞKANLIK BULUNMAYAN', 'ÖZEL AVRASYA HASTANESİ': 'BAĞLI OLDUĞU BAŞKANLIK BULUNMAYAN', 'ÖZEL ACIBADEM DR. ŞİNASİ CAN HASTANESİ': 'BAĞLI OLDUĞU BAŞKANLIK BULUNMAYAN', 'ÖZEL ŞİŞLİ KOLAN İNTERNATIONAL HOSPİTAL HASTANESİ': 'BAĞLI OLDUĞU BAŞKANLIK BULUNMAYAN', 'İSTANBUL MEDİPOL ÜNİVERSİTESİ SAĞLIK EĞİTİM UYGULAMA MERKEZİ': 'BAĞLI OLDUĞU BAŞKANLIK BULUNMAYAN', 'ÖZEL KIZILAY KAĞITHANE HASTANESİ': 'BAĞLI OLDUĞU BAŞKANLIK BULUNMAYAN', 'T.C. SAĞLIK BAKANLIĞI ÜSKÜDAR DEVLET HASTANESİ': '2.BAŞKANLIK', 'ÖZEL KADIKÖY FLORANCE NİGHTİNGALE HASTANESİ': 'BAĞLI OLDUĞU BAŞKANLIK BULUNMAYAN', 'ÖZEL VM MEDİCAL PARK MALTEPE HASTANESİ': 'BAĞLI OLDUĞU BAŞKANLIK BULUNMAYAN', 'ÖZEL LİV HOSPİTAL VADİ İSTANBUL HASTANESİ': 'BAĞLI OLDUĞU BAŞKANLIK BULUNMAYAN', 'ÖZEL TUSA HASTANESİ': 'BAĞLI OLDUĞU BAŞKANLIK BULUNMAYAN', 'T.C. SAĞLIK BAKANLIĞI BEŞİKTAŞ SAİT ÇİFTÇİ DEVLET HASTANESİ': '4.BAŞKANLIK', 'ÖZEL RUMELİ HOSPİTAL HASTANESİ': 'BAĞLI OLDUĞU BAŞKANLIK BULUNMAYAN', 'ÖZEL DELTA HOSPİTAL': 'BAĞLI OLDUĞU BAŞKANLIK BULUNMAYAN', '(EK KAMPÜS PENDİK) İSTANBUL MEDİPOL ÜNİVERSİTESİ SAĞLIK EĞİTİM UYGULAMA MERKEZİ': 'BAĞLI OLDUĞU BAŞKANLIK BULUNMAYAN', 'ÖZEL AVİCENNA HASTANESİ GÜLTEPE': 'BAĞLI OLDUĞU BAŞKANLIK BULUNMAYAN', 'ÖZEL ACIBADEM İNTERNATİONAL HASTANESİ': 'BAĞLI OLDUĞU BAŞKANLIK BULUNMAYAN', 'ÖZEL SİLİVRİ KOLAN HOSPİTAL HASTANESİ': 'BAĞLI OLDUĞU BAŞKANLIK BULUNMAYAN', 'ÖZEL AVİCENNA UMUT HASTANESİ': 'BAĞLI OLDUĞU BAŞKANLIK BULUNMAYAN', 'ÖZEL LEVENT HASTANESİ': 'BAĞLI OLDUĞU BAŞKANLIK BULUNMAYAN', 'ÖZEL VEHBİ KOÇ VAKFI AMERİKAN HASTANESİ': 'BAĞLI OLDUĞU BAŞKANLIK BULUNMAYAN', 'ÖZEL ACIBADEM FULYA HASTANESİ': 'BAĞLI OLDUĞU BAŞKANLIK BULUNMAYAN', 'ÖZEL İSTANBUL MEDİPOL HASTANESİ': 'BAĞLI OLDUĞU BAŞKANLIK BULUNMAYAN', 'ÖZEL FLORYA HASTANESİ': 'BAĞLI OLDUĞU BAŞKANLIK BULUNMAYAN', 'ÖZEL TRG HOSPİTALİST HASTANESİ': 'BAĞLI OLDUĞU BAŞKANLIK BULUNMAYAN', 'ÖZEL MEDİGOLD SULTAN HASTANESİ': 'BAĞLI OLDUĞU BAŞKANLIK BULUNMAYAN', 'T.C. SAĞLIK BAKANLIĞI İSTANBUL FİZİK TEDAVİ VE REHABİLİTASYON EĞİTİM VE ARAŞTIRMA HASTANESİ': '3.BAŞKANLIK', 'ÖZEL YEDİKULE SURP PIRGİÇ ERMENİ HASTANESİ': 'BAĞLI OLDUĞU BAŞKANLIK BULUNMAYAN', 'ÖZEL AKTİF İNTERNATIONAL HOSPİTAL BAHÇELİEVLER HASTANESİ': 'BAĞLI OLDUĞU BAŞKANLIK BULUNMAYAN', 'ÖZEL PENDİK BÖLGE HASTANESİ': 'BAĞLI OLDUĞU BAŞKANLIK BULUNMAYAN', 'ÖZEL BAHAT HOSPİTAL HASTANESİ': 'BAĞLI OLDUĞU BAŞKANLIK BULUNMAYAN', 'ÖZEL TÜRKİYE GAZETESİ HASTANESİ': 'BAĞLI OLDUĞU BAŞKANLIK BULUNMAYAN', 'ÖZEL MEDİSTANBUL HASTANESİ': 'BAĞLI OLDUĞU BAŞKANLIK BULUNMAYAN', 'ÖZEL DUYGU HASTANESİ': 'BAĞLI OLDUĞU BAŞKANLIK BULUNMAYAN', 'ÖZEL GAZİ HASTANESİ': 'BAĞLI OLDUĞU BAŞKANLIK BULUNMAYAN', 'ÖZEL DOĞAN HASTANESİ': 'BAĞLI OLDUĞU BAŞKANLIK BULUNMAYAN', 'ÖZEL MEDİCANA HOSPİTALS BAHÇELİEVLER HASTANESİ': 'BAĞLI OLDUĞU BAŞKANLIK BULUNMAYAN', 'ÖZEL RAMİ HASTANESİ': 'BAĞLI OLDUĞU BAŞKANLIK BULUNMAYAN', 'TÜRK KIZILAYI ÖZEL KARTAL HASTANESİ': 'BAĞLI OLDUĞU BAŞKANLIK BULUNMAYAN', 'ÖZEL MEDİCALPARK ATAŞEHİR HASTANESİ': 'BAĞLI OLDUĞU BAŞKANLIK BULUNMAYAN', '(EK KAMPÜS ÜSKÜDAR) İSTANBUL MEDİPOL ÜNİVERSİTESİ SAĞLIK EĞİTİM UYGULAMA MERKEZİ': 'BAĞLI OLDUĞU BAŞKANLIK BULUNMAYAN', 'ÖZEL BAŞARI HASTANESİ': 'BAĞLI OLDUĞU BAŞKANLIK BULUNMAYAN', 'ÖZEL AVİCENNA  HASTANESİ ATAŞEHİR (ANADOLU ÇINAR)': 'BAĞLI OLDUĞU BAŞKANLIK BULUNMAYAN', 'ÖZEL GAYRETTEPE  FLORENCE NİGHTİNGALE HASTANESİ': 'BAĞLI OLDUĞU BAŞKANLIK BULUNMAYAN', 'ÖZEL KOZYATAĞI CENTRAL HOSPİTAL ATAŞEHİR HASTANESİ': 'BAĞLI OLDUĞU BAŞKANLIK BULUNMAYAN', 'ÖZEL İSTANBUL HOSPİTAL HASTANESİ': 'BAĞLI OLDUĞU BAŞKANLIK BULUNMAYAN', 'ÖZEL ESENLER ENSAR HASTANESİ AVİCENNA': 'BAĞLI OLDUĞU BAŞKANLIK BULUNMAYAN', 'ÖZEL İSTANBUL TEMA HASTANESİ': 'BAĞLI OLDUĞU BAŞKANLIK BULUNMAYAN', 'ÖZEL ERSOY HASTANESİ': 'BAĞLI OLDUĞU BAŞKANLIK BULUNMAYAN', 'T.C. SAĞLIK BAKANLIĞI İSTİNYE DEVLET HASTANESİ': '4.BAŞKANLIK', 'ÖZEL ATAŞEHİR FLORENCE NIGHTINGALE HASTANESİ': 'BAĞLI OLDUĞU BAŞKANLIK BULUNMAYAN', 'ÖZEL AVRASYA HASTANESİ GAZİOSMANPAŞA': 'BAĞLI OLDUĞU BAŞKANLIK BULUNMAYAN', 'ÖZEL NP İSTANBUL BEYİN HASTANESİ': 'BAĞLI OLDUĞU BAŞKANLIK BULUNMAYAN', 'ÖZEL ACIBADEM TAKSİM HASTANESİ': 'BAĞLI OLDUĞU BAŞKANLIK BULUNMAYAN', 'ÖZEL OKMEYDANI HASTANESİ': 'BAĞLI OLDUĞU BAŞKANLIK BULUNMAYAN', 'ÖZEL MECİDİYEKÖY ÇEVRE HASTANESİ': 'BAĞLI OLDUĞU BAŞKANLIK BULUNMAYAN', 'ÖZEL MELTEM  HASTANESİ VE DOĞUM HASTANESİ': 'BAĞLI OLDUĞU BAŞKANLIK BULUNMAYAN', 'ÖZEL ÇAMLIK HASTANESİ': 'BAĞLI OLDUĞU BAŞKANLIK BULUNMAYAN', 'ÖZEL MEDİCANA ATAKÖY HASTANESİ': 'BAĞLI OLDUĞU BAŞKANLIK BULUNMAYAN', 'ÖZEL MERCAN HASTANESİ': 'BAĞLI OLDUĞU BAŞKANLIK BULUNMAYAN', 'ÖZEL FRANSIZ  LAPE HASTANESİ': 'BAĞLI OLDUĞU BAŞKANLIK BULUNMAYAN', 'ÖZEL AİLE HASTANESİ': 'BAĞLI OLDUĞU BAŞKANLIK BULUNMAYAN', 'ÖZEL AFİYET HASTANESİ': 'BAĞLI OLDUĞU BAŞKANLIK BULUNMAYAN', 'ÖZEL MALTEPE ERSOY HASTANESİ': 'BAĞLI OLDUĞU BAŞKANLIK BULUNMAYAN', 'ÖZEL ASYA HASTANESİ': 'BAĞLI OLDUĞU BAŞKANLIK BULUNMAYAN', 'ÖZEL ATLAS HASTANESİ': 'BAĞLI OLDUĞU BAŞKANLIK BULUNMAYAN', 'ÖZEL AVRUPA HOSPITAL HASTANESİ': 'BAĞLI OLDUĞU BAŞKANLIK BULUNMAYAN', 'ÖZEL AVİCENNA  HASTANESİ': 'BAĞLI OLDUĞU BAŞKANLIK BULUNMAYAN', 'ÖZEL ACADEMİC HOSPİTAL HASTANESİ': 'BAĞLI OLDUĞU BAŞKANLIK BULUNMAYAN', 'ÖZEL KÜÇÜKÇEKMECE HASTANESİ': 'BAĞLI OLDUĞU BAŞKANLIK BULUNMAYAN', 'ÖZEL KOZYATAĞI CENTRAL HOSPİTAL': 'BAĞLI OLDUĞU BAŞKANLIK BULUNMAYAN', 'ÖZEL HAYAT ŞİFA HASTANESİ': 'BAĞLI OLDUĞU BAŞKANLIK BULUNMAYAN', 'İSTANBUL ÜNİVERSİTESİ ONKOLOJİ ENSTİTÜSÜ HASTANESİ': 'BAĞLI OLDUĞU BAŞKANLIK BULUNMAYAN', '(EK KAMPÜS ESENLER) İSTANBUL MEDİPOL ÜNİVERSİTESİ SAĞLIK EĞİTİM UYGULAMA MERKEZİ': 'BAĞLI OLDUĞU BAŞKANLIK BULUNMAYAN', 'BEYKENT ÜNİVERSİTESİ TIP FAKÜLTESİ HASTANESİ': 'BAĞLI OLDUĞU BAŞKANLIK BULUNMAYAN', 'ÖZEL A PLUS HASTANESİ': 'BAĞLI OLDUĞU BAŞKANLIK BULUNMAYAN', 'EVE NAKİL': '2.BAŞKANLIK', 'ÖZEL DOKTOR NAZİF BAĞRIAÇIK KADIKÖY HASTANESİ': 'BAĞLI OLDUĞU BAŞKANLIK BULUNMAYAN', 'ÖZEL MEDİVİTA İNCİRLİ HASTANESİ': 'BAĞLI OLDUĞU BAŞKANLIK BULUNMAYAN', 'ÖZEL GÜNEY HASTANESİ': 'BAĞLI OLDUĞU BAŞKANLIK BULUNMAYAN', 'ÖZEL MEGAPOL HASTANESİ': 'BAĞLI OLDUĞU BAŞKANLIK BULUNMAYAN', 'ÖZEL DOĞA HOSPİTAL HASTANESİ': 'BAĞLI OLDUĞU BAŞKANLIK BULUNMAYAN', 'ÖZEL İSTANBUL ŞAFAK HASTANESİ': 'BAĞLI OLDUĞU BAŞKANLIK BULUNMAYAN', 'ÖZEL MEDAR ATAŞEHİR HASTANESİ': 'BAĞLI OLDUĞU BAŞKANLIK BULUNMAYAN', 'ÖZEL GÖZTEPE HASTANESİ': 'BAĞLI OLDUĞU BAŞKANLIK BULUNMAYAN', 'İSTANBUL ÜNİVERSİTESİ -CERRAHPAŞA KARDİYOLOJİ ENSTİTÜSÜ HASTANESİ': 'BAĞLI OLDUĞU BAŞKANLIK BULUNMAYAN', 'İL DIŞI': 'BAĞLI OLDUĞU BAŞKANLIK BULUNMAYAN', 'ÖZEL BALAT  OR-AHAYİM MUSEVİ HASTANESİ  VAKFI İKTİSADİ İŞLETMESİ HASTANESİ': 'BAĞLI OLDUĞU BAŞKANLIK BULUNMAYAN', 'İSTANBUL PENDİK DEVLET HASTANESİ KAYNARCA SEMT POLİKLİNİĞİ': '1.BAŞKANLIK', 'ÖZEL AKSU GÖZTEPE HASTANESİ': 'BAĞLI OLDUĞU BAŞKANLIK BULUNMAYAN', 'İSTANBUL ATLAS ÜNİVERSİTESİ TIP FAKÜLTESİ HASTANESİ': 'BAĞLI OLDUĞU BAŞKANLIK BULUNMAYAN', 'ÖZEL İSTANBUL ONKOLOJİ HASTANESİ': 'BAĞLI OLDUĞU BAŞKANLIK BULUNMAYAN', 'ÖZEL MEDİCANA ZİNCİRLİKUYU HASTANESİ': 'BAĞLI OLDUĞU BAŞKANLIK BULUNMAYAN', 'ÖZEL BAYINDIR İÇERENKÖY HASTANESİ': 'BAĞLI OLDUĞU BAŞKANLIK BULUNMAYAN', 'Özel MEDİPOL Acıbadem Bölge Hastanesi': 'BAĞLI OLDUĞU BAŞKANLIK BULUNMAYAN', 'İSTANBUL ÖZEL MEMORİAL HİZMET HASTANESİ': 'BAĞLI OLDUĞU BAŞKANLIK BULUNMAYAN', 'ÖZEL İSTANBUL BALIKLI RUM HASTANESİ': 'BAĞLI OLDUĞU BAŞKANLIK BULUNMAYAN', 'ÖZEL İKİTELLİ BAHAT HASTANESİ': 'BAĞLI OLDUĞU BAŞKANLIK BULUNMAYAN', 'FATİH SULTAN MEHMET EĞİTİM VE ARAŞTIRMA HASTANESİ HEMODİYALİZ MERKEZİ': 'BAĞLI OLDUĞU BAŞKANLIK BULUNMAYAN', 'BEYKOZ DEVLET HASTANESİ DİYALİZ MERKEZİ': 'BAĞLI OLDUĞU BAŞKANLIK BULUNMAYAN', 'T.C. SAĞLIK BAKANLIĞI BEYOĞLU GÖZ EĞİTİM VE ARAŞTIRMA HASTANESİ': '4.BAŞKANLIK', 'İSTANBUL ÜNİVERSİTESİ -CERRAHPAŞA HASTANESİ ERİŞKİN DİYALİZ MERKEZİ': 'BAĞLI OLDUĞU BAŞKANLIK BULUNMAYAN', 'ÖZEL MEDİCANA HOSPİTALS ÇAMLICA DİYALİZ MERKEZİ': 'BAĞLI OLDUĞU BAŞKANLIK BULUNMAYAN', 'ÖZEL MEDİCANA HOSPİTALS AVCILAR DİYALİZ MERKEZİ': 'BAĞLI OLDUĞU BAŞKANLIK BULUNMAYAN', 'İSTANBUL ÜNİVERSİTESİ İSTANBUL TIP FAKÜLTESİ HEMODİYALİZ VE PERİTON DİYALİZ MERKEZİ': 'BAĞLI OLDUĞU BAŞKANLIK BULUNMAYAN', 'İSTANBUL ÜNİVERSİTESİ KARDİYOLOJİ ENSTİTÜSÜ HASTANESİ': 'BAĞLI OLDUĞU BAŞKANLIK BULUNMAYAN', 'İSTANBUL BAŞKENT ÜNİVERSİTESİ HEMODİYALİZ VE PERİTON DİYALİZ MERKEZİ': 'BAĞLI OLDUĞU BAŞKANLIK BULUNMAYAN', 'ÖZEL ÇAMLICA MEDİCANA TIP MERKEZİ': 'BAĞLI OLDUĞU BAŞKANLIK BULUNMAYAN', 'BAŞAKŞEHİR ÇAM VE SAKURA ŞEHİR HASTANESİ ÇOCUK HEMODİYALİZ VE PERİTON DİYALİZ MERKEZİ': 'BAĞLI OLDUĞU BAŞKANLIK BULUNMAYAN', 'YEDİKULE SURP PIRGİÇ ERMENİ HASTANESİ ': '5.BAŞKANLIK', 'PENDİK DEVLET HASTANESİ KAYNARCA SEMT POLİKLİNİĞİ DİYALİZ MERKEZİ': 'BAĞLI OLDUĞU BAŞKANLIK BULUNMAYAN', 'ÖZEL TÜRKMED KARTAL DİYALİZ MERKEZİ': 'BAĞLI OLDUĞU BAŞKANLIK BULUNMAYAN', 'ÖZEL OTA-JİNEMED HASTANESİ': 'BAĞLI OLDUĞU BAŞKANLIK BULUNMAYAN', 'ÖZEL ERKLİ DİYALİZ MERKEZİ': 'BAĞLI OLDUĞU BAŞKANLIK BULUNMAYAN', 'ÖZEL DİYA CENTER SİLİVRİ  DİYALİZ MERKEZİ': 'BAĞLI OLDUĞU BAŞKANLIK BULUNMAYAN', 'ÖZEL GÖZTEPE AYMED HİPERBARİK OKSİJEN TEDAVİ MERKEZİ': 'BAĞLI OLDUĞU BAŞKANLIK BULUNMAYAN', 'ÖZEL HALKALI KENT HASTANESİ': 'BAĞLI OLDUĞU BAŞKANLIK BULUNMAYAN', 'İSTANBUL EYÜP DEVLET HASTANESİ ALİBEYKÖY SEMT POLİKLİNİĞİ': '4.BAŞKANLIK', 'ÖZEL BİLGE HASTANESİ': 'BAĞLI OLDUĞU BAŞKANLIK BULUNMAYAN', 'ÖZEL BOĞAZİÇİ DİYALİZ MERKEZİ': 'BAĞLI OLDUĞU BAŞKANLIK BULUNMAYAN', 'ÖZEL MEDİPOL MEGA HASTANELERİ KOMPLEKSİ HİPERBARİK OKSİJEN TEDAVİ MERKEZİ': 'BAĞLI OLDUĞU BAŞKANLIK BULUNMAYAN', 'T.C. SAĞLIK BAKANLIĞI BAĞCILAR AĞIZ VE DİŞ SAĞLIĞI HASTANESİ': 'BAĞLI OLDUĞU BAŞKANLIK BULUNMAYAN', 'T.C. SAĞLIK BAKANLIĞI  ATAŞEHİR AĞIZ VE DİŞ SAĞLIĞI HASTANESİ': 'BAĞLI OLDUĞU BAŞKANLIK BULUNMAYAN', 'PROF.DR. CEMİL TAŞCIOĞLU ŞEHİR HASTANESİ HEMODİYALİZ VE PERİTON DİYALİZ MERKEZİ': 'BAĞLI OLDUĞU BAŞKANLIK BULUNMAYAN', 'T.C.SAĞLIK BAKANLIĞI ARNAVUTKÖY DEVLET HASTANESİ HADIMKÖY SEMT POLİKLİNİĞİ': '5.BAŞKANLIK', 'İSTANBUL KARTAL DR.LÜTFİ KIRDAR ŞEHİR  HASTANESİ PENDİK SEMT POLİKLİNİĞİ': '1.BAŞKANLIK', 'T.C. SAĞLIK BAKANLIĞI KAĞITHANE DEVLET HASTANESİ': '4.BAŞKANLIK', 'SARIYER İSMAİL AKGÜN EK HİZMET BİNASI': '4.BAŞKANLIK', 'İSTANBUL BAKIRKÖY DR.SADİ KONUK EĞİTİM VE ARAŞTIRMA HASTANESİ BAHÇELİEVLER SEMT POLİKLİNİĞİ': '3.BAŞKANLIK', 'T.C. SAĞLIK BAKANLIĞI SULTANBEYLİ DEVLET HASTANESİ TACİRLER EĞİTİM VAKFI SULTANBEYLİ SEMT POLİKLİNİĞ': '1.BAŞKANLIK'}\n",
        "\"\"\""
      ],
      "metadata": {
        "id": "D2r976E-iRwV"
      },
      "execution_count": null,
      "outputs": []
    },
    {
      "cell_type": "code",
      "source": [],
      "metadata": {
        "id": "MXMUmzEciRyX"
      },
      "execution_count": null,
      "outputs": []
    },
    {
      "cell_type": "code",
      "source": [
        "df_placed[['Hasta Ad', 'Hasta Soyad', 'Hasta T.C. Kimlik No','Düzenlenmiş Nakil Talep Eden Hastane']]"
      ],
      "metadata": {
        "id": "0U8ebcnvdJjJ"
      },
      "execution_count": null,
      "outputs": []
    },
    {
      "cell_type": "code",
      "source": [],
      "metadata": {
        "id": "WBLnk94ilUEu"
      },
      "execution_count": null,
      "outputs": []
    },
    {
      "cell_type": "code",
      "source": [
        "df_placed['Hasta Ad'].isna().sum()"
      ],
      "metadata": {
        "id": "I5x8UgyXmQTR"
      },
      "execution_count": null,
      "outputs": []
    },
    {
      "cell_type": "code",
      "source": [
        "# FOR EU DATAFRAME\n",
        "# df_reports_main_eu= pd.read_excel('C:/Users/mkaya/Onedrive/Masaüstü/istanbul112_hidden/data/case_reports/europe/2024/monthly/11-KASIM 2024 AVR ASOS TANI DÖNÜŞTÜRÜLMÜŞ DEFTER.xlsx', sheet_name='50903') #, sheet_name=''"
      ],
      "metadata": {
        "id": "g3ZuII3aQCmj"
      },
      "execution_count": null,
      "outputs": []
    },
    {
      "cell_type": "code",
      "source": [
        "# FOR AS DATAFRAME\n",
        "# df_reports_main_as= pd.read_excel('C:/Users/mkaya/Onedrive/Masaüstü/istanbul112_hidden/data/case_reports/asia/2024/monthly/2024 KASIM ŞEF TARİHLİ TANI DÖNÜŞTÜRÜLMÜŞ PROTOKOL DEFTERİ.xlsx', sheet_name='KASIM-28148') #, sheet_name=''"
      ],
      "metadata": {
        "id": "xRvKQ639XWGb"
      },
      "execution_count": null,
      "outputs": []
    },
    {
      "cell_type": "code",
      "source": [
        "# df_reports= pd.concat([df_reports_main_eu, df_reports_main_as])"
      ],
      "metadata": {
        "id": "32pdpM7HRAPn"
      },
      "execution_count": null,
      "outputs": []
    },
    {
      "cell_type": "code",
      "source": [
        "df_reports= pd.read_excel('C:/Users/mkaya/Downloads/SAHADAN HASTANEYE ASOS AND AVR ŞUBAT 2025.xlsx')"
      ],
      "metadata": {
        "id": "B3OaQcjYCFsO"
      },
      "execution_count": null,
      "outputs": []
    },
    {
      "cell_type": "code",
      "source": [
        "df_backup= df_reports.copy()"
      ],
      "metadata": {
        "id": "s0h_Iv1GVIm9"
      },
      "execution_count": null,
      "outputs": []
    },
    {
      "cell_type": "code",
      "source": [
        "df_reports= df_backup.copy()"
      ],
      "metadata": {
        "id": "FD1taAMpn_S8"
      },
      "execution_count": null,
      "outputs": []
    },
    {
      "cell_type": "code",
      "source": [
        "df_reports.drop_duplicates(inplace=True)"
      ],
      "metadata": {
        "id": "A_h8_PG4tX_t"
      },
      "execution_count": null,
      "outputs": []
    },
    {
      "cell_type": "code",
      "source": [
        "df_placed.drop_duplicates(inplace=True)"
      ],
      "metadata": {
        "id": "fog5pJZhtYBx"
      },
      "execution_count": null,
      "outputs": []
    },
    {
      "cell_type": "code",
      "source": [
        "df_reports['is_baby']= False\n",
        "df_placed['is_baby']= False"
      ],
      "metadata": {
        "id": "GaEQSiZNDjIM"
      },
      "execution_count": null,
      "outputs": []
    },
    {
      "cell_type": "code",
      "source": [
        "df_reports.reset_index(inplace=True)\n",
        "df_placed.reset_index(inplace=True)"
      ],
      "metadata": {
        "id": "TMjY83v2Do_l"
      },
      "execution_count": null,
      "outputs": []
    },
    {
      "cell_type": "code",
      "source": [
        "[col for col in df_placed if 'düzen' in col.lower()]"
      ],
      "metadata": {
        "id": "YrrNOUK7N7KN"
      },
      "execution_count": null,
      "outputs": []
    },
    {
      "cell_type": "code",
      "source": [],
      "metadata": {
        "id": "KBDnLENkN7ND"
      },
      "execution_count": null,
      "outputs": []
    },
    {
      "cell_type": "code",
      "source": [
        "#df_placed[df_placed['Hasta Ad'].astype(str).str.lower().astype(str).str.contains('bebek')]['Hasta Ad'].unique()"
      ],
      "metadata": {
        "id": "2NOM8TeiESM_"
      },
      "execution_count": null,
      "outputs": []
    },
    {
      "cell_type": "code",
      "source": [
        "#df_reports[df_reports['Hasta Adı'].astype(str).str.lower().astype(str).str.contains('bebek')]['Hasta Adı'].unique()"
      ],
      "metadata": {
        "id": "QR-EQbLYESPG"
      },
      "execution_count": null,
      "outputs": []
    },
    {
      "cell_type": "code",
      "source": [],
      "metadata": {
        "id": "rIRUNVtPIZ2r"
      },
      "execution_count": null,
      "outputs": []
    },
    {
      "cell_type": "code",
      "source": [],
      "metadata": {
        "id": "Q-5LRtfoESRU"
      },
      "execution_count": null,
      "outputs": []
    },
    {
      "cell_type": "code",
      "source": [
        "placed_baby_index= df_placed[df_placed['Hasta Ad'].astype(str).str.lower().astype(str).str.contains('bebek')].index\n",
        "df_placed.loc[placed_baby_index, 'is_baby']= True"
      ],
      "metadata": {
        "id": "zIFOt_dnCi80"
      },
      "execution_count": null,
      "outputs": []
    },
    {
      "cell_type": "code",
      "source": [
        "reports_baby_index= df_reports[df_reports['Hasta Adı'].astype(str).str.lower().astype(str).str.contains('bebek')].index\n",
        "df_reports.loc[reports_baby_index, 'is_baby']= True"
      ],
      "metadata": {
        "id": "-HvTT86NDJDd"
      },
      "execution_count": null,
      "outputs": []
    },
    {
      "cell_type": "code",
      "source": [
        "df_reports[df_reports['Hasta Adı'].astype(str).str.lower().astype(str).str.contains('bebek')]"
      ],
      "metadata": {
        "id": "eojDbF3OMCrA"
      },
      "execution_count": null,
      "outputs": []
    },
    {
      "cell_type": "code",
      "source": [
        "df_placed[df_placed['is_baby']==True]"
      ],
      "metadata": {
        "id": "dk3CqJdVJMYD"
      },
      "execution_count": null,
      "outputs": []
    },
    {
      "cell_type": "code",
      "source": [
        "df_reports[df_reports['is_baby']==True]"
      ],
      "metadata": {
        "id": "ORTASuI9JMab"
      },
      "execution_count": null,
      "outputs": []
    },
    {
      "cell_type": "code",
      "source": [],
      "metadata": {
        "id": "prxvhgD_JMc1"
      },
      "execution_count": null,
      "outputs": []
    },
    {
      "cell_type": "code",
      "source": [
        "df_placed['Hasta Ad_upper']= df_placed['Hasta Ad'].astype(str).str.strip().astype(str).str.upper()\n",
        "df_reports['Hasta Adı_upper']= df_reports['Hasta Adı'].astype(str).str.strip().astype(str).str.upper()"
      ],
      "metadata": {
        "id": "K1-1nFVmE6G4"
      },
      "execution_count": null,
      "outputs": []
    },
    {
      "cell_type": "code",
      "source": [
        "df_placed[df_placed['is_baby']==True]['Hasta Ad_upper'].unique()"
      ],
      "metadata": {
        "id": "SfN2OmDXE6JT"
      },
      "execution_count": null,
      "outputs": []
    },
    {
      "cell_type": "code",
      "source": [
        "df_reports[df_reports['is_baby']==True]['Hasta Adı_upper'].unique()"
      ],
      "metadata": {
        "id": "fQ_nHTETIkkt"
      },
      "execution_count": null,
      "outputs": []
    },
    {
      "cell_type": "code",
      "source": [
        "df_reports['Hasta Soyadı_upper']= df_reports['Hasta Soyadı'].astype(str).str.strip().astype(str).str.upper()\n",
        "df_placed['Hasta Soyad_upper']= df_placed['Hasta Soyad'].astype(str).str.strip().astype(str).str.upper()"
      ],
      "metadata": {
        "id": "sdB0854IIkm9"
      },
      "execution_count": null,
      "outputs": []
    },
    {
      "cell_type": "code",
      "source": [
        "df_reports.loc[df_reports['is_baby']==True, 'Hasta Adı_upper']= 'BEBEK'\n",
        "df_placed.loc[df_placed['is_baby']==True, 'Hasta Ad_upper']= 'BEBEK'"
      ],
      "metadata": {
        "id": "-qV5RtlMIkpQ"
      },
      "execution_count": null,
      "outputs": []
    },
    {
      "cell_type": "code",
      "source": [],
      "metadata": {
        "id": "yFtGTSzhIkre"
      },
      "execution_count": null,
      "outputs": []
    },
    {
      "cell_type": "code",
      "source": [],
      "metadata": {
        "id": "dCr1YevbIktp"
      },
      "execution_count": null,
      "outputs": []
    },
    {
      "cell_type": "code",
      "source": [
        "df_placed['Hasta Ad_upper']= df_placed['Hasta Ad_upper'].astype(str).str.strip().astype(str).str.replace('i','İ').astype(str).str.replace('ü','Ü').astype(str).str.replace('ç','Ç').astype(str).str.replace('ğ','Ğ').astype(str).str.replace('ş','Ş').astype(str).str.replace('ö','Ö').astype(str).str.upper().astype(str).str.replace('1', '').astype(str).str.strip()\n",
        "df_reports['Hasta Adı_upper']= df_reports['Hasta Adı_upper'].astype(str).str.strip().astype(str).str.replace('i','İ').astype(str).str.replace('ü','Ü').astype(str).str.replace('ç','Ç').astype(str).str.replace('ğ','Ğ').astype(str).str.replace('ş','Ş').astype(str).str.replace('ö','Ö').astype(str).str.upper().astype(str).str.replace('1', '').astype(str).str.strip()\n",
        "df_placed['Hasta Soyad_upper']= df_placed['Hasta Soyad_upper'].astype(str).str.strip().astype(str).str.replace('i','İ').astype(str).str.replace('ü','Ü').astype(str).str.replace('ç','Ç').astype(str).str.replace('ğ','Ğ').astype(str).str.replace('ş','Ş').astype(str).str.replace('ö','Ö').astype(str).str.upper().astype(str).str.strip()\n",
        "df_reports['Hasta Soyadı_upper']= df_reports['Hasta Soyadı_upper'].astype(str).str.strip().astype(str).str.replace('i','İ').astype(str).str.replace('ü','Ü').astype(str).str.replace('ç','Ç').astype(str).str.replace('ğ','Ğ').astype(str).str.replace('ş','Ş').astype(str).str.replace('ö','Ö').astype(str).str.upper().astype(str).str.strip()"
      ],
      "metadata": {
        "id": "k6LQBxWNn_xu"
      },
      "execution_count": null,
      "outputs": []
    },
    {
      "cell_type": "code",
      "source": [
        "df_placed.head()"
      ],
      "metadata": {
        "id": "vMt5p0Oun_0B"
      },
      "execution_count": null,
      "outputs": []
    },
    {
      "cell_type": "code",
      "source": [
        "df_reports.head()"
      ],
      "metadata": {
        "id": "VfOKAAPFn_2L"
      },
      "execution_count": null,
      "outputs": []
    },
    {
      "cell_type": "code",
      "source": [
        "\"\"\"df_reports.rename(columns={'Hasta Adı':'Hasta Adı_original', 'Hasta Soyadı':'Hasta Soyadı_original'}, inplace=True)\n",
        "df_reports.rename(columns={'Hasta Adı_upper':'Hasta Adı', 'Hasta Soyadı_upper':'Hasta Soyadı'}, inplace=True)\"\"\""
      ],
      "metadata": {
        "id": "4U0E_sTsNknY"
      },
      "execution_count": null,
      "outputs": []
    },
    {
      "cell_type": "code",
      "source": [],
      "metadata": {
        "id": "fDzNROUwNkqE"
      },
      "execution_count": null,
      "outputs": []
    },
    {
      "cell_type": "code",
      "source": [
        "df_placed.rename(columns= {'Hasta Ad_upper':'Hasta Adı_upper', 'Hasta Soyad_upper':'Hasta Soyadı_upper'}, inplace= True)"
      ],
      "metadata": {
        "id": "FB3Zm34HsE3Y"
      },
      "execution_count": null,
      "outputs": []
    },
    {
      "cell_type": "code",
      "source": [
        "df_reports['MANUEL DÜZENLEME Nakledilen Hastane']"
      ],
      "metadata": {
        "id": "yxZ-Bl-2PpDd"
      },
      "execution_count": null,
      "outputs": []
    },
    {
      "cell_type": "code",
      "source": [
        "df_reports['Nakledilen-Nakil Talep Eden Hastane']= df_reports['MANUEL DÜZENLEME Nakledilen Hastane']\n",
        "df_placed['Nakledilen-Nakil Talep Eden Hastane']= df_placed['Düzenlenmiş Nakil Talep Eden Hastane']"
      ],
      "metadata": {
        "id": "b5Jfk5L6U4ct"
      },
      "execution_count": null,
      "outputs": []
    },
    {
      "cell_type": "code",
      "source": [
        "df_placed['workbook']= 'Nakil Defter'\n",
        "df_reports['workbook']= 'Sahadan Hastaneye Defter'"
      ],
      "metadata": {
        "id": "gVOiiSpSR4CJ"
      },
      "execution_count": null,
      "outputs": []
    },
    {
      "cell_type": "code",
      "source": [
        "df_reports['İhbar/Çağrı Tarihi'] = pd.to_datetime(df_reports['İhbar/Çağrı Tarihi'], format='%d-%m-%Y')"
      ],
      "metadata": {
        "id": "Qp-0_Xko9Yze"
      },
      "execution_count": null,
      "outputs": []
    },
    {
      "cell_type": "code",
      "source": [
        "df_reports['İhbar/Çağrı Tarihi']"
      ],
      "metadata": {
        "id": "hmE81XAu-N7t"
      },
      "execution_count": null,
      "outputs": []
    },
    {
      "cell_type": "code",
      "source": [
        "df_reports['İhbar/Çağrı  Saati']"
      ],
      "metadata": {
        "id": "seY_lYc7-C4N"
      },
      "execution_count": null,
      "outputs": []
    },
    {
      "cell_type": "code",
      "source": [
        "df_reports['İhbar Tarih Saat'] = pd.to_datetime(\n",
        "    df_reports['İhbar/Çağrı Tarihi'].dt.strftime('%d-%m-%Y') + ' ' + df_reports['İhbar/Çağrı  Saati'],\n",
        "    format='%d-%m-%Y %H:%M:%S'\n",
        ")"
      ],
      "metadata": {
        "id": "eycirOrmqW-S"
      },
      "execution_count": null,
      "outputs": []
    },
    {
      "cell_type": "code",
      "source": [
        "df_reports['Vaka Veriliş Tarih Saat']= pd.to_datetime(df_reports['Vaka Veriliş\\nTarihi'] + ' '+ df_reports['Vaka Veriliş\\nSaati'], format= '%d-%m-%Y %H:%M:%S')"
      ],
      "metadata": {
        "id": "bbb5PuS3qXAa"
      },
      "execution_count": null,
      "outputs": []
    },
    {
      "cell_type": "code",
      "source": [
        "df_placed['Yer Bulunma Tarihi']= pd.to_datetime(df_placed['Yer Bulunma Tarihi'], format= '%d-%m-%Y %H:%M:%S')\n",
        "df_placed['Talep Tarihi']= pd.to_datetime(df_placed['Talep Tarihi'], format= '%d-%m-%Y %H:%M:%S')"
      ],
      "metadata": {
        "id": "7j4okXroqXCg"
      },
      "execution_count": null,
      "outputs": []
    },
    {
      "cell_type": "code",
      "source": [
        "df_reports['Tarih']= df_reports['Vaka Veriliş Tarih Saat']\n",
        "df_placed['Tarih']= df_placed['Talep Tarihi']"
      ],
      "metadata": {
        "id": "d9mOOi2roltx"
      },
      "execution_count": null,
      "outputs": []
    },
    {
      "cell_type": "code",
      "source": [],
      "metadata": {
        "id": "Vb3x2bTOolv3"
      },
      "execution_count": null,
      "outputs": []
    },
    {
      "cell_type": "code",
      "source": [],
      "metadata": {
        "id": "2G1VWKhtolx7"
      },
      "execution_count": null,
      "outputs": []
    },
    {
      "cell_type": "code",
      "source": [
        "df_placed.drop(columns='index', inplace=True)\n",
        "df_reports.drop(columns='index', inplace=True)"
      ],
      "metadata": {
        "id": "f9643RmZ0_AQ"
      },
      "execution_count": null,
      "outputs": []
    },
    {
      "cell_type": "code",
      "source": [
        "df_placed.reset_index(inplace=True)\n",
        "df_reports.reset_index(inplace=True)"
      ],
      "metadata": {
        "id": "mAySDVge1JEY"
      },
      "execution_count": null,
      "outputs": []
    },
    {
      "cell_type": "code",
      "source": [],
      "metadata": {
        "id": "sgbY2ZNF1JGw"
      },
      "execution_count": null,
      "outputs": []
    },
    {
      "cell_type": "code",
      "source": [
        "merged_df = pd.merge(df_placed.reset_index(), df_reports.reset_index(), on=['Hasta Adı_upper', 'Hasta Soyadı_upper', 'Nakledilen-Nakil Talep Eden Hastane'], how='inner')"
      ],
      "metadata": {
        "id": "pPxtD0xXobYP"
      },
      "execution_count": null,
      "outputs": []
    },
    {
      "cell_type": "code",
      "source": [
        "merged_df[['Tarih_x', 'Tarih_y']]"
      ],
      "metadata": {
        "id": "ZZkn8oAlo7om"
      },
      "execution_count": null,
      "outputs": []
    },
    {
      "cell_type": "code",
      "source": [],
      "metadata": {
        "id": "_l4lvixn2TVx"
      },
      "execution_count": null,
      "outputs": []
    },
    {
      "cell_type": "code",
      "source": [],
      "metadata": {
        "id": "4ml5Su4G2TYK"
      },
      "execution_count": null,
      "outputs": []
    },
    {
      "cell_type": "markdown",
      "source": [
        "**ANOTHER WORK -UP TO DATE SOLUTION**"
      ],
      "metadata": {
        "id": "k44ScqGI2UK_"
      }
    },
    {
      "cell_type": "code",
      "source": [
        "merged_df['one_day']= (merged_df['Tarih_x'] - merged_df['Tarih_y']).between(dt.timedelta(days=0), dt.timedelta(days=1), inclusive='both')"
      ],
      "metadata": {
        "id": "DPJDisAcSSSb"
      },
      "execution_count": null,
      "outputs": []
    },
    {
      "cell_type": "code",
      "source": [
        "merged_df= merged_df[merged_df['one_day']==True]"
      ],
      "metadata": {
        "id": "wjWsfVGuSepy"
      },
      "execution_count": null,
      "outputs": []
    },
    {
      "cell_type": "code",
      "source": [
        "df_placed.loc[merged_df['index_x']]"
      ],
      "metadata": {
        "id": "-bZkF1g-01FB"
      },
      "execution_count": null,
      "outputs": []
    },
    {
      "cell_type": "code",
      "source": [
        "df_reports.loc[merged_df['index_y']]"
      ],
      "metadata": {
        "id": "PkICeqQW01HV"
      },
      "execution_count": null,
      "outputs": []
    },
    {
      "cell_type": "code",
      "source": [
        "second_frame= pd.concat([df_placed.loc[merged_df['index_x']], df_reports.loc[merged_df['index_y']]])"
      ],
      "metadata": {
        "id": "PX-6FfOe1llM"
      },
      "execution_count": null,
      "outputs": []
    },
    {
      "cell_type": "code",
      "source": [
        "second_frame.sort_values(by=['Hasta Adı_upper', 'Hasta Soyadı_upper', 'Nakledilen-Nakil Talep Eden Hastane', 'Tarih'], inplace=True)"
      ],
      "metadata": {
        "id": "Vg8acyi21lnc"
      },
      "execution_count": null,
      "outputs": []
    },
    {
      "cell_type": "code",
      "source": [
        "second_frame.insert(0,'Hasta Adı_upper', second_frame.pop('Hasta Adı_upper'))\n",
        "second_frame.insert(1,'Hasta Soyadı_upper', second_frame.pop('Hasta Soyadı_upper'))\n",
        "second_frame.insert(2,'Nakledilen-Nakil Talep Eden Hastane', second_frame.pop('Nakledilen-Nakil Talep Eden Hastane'))\n",
        "second_frame.insert(3,'Tarih', second_frame.pop('Tarih'))"
      ],
      "metadata": {
        "id": "GEHqGnd61lpu"
      },
      "execution_count": null,
      "outputs": []
    },
    {
      "cell_type": "code",
      "source": [
        "second_frame['Hasta Ad Soyad_upper']= second_frame['Hasta Adı_upper'] + ' ' + second_frame['Hasta Soyadı_upper']"
      ],
      "metadata": {
        "id": "BRYvBUtJ1lt_"
      },
      "execution_count": null,
      "outputs": []
    },
    {
      "cell_type": "code",
      "source": [
        "import datetime\n",
        "import pandas as pd\n",
        "\n",
        "the_frame = pd.DataFrame()\n",
        "\n",
        "for name, group in second_frame.groupby(['Hasta Ad Soyad_upper', 'Nakledilen-Nakil Talep Eden Hastane']):\n",
        "    group_one = group.sort_values(by='Tarih').copy()  # Ensure a copy is created\n",
        "\n",
        "\n",
        "    if len(group_one) > 1:\n",
        "        for loop in range(5):\n",
        "\n",
        "            # Ensure that 'group' is not empty before checking iloc[0]\n",
        "            while len(group_one) > 0 and group_one.iloc[0]['workbook'] == 'Nakil Defter':\n",
        "                group_one = group_one.iloc[1:].copy()  # Ensure copy to avoid warnings/issues\n",
        "\n",
        "            # Check if group_one has at least 2 elements before accessing iloc[1]\n",
        "            while len(group_one) > 1 and (group_one.iloc[0]['workbook'] == 'Sahadan Hastaneye Defter') and (group_one.iloc[1]['workbook'] == 'Sahadan Hastaneye Defter'):\n",
        "                group_one = group_one.iloc[1:].copy()  # Ensure copy to avoid warnings/issues\n",
        "\n",
        "            while len(group_one) > 1 and (group_one.iloc[-1]['workbook'] == 'Nakil Defter') and (group_one.iloc[-2]['workbook'] == 'Nakil Defter'):\n",
        "                group_one = group_one.iloc[:-1].copy()  # Ensure copy to avoid warnings/issues\n",
        "\n",
        "            while len(group_one) > 0 and group_one.iloc[-1]['workbook'] == 'Sahadan Hastaneye Defter':\n",
        "                group_one = group_one.iloc[:-1].copy()  # Ensure copy to avoid warnings/issues\n",
        "\n",
        "            while len(group_one) > 1 and group_one.iloc[1]['Tarih'] - group_one.iloc[0]['Tarih'] > datetime.timedelta(days=1):\n",
        "                try:\n",
        "                    group_one = group_one.iloc[2:].copy()  # Ensure copy to avoid warnings/issues\n",
        "                except:\n",
        "                    group_one = pd.DataFrame()\n",
        "                    break\n",
        "\n",
        "\n",
        "    # Corrected condition to check if all values are 'Sahadan Hastaneye Defter'\n",
        "    elif (group_one['workbook'] == 'Sahadan Hastaneye Defter').all():\n",
        "        group_one = pd.DataFrame()\n",
        "        continue\n",
        "    elif (group_one['workbook'] == 'Nakil Defter').all():\n",
        "        group_one = pd.DataFrame()\n",
        "        continue\n",
        "    elif len(group_one) < 2:\n",
        "        group_one = pd.DataFrame()\n",
        "        continue\n",
        "    else:\n",
        "        group_one = pd.DataFrame()\n",
        "\n",
        "    the_frame = pd.concat([the_frame, group_one])\n"
      ],
      "metadata": {
        "id": "Ts5ZjhpU1lwN"
      },
      "execution_count": null,
      "outputs": []
    },
    {
      "cell_type": "code",
      "source": [
        "the_frame.rename(columns={'Hasta Adı_upper':'Hasta Adı', 'Hasta Soyadı_upper':'Hasta Soyadı', 'Hasta Ad Soyad_upper':'Hasta Ad Soyad'}, inplace=True)\n",
        "the_frame.insert(2,'Hasta Ad Soyad', the_frame.pop('Hasta Ad Soyad'))"
      ],
      "metadata": {
        "id": "ZABhBAC9ujL3"
      },
      "execution_count": null,
      "outputs": []
    },
    {
      "cell_type": "code",
      "source": [
        "the_frame.drop(columns='index', inplace=True)"
      ],
      "metadata": {
        "id": "wyZX0L4Fuu5v"
      },
      "execution_count": null,
      "outputs": []
    },
    {
      "cell_type": "code",
      "source": [
        "the_frame.to_excel('Şubat 2025 Nakil Defteri Çalışması.xlsx')"
      ],
      "metadata": {
        "id": "aIa4C7yS1lyS"
      },
      "execution_count": null,
      "outputs": []
    },
    {
      "cell_type": "code",
      "source": [],
      "metadata": {
        "id": "3UnR7yMw1l0j"
      },
      "execution_count": null,
      "outputs": []
    },
    {
      "cell_type": "code",
      "source": [],
      "metadata": {
        "id": "z1hGnXo11l23"
      },
      "execution_count": null,
      "outputs": []
    },
    {
      "cell_type": "code",
      "source": [],
      "metadata": {
        "id": "r40Uyiph1l5T"
      },
      "execution_count": null,
      "outputs": []
    },
    {
      "cell_type": "code",
      "source": [],
      "metadata": {
        "id": "hU-lI4UO1l7d"
      },
      "execution_count": null,
      "outputs": []
    },
    {
      "cell_type": "code",
      "source": [],
      "metadata": {
        "id": "0FEYWow71l9x"
      },
      "execution_count": null,
      "outputs": []
    },
    {
      "cell_type": "code",
      "source": [],
      "metadata": {
        "id": "zS-LhVRa1mAE"
      },
      "execution_count": null,
      "outputs": []
    },
    {
      "cell_type": "code",
      "source": [],
      "metadata": {
        "id": "f_kUytJR1mCL"
      },
      "execution_count": null,
      "outputs": []
    },
    {
      "cell_type": "code",
      "source": [],
      "metadata": {
        "id": "m0B7Vdgi01Jh"
      },
      "execution_count": null,
      "outputs": []
    },
    {
      "cell_type": "code",
      "source": [],
      "metadata": {
        "id": "skWOtDl-01Ly"
      },
      "execution_count": null,
      "outputs": []
    },
    {
      "cell_type": "markdown",
      "source": [
        "**END OF THE OTHER WORK**"
      ],
      "metadata": {
        "id": "kMnx38Gy2bSA"
      }
    },
    {
      "cell_type": "code",
      "source": [],
      "metadata": {
        "id": "6WUA0LcK01RO"
      },
      "execution_count": null,
      "outputs": []
    },
    {
      "cell_type": "markdown",
      "source": [
        "**START OF THE OLD WORK**"
      ],
      "metadata": {
        "id": "dYU9zSHZ6Tf3"
      }
    },
    {
      "cell_type": "code",
      "source": [
        "merged_df.set_index(['Hasta Adı_upper', 'Hasta Soyadı_upper', 'Nakledilen-Nakil Talep Eden Hastane'], inplace=True)\n",
        "df_placed.set_index(['Hasta Adı_upper', 'Hasta Soyadı_upper', 'Nakledilen-Nakil Talep Eden Hastane'], inplace=True)\n",
        "df_reports.set_index(['Hasta Adı_upper', 'Hasta Soyadı_upper', 'Nakledilen-Nakil Talep Eden Hastane'], inplace=True)"
      ],
      "metadata": {
        "id": "te3roZhsr_hr"
      },
      "execution_count": null,
      "outputs": []
    },
    {
      "cell_type": "code",
      "source": [
        "df_placed_clear= df_placed.loc[merged_df.index].reset_index()\n",
        "df_placed_clear"
      ],
      "metadata": {
        "id": "wE4vW0NUr_kA"
      },
      "execution_count": null,
      "outputs": []
    },
    {
      "cell_type": "code",
      "source": [
        "df_reports_clear= df_reports.loc[merged_df.index].reset_index()\n",
        "df_reports_clear"
      ],
      "metadata": {
        "id": "SphaG9DOr_mS"
      },
      "execution_count": null,
      "outputs": []
    },
    {
      "cell_type": "code",
      "source": [
        "#df_reports_clear.rename(columns={'Nakil Talep Eden Hastane':'Nakledilen Hastane'}, inplace=True)"
      ],
      "metadata": {
        "id": "4v_catRfrUhN"
      },
      "execution_count": null,
      "outputs": []
    },
    {
      "cell_type": "code",
      "source": [
        "df_reports_clear"
      ],
      "metadata": {
        "id": "oAU6q9k8tzAI"
      },
      "execution_count": null,
      "outputs": []
    },
    {
      "cell_type": "code",
      "source": [
        "df_reports_clear['Nakledilen Hastane']"
      ],
      "metadata": {
        "id": "0_E6I2-ZuitN"
      },
      "execution_count": null,
      "outputs": []
    },
    {
      "cell_type": "code",
      "source": [
        "temp_df= pd.concat([df_reports_clear, df_placed_clear]).reset_index()\n",
        "temp_df"
      ],
      "metadata": {
        "id": "EYr5ZlLGrUjs"
      },
      "execution_count": null,
      "outputs": []
    },
    {
      "cell_type": "code",
      "source": [
        "temp_df['Hasta Ad Soyad_upper']= temp_df['Hasta Adı_upper'] + ' ' + temp_df['Hasta Soyadı_upper']"
      ],
      "metadata": {
        "id": "ODR3wO38V0Ty"
      },
      "execution_count": null,
      "outputs": []
    },
    {
      "cell_type": "code",
      "source": [
        "import datetime\n",
        "import pandas as pd\n",
        "\n",
        "the_frame = pd.DataFrame()\n",
        "\n",
        "for name, group in temp_df.groupby(['Hasta Ad Soyad_upper', 'Nakledilen-Nakil Talep Eden Hastane']):\n",
        "    group_one = group.sort_values(by='Tarih').copy()  # Ensure a copy is created\n",
        "\n",
        "\n",
        "    if len(group_one) > 1:\n",
        "        for loop in range(5):\n",
        "\n",
        "            # Ensure that 'group' is not empty before checking iloc[0]\n",
        "            while len(group_one) > 0 and group_one.iloc[0]['workbook'] == 'Nakil Defter':\n",
        "                group_one = group_one.iloc[1:].copy()  # Ensure copy to avoid warnings/issues\n",
        "\n",
        "            # Check if group_one has at least 2 elements before accessing iloc[1]\n",
        "            while len(group_one) > 1 and (group_one.iloc[0]['workbook'] == 'Sahadan Hastaneye Defter') and (group_one.iloc[1]['workbook'] == 'Sahadan Hastaneye Defter'):\n",
        "                group_one = group_one.iloc[1:].copy()  # Ensure copy to avoid warnings/issues\n",
        "\n",
        "            while len(group_one) > 1 and (group_one.iloc[-1]['workbook'] == 'Nakil Defter') and (group_one.iloc[-2]['workbook'] == 'Nakil Defter'):\n",
        "                group_one = group_one.iloc[:-1].copy()  # Ensure copy to avoid warnings/issues\n",
        "\n",
        "            while len(group_one) > 0 and group_one.iloc[-1]['workbook'] == 'Sahadan Hastaneye Defter':\n",
        "                group_one = group_one.iloc[:-1].copy()  # Ensure copy to avoid warnings/issues\n",
        "\n",
        "            while len(group_one) > 1 and group_one.iloc[1]['Tarih'] - group_one.iloc[0]['Tarih'] > datetime.timedelta(days=1):\n",
        "                try:\n",
        "                    group_one = group_one.iloc[2:].copy()  # Ensure copy to avoid warnings/issues\n",
        "                except:\n",
        "                    group_one = pd.DataFrame()\n",
        "                    break\n",
        "\n",
        "\n",
        "    # Corrected condition to check if all values are 'Sahadan Hastaneye Defter'\n",
        "    elif (group_one['workbook'] == 'Sahadan Hastaneye Defter').all():\n",
        "        group_one = pd.DataFrame()\n",
        "        continue\n",
        "    elif (group_one['workbook'] == 'Nakil Defter').all():\n",
        "        group_one = pd.DataFrame()\n",
        "        continue\n",
        "    elif len(group_one) < 2:\n",
        "        group_one = pd.DataFrame()\n",
        "        continue\n",
        "    else:\n",
        "        group_one = pd.DataFrame()\n",
        "\n",
        "    the_frame = pd.concat([the_frame, group_one])"
      ],
      "metadata": {
        "id": "75sycxYKV0WG"
      },
      "execution_count": null,
      "outputs": []
    },
    {
      "cell_type": "code",
      "source": [],
      "metadata": {
        "id": "jGl0hBUCDM59"
      },
      "execution_count": null,
      "outputs": []
    },
    {
      "cell_type": "code",
      "source": [
        "pd.set_option(\"display.max_rows\", 20, \"display.max_columns\", 10)\n",
        "the_frame"
      ],
      "metadata": {
        "id": "DujCJRtb0RI5"
      },
      "execution_count": null,
      "outputs": []
    },
    {
      "cell_type": "code",
      "source": [
        "the_frame.sort_values(by= ['Hasta Adı_upper', 'Hasta Soyadı_upper','Nakledilen-Nakil Talep Eden Hastane', 'Tarih'], ascending=True).fillna('-').to_excel('Nakil Defteri Çalışması.xlsx')"
      ],
      "metadata": {
        "id": "8Xy5AV7uu1jY"
      },
      "execution_count": null,
      "outputs": []
    },
    {
      "cell_type": "code",
      "source": [
        "the_frame"
      ],
      "metadata": {
        "id": "if2-8QUPORSy"
      },
      "execution_count": null,
      "outputs": []
    },
    {
      "cell_type": "markdown",
      "source": [
        "**END OF THE OLD WORK**"
      ],
      "metadata": {
        "id": "mK1oC6P86YVt"
      }
    },
    {
      "cell_type": "code",
      "source": [],
      "metadata": {
        "id": "8oATrD--6Rem"
      },
      "execution_count": null,
      "outputs": []
    },
    {
      "cell_type": "code",
      "source": [],
      "metadata": {
        "id": "XkekgKsj6RhP"
      },
      "execution_count": null,
      "outputs": []
    },
    {
      "cell_type": "code",
      "source": [],
      "metadata": {
        "id": "MHdv3Efr6Rjn"
      },
      "execution_count": null,
      "outputs": []
    },
    {
      "cell_type": "code",
      "source": [
        "manual_frame= pd.read_excel('C:/Users/mkaya/Downloads/1 - OCAK 2025 MÜKERRER DEFERİ.xlsx', sheet_name='4700 EŞLEŞEN')"
      ],
      "metadata": {
        "id": "qQ6jgbBGrUoE"
      },
      "execution_count": null,
      "outputs": []
    },
    {
      "cell_type": "code",
      "source": [
        "manual_frame"
      ],
      "metadata": {
        "id": "eh0MDFKgvyM9"
      },
      "execution_count": null,
      "outputs": []
    },
    {
      "cell_type": "code",
      "source": [
        "test_frame= the_frame.copy()"
      ],
      "metadata": {
        "id": "oXzmS_82vyQZ"
      },
      "execution_count": null,
      "outputs": []
    },
    {
      "cell_type": "code",
      "source": [
        "test_frame['Hasta Adı Hasta Soyadı']= (test_frame['Hasta Adı_upper'] + ' ' + test_frame['Hasta Soyadı_upper']).astype(str).str.strip()"
      ],
      "metadata": {
        "id": "kgU2C3lyvyTJ"
      },
      "execution_count": null,
      "outputs": []
    },
    {
      "cell_type": "code",
      "source": [
        "manual_frame.rename(columns={manual_frame.columns[0]: 'Tarih'}, inplace=True)"
      ],
      "metadata": {
        "id": "7yhYOMJQvyZ5"
      },
      "execution_count": null,
      "outputs": []
    },
    {
      "cell_type": "code",
      "source": [
        "manual_frame['Tarih']= pd.to_datetime(manual_frame['Tarih'], format='%d-%m-%Y %H:%M:%S')"
      ],
      "metadata": {
        "id": "vMNvS7zAvya0"
      },
      "execution_count": null,
      "outputs": []
    },
    {
      "cell_type": "code",
      "source": [
        "manual_frame.rename(columns={'MANUEL DÜZENLEME Nakledilen Hastane':'Nakledilen-Nakil Talep Eden Hastane'}, inplace=True)"
      ],
      "metadata": {
        "id": "2F10Z_QFS28c"
      },
      "execution_count": null,
      "outputs": []
    },
    {
      "cell_type": "code",
      "source": [
        "test_frame"
      ],
      "metadata": {
        "id": "RQa3IBeUS2-k"
      },
      "execution_count": null,
      "outputs": []
    },
    {
      "cell_type": "code",
      "source": [
        "manual_frame"
      ],
      "metadata": {
        "id": "Bz7CTKX9S3Ag"
      },
      "execution_count": null,
      "outputs": []
    },
    {
      "cell_type": "code",
      "source": [
        "test_frame[test_frame['Hasta Adı Hasta Soyadı'].isin(['ABDULBARİ AS'])]"
      ],
      "metadata": {
        "id": "eXr13THaT6ip"
      },
      "execution_count": null,
      "outputs": []
    },
    {
      "cell_type": "code",
      "source": [
        "manual_frame[~manual_frame['Hasta Adı Hasta Soyadı'].astype(str).str.replace('i','İ').astype(str).str.upper().astype(str).str.strip().isin(test_frame['Hasta Adı Hasta Soyadı'].astype(str).str.strip())][['Hasta Adı Hasta Soyadı', 'Nakledilen-Nakil Talep Eden Hastane', 'Ekip Talep Tarihi','Tarih']].to_excel('C:/Users/mkaya/Downloads/manuelde olup programda çıkmayan.xlsx')"
      ],
      "metadata": {
        "id": "sAa2qlzsvycc"
      },
      "execution_count": null,
      "outputs": []
    },
    {
      "cell_type": "code",
      "source": [
        "test_frame[~test_frame['Hasta Adı Hasta Soyadı'].astype(str).str.replace('i','İ').astype(str).str.upper().astype(str).str.strip().isin(manual_frame['Hasta Adı Hasta Soyadı'].astype(str).str.strip())][['Hasta Adı Hasta Soyadı', 'Nakledilen-Nakil Talep Eden Hastane', 'Ekip Talep Tarihi','Tarih']].to_excel('C:/Users/mkaya/Downloads/programda olup manuelde olmayan.xlsx')"
      ],
      "metadata": {
        "id": "KeHctqbLvydW"
      },
      "execution_count": null,
      "outputs": []
    },
    {
      "cell_type": "code",
      "source": [],
      "metadata": {
        "id": "dloI-UUgvye6"
      },
      "execution_count": null,
      "outputs": []
    },
    {
      "cell_type": "code",
      "source": [],
      "metadata": {
        "id": "-dWgRIAnvyhI"
      },
      "execution_count": null,
      "outputs": []
    },
    {
      "cell_type": "code",
      "source": [],
      "metadata": {
        "id": "hMVYanw8vyji"
      },
      "execution_count": null,
      "outputs": []
    },
    {
      "cell_type": "code",
      "source": [],
      "metadata": {
        "id": "5fEeiNwuvyl7"
      },
      "execution_count": null,
      "outputs": []
    },
    {
      "cell_type": "code",
      "source": [],
      "metadata": {
        "id": "1fpvu-awvyoB"
      },
      "execution_count": null,
      "outputs": []
    },
    {
      "cell_type": "code",
      "source": [],
      "metadata": {
        "id": "cBM0rUi8vyqY"
      },
      "execution_count": null,
      "outputs": []
    },
    {
      "cell_type": "code",
      "source": [],
      "metadata": {
        "id": "e_MIoeOXvysa"
      },
      "execution_count": null,
      "outputs": []
    },
    {
      "cell_type": "code",
      "source": [],
      "metadata": {
        "id": "WEUTiDlivyuw"
      },
      "execution_count": null,
      "outputs": []
    },
    {
      "cell_type": "code",
      "source": [],
      "metadata": {
        "id": "dYOR_uizvyxI"
      },
      "execution_count": null,
      "outputs": []
    },
    {
      "cell_type": "code",
      "source": [],
      "metadata": {
        "id": "iVzHBC5_vyzT"
      },
      "execution_count": null,
      "outputs": []
    },
    {
      "cell_type": "code",
      "source": [],
      "metadata": {
        "id": "As1nY3qevy1r"
      },
      "execution_count": null,
      "outputs": []
    },
    {
      "cell_type": "code",
      "source": [],
      "metadata": {
        "id": "PZuerwIhvy4M"
      },
      "execution_count": null,
      "outputs": []
    },
    {
      "cell_type": "code",
      "source": [],
      "metadata": {
        "id": "Ymo8tsObvy6y"
      },
      "execution_count": null,
      "outputs": []
    },
    {
      "cell_type": "code",
      "source": [],
      "metadata": {
        "id": "4rHEIocpvy9O"
      },
      "execution_count": null,
      "outputs": []
    },
    {
      "cell_type": "code",
      "source": [],
      "metadata": {
        "id": "lFP6Wpb2vy_s"
      },
      "execution_count": null,
      "outputs": []
    },
    {
      "cell_type": "code",
      "source": [],
      "metadata": {
        "id": "10nQctW8vzCE"
      },
      "execution_count": null,
      "outputs": []
    },
    {
      "cell_type": "code",
      "source": [],
      "metadata": {
        "id": "W4dGVNtGvzE0"
      },
      "execution_count": null,
      "outputs": []
    },
    {
      "cell_type": "code",
      "source": [],
      "metadata": {
        "id": "DYQ00TnzvzGx"
      },
      "execution_count": null,
      "outputs": []
    },
    {
      "cell_type": "code",
      "source": [],
      "metadata": {
        "id": "5KUauC20vzJf"
      },
      "execution_count": null,
      "outputs": []
    },
    {
      "cell_type": "code",
      "source": [],
      "metadata": {
        "id": "N60qE-4mvzL-"
      },
      "execution_count": null,
      "outputs": []
    },
    {
      "cell_type": "code",
      "source": [],
      "metadata": {
        "id": "X9XzZzRRvzOA"
      },
      "execution_count": null,
      "outputs": []
    },
    {
      "cell_type": "code",
      "source": [],
      "metadata": {
        "id": "W0LYo161vzQp"
      },
      "execution_count": null,
      "outputs": []
    },
    {
      "cell_type": "code",
      "source": [],
      "metadata": {
        "id": "0ehv-hGWvzSy"
      },
      "execution_count": null,
      "outputs": []
    },
    {
      "cell_type": "code",
      "source": [],
      "metadata": {
        "id": "j9-mfihPvzVd"
      },
      "execution_count": null,
      "outputs": []
    },
    {
      "cell_type": "code",
      "source": [],
      "metadata": {
        "id": "LQk4WQB8vzX8"
      },
      "execution_count": null,
      "outputs": []
    },
    {
      "cell_type": "code",
      "source": [],
      "metadata": {
        "id": "QUJCxOaWvzaN"
      },
      "execution_count": null,
      "outputs": []
    },
    {
      "cell_type": "code",
      "source": [],
      "metadata": {
        "id": "cWzhT8-Fvzcy"
      },
      "execution_count": null,
      "outputs": []
    },
    {
      "cell_type": "code",
      "source": [],
      "metadata": {
        "id": "H00-Rp-Kvzfa"
      },
      "execution_count": null,
      "outputs": []
    },
    {
      "cell_type": "code",
      "source": [],
      "metadata": {
        "id": "WjWPiQS1vzho"
      },
      "execution_count": null,
      "outputs": []
    },
    {
      "cell_type": "code",
      "source": [],
      "metadata": {
        "id": "8JoTjfCxvzjW"
      },
      "execution_count": null,
      "outputs": []
    },
    {
      "cell_type": "code",
      "source": [],
      "metadata": {
        "id": "_WfqbP5KrUqX"
      },
      "execution_count": null,
      "outputs": []
    },
    {
      "cell_type": "code",
      "source": [],
      "metadata": {
        "id": "Cvis1t_ErUst"
      },
      "execution_count": null,
      "outputs": []
    },
    {
      "cell_type": "markdown",
      "source": [
        "**OLD WORK**"
      ],
      "metadata": {
        "id": "b_7n1ee1v20N"
      }
    },
    {
      "cell_type": "code",
      "source": [
        "df_merged= pd.merge(df_placed, df_reports, on=['Hasta Adı', 'Hasta Soyadı','Nakil Talep Eden Hastane'], how='inner')"
      ],
      "metadata": {
        "id": "ILop0FkDn_4W"
      },
      "execution_count": null,
      "outputs": []
    },
    {
      "cell_type": "code",
      "source": [
        "len(df_merged)"
      ],
      "metadata": {
        "id": "MF_Eko5_g1gJ"
      },
      "execution_count": null,
      "outputs": []
    },
    {
      "cell_type": "code",
      "source": [
        "df_merged['Vaka Veriliş Tarih Saat']= pd.to_datetime(df_merged['Vaka Veriliş\\nTarihi'] + ' '+ df_merged['Vaka Veriliş\\nSaati'], format= '%d-%m-%Y %H:%M:%S')"
      ],
      "metadata": {
        "id": "EiC14rQHoBEb"
      },
      "execution_count": null,
      "outputs": []
    },
    {
      "cell_type": "code",
      "source": [
        "df_merged['Talep Tarihi']= pd.to_datetime(df_merged['Talep Tarihi'], format= '%d-%m-%Y %H:%M:%S')"
      ],
      "metadata": {
        "id": "jiOF_EAypzDn"
      },
      "execution_count": null,
      "outputs": []
    },
    {
      "cell_type": "code",
      "source": [
        "df_merged['Mükerrer Durumu']= (df_merged['Talep Tarihi'] - df_merged['Vaka Veriliş Tarih Saat']) <= datetime.timedelta(days=1)"
      ],
      "metadata": {
        "id": "CuD9xhQun_6n"
      },
      "execution_count": null,
      "outputs": []
    },
    {
      "cell_type": "code",
      "source": [
        "df_merged[df_merged['Mükerrer Durumu'] == True][['Hasta Adı', 'Hasta Soyadı', 'Hasta T.C. Kimlik No','Tc Kimlik No\\n']]"
      ],
      "metadata": {
        "id": "MRWyhcXen_8z"
      },
      "execution_count": null,
      "outputs": []
    },
    {
      "cell_type": "code",
      "source": [
        "df_merged.head()"
      ],
      "metadata": {
        "id": "IL3sy-oBi1jg"
      },
      "execution_count": null,
      "outputs": []
    },
    {
      "cell_type": "code",
      "source": [
        "df_merged['Hasta Ad Soyad']= df_merged['Hasta Adı'] + ' ' + df_merged['Hasta Soyadı']"
      ],
      "metadata": {
        "id": "lCRZIDbsQjrY"
      },
      "execution_count": null,
      "outputs": []
    },
    {
      "cell_type": "code",
      "source": [
        "df_true= df_merged[df_merged['Mükerrer Durumu'] == True]"
      ],
      "metadata": {
        "id": "0BR_64RbuaZt"
      },
      "execution_count": null,
      "outputs": []
    },
    {
      "cell_type": "code",
      "source": [
        "df_placed"
      ],
      "metadata": {
        "id": "zKzrU18i2QUv"
      },
      "execution_count": null,
      "outputs": []
    },
    {
      "cell_type": "code",
      "source": [
        "df_merged[['KKM Protokol', 'Ekip No']]"
      ],
      "metadata": {
        "id": "p5VV6lIk2VwW"
      },
      "execution_count": null,
      "outputs": []
    },
    {
      "cell_type": "code",
      "source": [
        "stacked_df = pd.concat([df_placed[df_placed[['Hasta Ad', 'Hasta Soyad','Nakil Talep Eden Hastane']].isin(df_merged[['Hasta Ad', 'Hasta Soyad','Nakil Talep Eden Hastane']])],\n",
        "                        df_reports[df_reports[['Hasta Adı', 'Hasta Soyadı', 'Nakledilen Hastane']].isin(df_merged[['Hasta Adı', 'Hasta Soyadı', 'Nakledilen Hastane']])]])\n",
        "stacked_df"
      ],
      "metadata": {
        "id": "WdFYkjUX1uvW"
      },
      "execution_count": null,
      "outputs": []
    },
    {
      "cell_type": "code",
      "source": [
        "df_placed['Has']"
      ],
      "metadata": {
        "id": "T2xvRCku3_Fk"
      },
      "execution_count": null,
      "outputs": []
    },
    {
      "cell_type": "code",
      "source": [
        "stacked_df = pd.concat([df_placed[df_placed[['Hasta Ad', 'Hasta Soyad','Nakil Talep Eden Hastane']].isin(df_merged[['Hasta Ad', 'Hasta Soyad','Nakil Talep Eden Hastane']].to_dict(orient='list')).all(axis=1)],\n",
        "                        df_reports[df_reports[['Hasta Adı', 'Hasta Soyadı', 'Nakledilen Hastane']].isin(df_merged[['Hasta Adı', 'Hasta Soyadı', 'Nakledilen Hastane']].to_dict(orient='list')).all(axis=1)]])"
      ],
      "metadata": {
        "id": "sxnpcvSl3nCI"
      },
      "execution_count": null,
      "outputs": []
    },
    {
      "cell_type": "code",
      "source": [
        "stacked_df"
      ],
      "metadata": {
        "id": "NLc3xM_N1uyX"
      },
      "execution_count": null,
      "outputs": []
    },
    {
      "cell_type": "code",
      "source": [
        "df_as= df_true.copy()"
      ],
      "metadata": {
        "id": "BgpINBGCnbR_"
      },
      "execution_count": null,
      "outputs": []
    },
    {
      "cell_type": "code",
      "source": [
        "df_eu= df_true.copy()"
      ],
      "metadata": {
        "id": "Lg7b4MX2n9xi"
      },
      "execution_count": null,
      "outputs": []
    },
    {
      "cell_type": "code",
      "source": [
        "df_eu.head()"
      ],
      "metadata": {
        "id": "YJuRPFGbqmf6"
      },
      "execution_count": null,
      "outputs": []
    },
    {
      "cell_type": "code",
      "source": [
        "df_as.head()"
      ],
      "metadata": {
        "id": "WUuiSANmrAX4"
      },
      "execution_count": null,
      "outputs": []
    },
    {
      "cell_type": "code",
      "source": [
        "df_as_names= df_as[['Hasta Ad Soyad', 'Nakledilen Hastane']].copy()\n",
        "df_eu_names= df_eu[['Hasta Ad Soyad', 'Nakledilen Hastane']].copy()\n",
        "df_names= pd.concat([df_eu_names , df_as_names])"
      ],
      "metadata": {
        "id": "SkZTHhdQqmdj"
      },
      "execution_count": null,
      "outputs": []
    },
    {
      "cell_type": "code",
      "source": [
        "df_eu_names= df_eu[['Hasta Ad Soyad', 'Nakledilen Hastane']].copy()\n",
        "df_names= df_eu_names.copy()"
      ],
      "metadata": {
        "id": "1DaoecITjOD_"
      },
      "execution_count": null,
      "outputs": []
    },
    {
      "cell_type": "code",
      "source": [
        "df_true"
      ],
      "metadata": {
        "id": "Po_J60QujjQN"
      },
      "execution_count": null,
      "outputs": []
    },
    {
      "cell_type": "code",
      "source": [],
      "metadata": {
        "id": "4NNdDd1L0rNP"
      },
      "execution_count": null,
      "outputs": []
    },
    {
      "cell_type": "code",
      "source": [
        "df_true.to_excel('C:/Users/mkaya/Downloads/NOV2024_secondary_transport_ist_true.xlsx')"
      ],
      "metadata": {
        "id": "PB8NkocnWLRt"
      },
      "execution_count": null,
      "outputs": []
    },
    {
      "cell_type": "code",
      "source": [
        "df_manual_secondary= pd.read_excel('C:/Users/mkaya/Downloads/7-TEMMUZ 2024 MÜKERRER DEFTERİ.xlsx', sheet_name='4974 MÜKERRER')"
      ],
      "metadata": {
        "id": "TCrgfRm7mbcz"
      },
      "execution_count": null,
      "outputs": []
    },
    {
      "cell_type": "code",
      "source": [
        "df_manual_secondary= df_manual_secondary[~df_manual_secondary['Talep Tarihi'].isna()]\n",
        "df_manual_secondary"
      ],
      "metadata": {
        "id": "hj7l8SMqmt_f"
      },
      "execution_count": null,
      "outputs": []
    },
    {
      "cell_type": "code",
      "source": [
        "df_manual_secondary.columns"
      ],
      "metadata": {
        "id": "I37hAFPvnGv8"
      },
      "execution_count": null,
      "outputs": []
    },
    {
      "cell_type": "code",
      "source": [],
      "metadata": {
        "id": "zUO_VorurMMZ"
      },
      "execution_count": null,
      "outputs": []
    },
    {
      "cell_type": "code",
      "source": [
        "# Instead of using '~', use the 'indicator' and 'query' methods of pandas merge\n",
        "# to achieve the desired result of finding rows not present in the merge.\n",
        "\n",
        "merged_df = pd.merge(\n",
        "    df_names,\n",
        "    df_manual_secondary,\n",
        "    left_on=['Hasta Ad Soyad', 'Nakledilen Hastane'],\n",
        "    right_on=['Hasta Adı Hasta Soyadı', 'MANUEL DÜZENLENMİŞ Nakledilen Hastane'],\n",
        "    how='outer',  # Use 'outer' to get all rows from both DataFrames\n",
        "    indicator=True  # Add a column indicating the source of each row\n",
        ")\n",
        "\n",
        "# Filter for rows that are only in the left DataFrame (df_merged)\n",
        "# This means they were not found in df_manual_secondary during the merge\n",
        "rows_not_in_manual = merged_df.query('_merge == \"left_only\"') # Use merged_df here\n",
        "\n",
        "# Filter for rows that are only in the right DataFrame (df_manual_secondary)\n",
        "# This means they were not found in df_merged during the merge\n",
        "rows_not_in_secondary = merged_df.query('_merge == \"right_only\"') # Use merged_df here\n",
        "\n",
        "# Display the result\n",
        "rows_not_in_secondary"
      ],
      "metadata": {
        "id": "y5dILwJhWQmV"
      },
      "execution_count": null,
      "outputs": []
    },
    {
      "cell_type": "code",
      "source": [
        "rows_not_in_manual"
      ],
      "metadata": {
        "id": "V6gX53IjnCkC"
      },
      "execution_count": null,
      "outputs": []
    },
    {
      "cell_type": "code",
      "source": [
        "df_names[df_names['Hasta Ad Soyad']=='ABDURRAHMAN ÖRETMEN']"
      ],
      "metadata": {
        "id": "cw8SytTlrbxl"
      },
      "execution_count": null,
      "outputs": []
    },
    {
      "cell_type": "code",
      "source": [
        "df_manual_secondary[df_manual_secondary['Hasta Adı Hasta Soyadı']=='ABDURRAHMAN ÖRETMEN']"
      ],
      "metadata": {
        "id": "v4Yi9LKzrqdO"
      },
      "execution_count": null,
      "outputs": []
    },
    {
      "cell_type": "code",
      "source": [],
      "metadata": {
        "id": "z2Le0se1rwUd"
      },
      "execution_count": null,
      "outputs": []
    }
  ]
}