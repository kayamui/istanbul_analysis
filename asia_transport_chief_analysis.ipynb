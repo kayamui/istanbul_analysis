{
  "nbformat": 4,
  "nbformat_minor": 0,
  "metadata": {
    "colab": {
      "provenance": [],
      "authorship_tag": "ABX9TyNNVQjLFZLrU122cTQXHHGU",
      "include_colab_link": true
    },
    "kernelspec": {
      "name": "python3",
      "display_name": "Python 3"
    },
    "language_info": {
      "name": "python"
    }
  },
  "cells": [
    {
      "cell_type": "markdown",
      "metadata": {
        "id": "view-in-github",
        "colab_type": "text"
      },
      "source": [
        "<a href=\"https://colab.research.google.com/github/kayamui/istanbul_analysis/blob/main/asia_transport_chief_analysis.ipynb\" target=\"_parent\"><img src=\"https://colab.research.google.com/assets/colab-badge.svg\" alt=\"Open In Colab\"/></a>"
      ]
    },
    {
      "cell_type": "code",
      "execution_count": null,
      "metadata": {
        "id": "tpL6wpvDXVb4"
      },
      "outputs": [],
      "source": [
        "import pandas as pd\n",
        "import numpy as np\n",
        "import matplotlib.pyplot as plt\n",
        "\n",
        "import seaborn as sns\n",
        "import plotly.express as px"
      ]
    },
    {
      "cell_type": "code",
      "source": [
        "excel_file= pd.ExcelFile('C:/Users/mkaya/Downloads/asia_chief.xlsx')"
      ],
      "metadata": {
        "id": "kPSFGzmyXc_E"
      },
      "execution_count": null,
      "outputs": []
    },
    {
      "cell_type": "code",
      "source": [
        "dataframes= {sheet_name: excel_file.parse(sheet_name) for sheet_name in excel_file.sheet_names}"
      ],
      "metadata": {
        "id": "ESOiBriHXt-r"
      },
      "execution_count": null,
      "outputs": []
    },
    {
      "cell_type": "code",
      "source": [
        "dataframes.keys()"
      ],
      "metadata": {
        "id": "iuVLvIOzXwKx"
      },
      "execution_count": null,
      "outputs": []
    },
    {
      "cell_type": "code",
      "source": [
        "df_2= dataframes['29aralık2023-04şubat2025'].copy()"
      ],
      "metadata": {
        "id": "ULOdGtwBXyM3"
      },
      "execution_count": null,
      "outputs": []
    },
    {
      "cell_type": "code",
      "source": [
        "df_3= dataframes['03şubat sonrası'].copy()\n",
        "df_1= dataframes['19-mayıs2023-28aralık2023'].copy()"
      ],
      "metadata": {
        "id": "3hg-rhUKYTF3"
      },
      "execution_count": null,
      "outputs": []
    },
    {
      "cell_type": "code",
      "source": [
        "df_1.columns"
      ],
      "metadata": {
        "id": "5WSq0cM3X3i5"
      },
      "execution_count": null,
      "outputs": []
    },
    {
      "cell_type": "code",
      "source": [
        "df_1.columns= ['TARİH', 'ŞEF', 'COVID DIŞI TOPLAM', 'COVID TOPLAM', 'TOPLAM EK-3 SAYISI', 'DÜNDEN DEVİR ALINAN', 'YARINA DEVİR EDİLEN', 'FARK (DÜNDEN DEVİR-YARINA DEVİR)', 'SEVK EDİLEN', 'İPTAL']\n",
        "df_1"
      ],
      "metadata": {
        "id": "ry-hzqtCZu6I"
      },
      "execution_count": null,
      "outputs": []
    },
    {
      "cell_type": "code",
      "source": [
        "df_2.columns= ['TARİH', 'ŞEF','ENTÜBE TOPLAM', 'EXTÜBE TOPLAM', 'TOPLAM EK-3 SAYISI', 'DÜNDEN DEVİR ALINAN', 'YARINA DEVİR EDİLEN', 'FARK (DÜNDEN DEVİR-YARINA DEVİR)', 'SEVK EDİLEN', 'İPTAL']\n",
        "df_2"
      ],
      "metadata": {
        "id": "JNvNeHs3lNxp"
      },
      "execution_count": null,
      "outputs": []
    },
    {
      "cell_type": "code",
      "source": [
        "df_3.columns= ['TARİH', 'ŞEF','ENTÜBE TOPLAM', 'EXTÜBE TOPLAM', 'TOPLAM EK-3 SAYISI', 'DÜNDEN DEVİR ALINAN', 'YARINA DEVİR EDİLEN', 'FARK (DÜNDEN DEVİR-YARINA DEVİR)', 'SEVK EDİLEN', 'İPTAL']\n",
        "df_3"
      ],
      "metadata": {
        "id": "0_1aJPPUlPaa"
      },
      "execution_count": null,
      "outputs": []
    },
    {
      "cell_type": "code",
      "source": [
        "df= pd.concat([df_1, df_2,df_3])"
      ],
      "metadata": {
        "id": "HTPZ1g8BlQIi"
      },
      "execution_count": null,
      "outputs": []
    },
    {
      "cell_type": "code",
      "source": [
        "df[df['TOPLAM EK-3 SAYISI'].isna()]"
      ],
      "metadata": {
        "id": "hrpDGRzOlcVN"
      },
      "execution_count": null,
      "outputs": []
    },
    {
      "cell_type": "code",
      "source": [
        "df"
      ],
      "metadata": {
        "id": "tH3bdel7nKVx"
      },
      "execution_count": null,
      "outputs": []
    },
    {
      "cell_type": "code",
      "source": [
        "chief_total_work= df.groupby('ŞEF').agg({'TOPLAM EK-3 SAYISI':'sum', 'DÜNDEN DEVİR ALINAN':'sum', 'YARINA DEVİR EDİLEN':'sum','FARK (DÜNDEN DEVİR-YARINA DEVİR)':'sum', 'SEVK EDİLEN':'sum', 'İPTAL':'sum' }).reset_index()"
      ],
      "metadata": {
        "id": "r9MtP5HJlr1e"
      },
      "execution_count": null,
      "outputs": []
    },
    {
      "cell_type": "code",
      "source": [
        "chief_total_work['SEVK EDİLEN / TOPLAM EK-3 SAYISI (%)'] = (chief_total_work['SEVK EDİLEN'] / chief_total_work['TOPLAM EK-3 SAYISI']) * 100"
      ],
      "metadata": {
        "id": "4Ud7nMzOmq61"
      },
      "execution_count": null,
      "outputs": []
    },
    {
      "cell_type": "code",
      "source": [
        "chief_total_work['İPTAL / TOPLAM EK-3 SAYISI (%)'] = (chief_total_work['İPTAL'] / chief_total_work['TOPLAM EK-3 SAYISI']) * 100"
      ],
      "metadata": {
        "id": "GlOo3I7an7g2"
      },
      "execution_count": null,
      "outputs": []
    },
    {
      "cell_type": "code",
      "source": [
        "chief_total_work['DÜNDEN DEVİR ALINAN / TOPLAM EK-3 SAYISI (%)'] = (chief_total_work['DÜNDEN DEVİR ALINAN'] / chief_total_work['TOPLAM EK-3 SAYISI']) * 100"
      ],
      "metadata": {
        "id": "JW7U15pkondE"
      },
      "execution_count": null,
      "outputs": []
    },
    {
      "cell_type": "code",
      "source": [],
      "metadata": {
        "id": "wSGMm2NJyE1Z"
      },
      "execution_count": null,
      "outputs": []
    },
    {
      "cell_type": "code",
      "source": [
        "chief_total_work['YARINA DEVİR EDİLEN / TOPLAM EK-3 SAYISI (%)'] = (chief_total_work['YARINA DEVİR EDİLEN'] / chief_total_work['TOPLAM EK-3 SAYISI']) * 100\n",
        "chief_total_work[chief_total_work.columns[1:]]= round(chief_total_work[chief_total_work.columns[1:]],2)\n",
        "chief_total_work"
      ],
      "metadata": {
        "id": "nBJmgFRNoxVx"
      },
      "execution_count": null,
      "outputs": []
    },
    {
      "cell_type": "code",
      "source": [],
      "metadata": {
        "id": "cjAGLbhOyFR4"
      },
      "execution_count": null,
      "outputs": []
    },
    {
      "cell_type": "code",
      "source": [
        "chief_mean_work= df.groupby('ŞEF').agg({'TOPLAM EK-3 SAYISI':'mean', 'DÜNDEN DEVİR ALINAN':'mean', 'YARINA DEVİR EDİLEN':'mean','FARK (DÜNDEN DEVİR-YARINA DEVİR)':'mean', 'SEVK EDİLEN':'mean', 'İPTAL':'mean' }).reset_index().copy()"
      ],
      "metadata": {
        "id": "WLwDz7x5pDXQ"
      },
      "execution_count": null,
      "outputs": []
    },
    {
      "cell_type": "code",
      "source": [
        "chief_mean_work.columns= ['ŞEF', 'Ort. EK-3 SAYISI', 'Ort. DÜNDEN DEVİR ALINAN', 'Ort. YARINA DEVİR EDİLEN', 'Ort. FARK (DÜNDEN DEVİR -YARINA DEVİR)', 'Ort. SEVK EDİLEN', 'Ort. İPTAL']"
      ],
      "metadata": {
        "id": "S2T1wpUrpQin"
      },
      "execution_count": null,
      "outputs": []
    },
    {
      "cell_type": "code",
      "source": [
        "chief_mean_work['Ort. SEVK EDİLEN / EK-3 SAYISI (%)'] = (chief_mean_work['Ort. SEVK EDİLEN'] / chief_mean_work['Ort. EK-3 SAYISI']) * 100\n",
        "chief_mean_work['Ort. İPTAL / EK-3 SAYISI (%)'] = (chief_mean_work['Ort. İPTAL'] / chief_mean_work['Ort. EK-3 SAYISI']) * 100\n",
        "chief_mean_work['Ort. DÜNDEN DEVİR ALINAN / EK-3 SAYISI (%)'] = (chief_mean_work['Ort. DÜNDEN DEVİR ALINAN'] / chief_mean_work['Ort. EK-3 SAYISI']) * 100\n",
        "chief_mean_work['Ort. YARINA DEVİR EDİLEN / EK-3 SAYISI (%)'] = (chief_mean_work['Ort. YARINA DEVİR EDİLEN'] / chief_mean_work['Ort. EK-3 SAYISI']) * 100\n"
      ],
      "metadata": {
        "id": "5RxyDjfhpRQA"
      },
      "execution_count": null,
      "outputs": []
    },
    {
      "cell_type": "code",
      "source": [
        "chief_mean_work[chief_mean_work.columns[1:]]= round(chief_mean_work[chief_mean_work.columns[1:]],2)\n",
        "chief_mean_work"
      ],
      "metadata": {
        "id": "tUAL49w7prt6"
      },
      "execution_count": null,
      "outputs": []
    },
    {
      "cell_type": "code",
      "source": [
        "# chief_total_work['Genel Yüzde']= (chief_total_work['DÜNDEN DEVİR ALINAN / TOPLAM EK-3 SAYISI (%)'] + chief_total_work['SEVK EDİLEN / TOPLAM EK-3 SAYISI (%)'] + chief_total_work['YARINA DEVİR EDİLEN / TOPLAM EK-3 SAYISI (%)'] + chief_total_work['İPTAL / TOPLAM EK-3 SAYISI (%)']) / 4"
      ],
      "metadata": {
        "id": "yphWb4c3qv1e"
      },
      "execution_count": null,
      "outputs": []
    },
    {
      "cell_type": "code",
      "source": [
        "# chief_total_work.drop(columns='Genel Yüzde', inplace=True)"
      ],
      "metadata": {
        "id": "iyOYNDnpsVKY"
      },
      "execution_count": null,
      "outputs": []
    },
    {
      "cell_type": "code",
      "source": [
        "# chief_mean_work['Genel Yüzde']= (chief_mean_work['Ort. DÜNDEN DEVİR ALINAN / EK-3 SAYISI (%)'] + chief_mean_work['Ort. SEVK EDİLEN / EK-3 SAYISI (%)'] + chief_mean_work['Ort. YARINA DEVİR EDİLEN / EK-3 SAYISI (%)'] + chief_mean_work['Ort. İPTAL / EK-3 SAYISI (%)']) / 4"
      ],
      "metadata": {
        "id": "ou_-VFMKsmoK"
      },
      "execution_count": null,
      "outputs": []
    },
    {
      "cell_type": "code",
      "source": [
        "# chief_mean_work.drop(columns='Genel Yüzde', inplace=True)"
      ],
      "metadata": {
        "id": "iUGdRVPtsu5m"
      },
      "execution_count": null,
      "outputs": []
    },
    {
      "cell_type": "code",
      "source": [
        "chief_mean_work.columns= [col.replace('/', '-') for col in chief_mean_work.columns]"
      ],
      "metadata": {
        "id": "BI7GgMbmsvfF"
      },
      "execution_count": null,
      "outputs": []
    },
    {
      "cell_type": "code",
      "source": [
        "chief_mean_work"
      ],
      "metadata": {
        "id": "DfB3YBfsoxVw"
      },
      "execution_count": null,
      "outputs": []
    },
    {
      "cell_type": "code",
      "source": [
        "chief_total_work.columns= [col.replace('/', '-') for col in chief_total_work.columns]"
      ],
      "metadata": {
        "id": "o3dk6_yKs-oM"
      },
      "execution_count": null,
      "outputs": []
    },
    {
      "cell_type": "code",
      "source": [
        "# prompt: create a bar plot for each column of chief_total_work\n",
        "\n",
        "for col in chief_total_work.columns[1:]:\n",
        "  temp_df= chief_total_work.sort_values(by=col, ascending=True)\n",
        "  plt.figure(figsize=(10, 6))  # Adjust figure size as needed\n",
        "  plt.bar(chief_total_work['ŞEF'], temp_df[col])\n",
        "  plt.xlabel('ŞEF')\n",
        "  plt.ylabel(col)\n",
        "  plt.title(f'TOPLAM {col}')\n",
        "  plt.xticks(rotation=45, ha='right') # Rotate x-axis labels for better readability\n",
        "  plt.tight_layout() # Adjust layout to prevent labels from overlapping\n",
        "  plt.savefig(f'C:/users/mkaya/Downloads/Nakil Şef Çalışması/Toplam Çalışma Analizi/TOPLAM {col}.png')\n",
        "  plt.show()"
      ],
      "metadata": {
        "id": "mGvyN0Bis_LV"
      },
      "execution_count": null,
      "outputs": []
    },
    {
      "cell_type": "code",
      "source": [
        "for col in chief_mean_work.columns[1:]:\n",
        "  temp_df= chief_mean_work.sort_values(by=col, ascending=True)\n",
        "  plt.figure(figsize=(10, 6))  # Adjust figure size as needed\n",
        "  plt.bar(chief_total_work['ŞEF'], temp_df[col])\n",
        "  plt.xlabel('ŞEF')\n",
        "  plt.ylabel(col)\n",
        "  plt.title(f'{col}')\n",
        "  plt.xticks(rotation=45, ha='right') # Rotate x-axis labels for better readability\n",
        "  plt.tight_layout() # Adjust layout to prevent labels from overlapping\n",
        "  plt.savefig(f'C:/users/mkaya/Downloads/Nakil Şef Çalışması/Ortalama Çalışma Analizi/{col}.png')\n",
        "  plt.show()\n"
      ],
      "metadata": {
        "id": "6Japfwinj8Mt"
      },
      "execution_count": null,
      "outputs": []
    },
    {
      "cell_type": "code",
      "source": [
        "chief_mean_work"
      ],
      "metadata": {
        "id": "GIAKpQzkm1L9"
      },
      "execution_count": null,
      "outputs": []
    },
    {
      "cell_type": "code",
      "source": [
        "chief_total_work"
      ],
      "metadata": {
        "id": "2eOCwSMKyQ12"
      },
      "execution_count": null,
      "outputs": []
    },
    {
      "cell_type": "code",
      "source": [
        "chief_total_work.to_excel(f'C:/users/mkaya/Downloads/Nakil Şef Çalışması/Toplam Çalışma Analizi/Şef Toplam Çalışma Analizi.xlsx')"
      ],
      "metadata": {
        "id": "hkZrRnNzndop"
      },
      "execution_count": null,
      "outputs": []
    },
    {
      "cell_type": "code",
      "source": [
        "chief_mean_work.to_excel(f'C:/users/mkaya/Downloads/Nakil Şef Çalışması/Ortalama Çalışma Analizi/Şef Ortalama Çalışma Analizi.xlsx')"
      ],
      "metadata": {
        "id": "c6JGeo2lqdsI"
      },
      "execution_count": null,
      "outputs": []
    },
    {
      "cell_type": "code",
      "source": [
        "# prompt: minmax scale Ort. FARK (DÜNDEN DEVİR -YARINA DEVİR)\n",
        "\n",
        "from sklearn.preprocessing import MinMaxScaler\n",
        "\n",
        "# Assuming 'chief_mean_work' DataFrame is already created as in your provided code.\n",
        "chief_mean_work_temp= chief_mean_work.copy()\n",
        "# Select the column to scale\n",
        "column_to_scale = chief_mean_work_temp.columns[1:]  # Corrected: Remove extra brackets\n",
        "# Iterate through columns to scale\n",
        "for col in column_to_scale:\n",
        "  # Create a MinMaxScaler object with feature_range\n",
        "  scaler = MinMaxScaler(feature_range=(0, 10))  # Changed: 'range' to 'feature_range'\n",
        "\n",
        "  # Fit the scaler to the column and transform it\n",
        "  chief_mean_work_temp[f'{col}_minmax'] = scaler.fit_transform(chief_mean_work_temp[[col]]) # Corrected column name\n",
        "\n",
        "  # Print or further process the scaled DataFrame\n",
        "chief_mean_work_temp"
      ],
      "metadata": {
        "id": "4N31w7k4qjiX"
      },
      "execution_count": null,
      "outputs": []
    },
    {
      "cell_type": "code",
      "source": [
        "chief_mean_work_temp['performance']= chief_mean_work_temp['Ort. DÜNDEN DEVİR ALINAN - EK-3 SAYISI (%)_minmax'] + chief_mean_work_temp['Ort. DÜNDEN DEVİR ALINAN_minmax'] + chief_mean_work_temp['Ort. EK-3 SAYISI_minmax'] + chief_mean_work_temp['Ort. FARK (DÜNDEN DEVİR -YARINA DEVİR)_minmax'] + chief_mean_work_temp['Ort. SEVK EDİLEN - EK-3 SAYISI (%)_minmax'] + chief_mean_work_temp[ 'Ort. SEVK EDİLEN_minmax'] - chief_mean_work_temp['Ort. YARINA DEVİR EDİLEN - EK-3 SAYISI (%)_minmax'] - chief_mean_work_temp['Ort. YARINA DEVİR EDİLEN_minmax'] - chief_mean_work_temp['Ort. İPTAL - EK-3 SAYISI (%)_minmax'] - chief_mean_work_temp['Ort. İPTAL_minmax']"
      ],
      "metadata": {
        "id": "jvTtNahcwWq9"
      },
      "execution_count": null,
      "outputs": []
    },
    {
      "cell_type": "code",
      "source": [
        "sorted([col for col in chief_mean_work_temp.columns if 'minmax' in col])"
      ],
      "metadata": {
        "id": "Fr1jvr0cq7ZA"
      },
      "execution_count": null,
      "outputs": []
    },
    {
      "cell_type": "code",
      "source": [
        "# prompt: minmax scale Ort. FARK (DÜNDEN DEVİR -YARINA DEVİR)\n",
        "\n",
        "from sklearn.preprocessing import MinMaxScaler\n",
        "\n",
        "# Assuming 'chief_mean_work' DataFrame is already created as in your provided code.\n",
        "chief_total_work_temp= chief_total_work.copy()\n",
        "# Select the column to scale\n",
        "column_to_scale = chief_total_work_temp.columns[1:]  # Corrected: Remove extra brackets\n",
        "# Iterate through columns to scale\n",
        "for col in column_to_scale:\n",
        "  # Create a MinMaxScaler object with feature_range\n",
        "  scaler = MinMaxScaler(feature_range=(0, 10))  # Changed: 'range' to 'feature_range'\n",
        "\n",
        "  # Fit the scaler to the column and transform it\n",
        "  chief_total_work_temp[f'{col}_minmax'] = scaler.fit_transform(chief_total_work_temp[[col]]) # Corrected column name\n",
        "\n",
        "  # Print or further process the scaled DataFrame\n",
        "chief_total_work_temp"
      ],
      "metadata": {
        "id": "vcLZzfF7wzq7"
      },
      "execution_count": null,
      "outputs": []
    },
    {
      "cell_type": "code",
      "source": [
        "sorted([col for col in chief_total_work_temp.columns if 'minmax' in col])"
      ],
      "metadata": {
        "id": "InpWefON1Y94"
      },
      "execution_count": null,
      "outputs": []
    },
    {
      "cell_type": "code",
      "source": [
        "chief_total_work_temp['performance']= chief_total_work_temp['DÜNDEN DEVİR ALINAN - TOPLAM EK-3 SAYISI (%)_minmax'] + chief_total_work_temp['DÜNDEN DEVİR ALINAN_minmax'] + chief_total_work_temp['TOPLAM EK-3 SAYISI_minmax'] + chief_total_work_temp['FARK (DÜNDEN DEVİR-YARINA DEVİR)_minmax'] + chief_total_work_temp['SEVK EDİLEN - TOPLAM EK-3 SAYISI (%)_minmax'] + chief_total_work_temp['SEVK EDİLEN_minmax'] - chief_total_work_temp['YARINA DEVİR EDİLEN - TOPLAM EK-3 SAYISI (%)_minmax'] - chief_total_work_temp['YARINA DEVİR EDİLEN_minmax'] - chief_total_work_temp['İPTAL - TOPLAM EK-3 SAYISI (%)_minmax'] - chief_total_work_temp['İPTAL_minmax']"
      ],
      "metadata": {
        "id": "4OWpVCTw1MNk"
      },
      "execution_count": null,
      "outputs": []
    },
    {
      "cell_type": "code",
      "source": [
        "chief_mean_work_temp.to_excel('chief_mean_work.xlsx')"
      ],
      "metadata": {
        "id": "m77p_4k-xw7V"
      },
      "execution_count": null,
      "outputs": []
    },
    {
      "cell_type": "code",
      "source": [
        "df_3['ŞEF'].unique()"
      ],
      "metadata": {
        "id": "00cGxk0zypBR"
      },
      "execution_count": null,
      "outputs": []
    },
    {
      "cell_type": "code",
      "source": [
        "# prompt: bar plot chief_mean_work_temp['performance']\n",
        "\n",
        "import matplotlib.pyplot as plt\n",
        "\n",
        "# Assuming chief_mean_work_temp DataFrame is already loaded and processed\n",
        "\n",
        "plt.figure(figsize=(10, 6))\n",
        "plt.bar(chief_mean_work_temp['ŞEF'], chief_mean_work_temp['performance'])\n",
        "plt.xlabel('ŞEF')\n",
        "plt.ylabel('Performance')\n",
        "plt.title('ŞEF PERFORMANS PUANLARI')\n",
        "plt.xticks(rotation=45, ha='right')\n",
        "plt.tight_layout()\n",
        "plt.show()\n"
      ],
      "metadata": {
        "id": "dVw1qKvfzZDL"
      },
      "execution_count": null,
      "outputs": []
    },
    {
      "cell_type": "code",
      "source": [
        "# prompt: bar plot chief_mean_work_temp['performance']\n",
        "\n",
        "import matplotlib.pyplot as plt\n",
        "\n",
        "# Assuming chief_mean_work_temp DataFrame is already loaded and processed\n",
        "\n",
        "plt.figure(figsize=(10, 6))\n",
        "plt.bar(chief_total_work_temp['ŞEF'], chief_total_work_temp['performance'])\n",
        "plt.xlabel('ŞEF')\n",
        "plt.ylabel('Performance')\n",
        "plt.title('ŞEF PERFORMANS PUANLARI')\n",
        "plt.xticks(rotation=45, ha='right')\n",
        "plt.tight_layout()\n",
        "plt.show()\n"
      ],
      "metadata": {
        "id": "TeyAkRqc2QoA"
      },
      "execution_count": null,
      "outputs": []
    },
    {
      "cell_type": "code",
      "source": [
        "chief_mean_work.to_excel('Şef Ortalama Çalışma Analizi.xlsx')\n",
        "chief_total_work.to_excel('Şef Toplam Çalışma Analizi.xlsx')"
      ],
      "metadata": {
        "id": "UqSgRjtV0GU5"
      },
      "execution_count": null,
      "outputs": []
    },
    {
      "cell_type": "code",
      "source": [
        "chief_mean_work_temp.to_excel('Şef MinMax Hesaplı Ortalama Çalışma Analizi.xlsx')\n",
        "chief_total_work_temp.to_excel('Şef MinMax Hesaplı Toplam Çalışma Analizi.xlsx')"
      ],
      "metadata": {
        "id": "9Wymlljx0djw"
      },
      "execution_count": null,
      "outputs": []
    },
    {
      "cell_type": "code",
      "source": [],
      "metadata": {
        "id": "bN3sKaxf93nl"
      },
      "execution_count": null,
      "outputs": []
    },
    {
      "cell_type": "code",
      "source": [
        "chief_mean_work_uncancelled= pd.read_excel('Şef Ortalama Çalışma Analizi.xlsx')"
      ],
      "metadata": {
        "id": "ole8jE1G3FjZ"
      },
      "execution_count": null,
      "outputs": []
    },
    {
      "cell_type": "code",
      "source": [
        "chief_mean_work_uncancelled['Ort. EK-3 SAYISI']= chief_mean_work_uncancelled['Ort. EK-3 SAYISI'].astype(int) - chief_mean_work_uncancelled['Ort. İPTAL'].astype(int)"
      ],
      "metadata": {
        "id": "juRnRpJT98GL"
      },
      "execution_count": null,
      "outputs": []
    },
    {
      "cell_type": "code",
      "source": [
        "chief_mean_work_uncancelled['Ort. İPTAL']= 0\n",
        "chief_mean_work_uncancelled['Ort. İPTAL - EK-3 SAYISI (%)']= 0"
      ],
      "metadata": {
        "id": "C7GQzPkt984C"
      },
      "execution_count": null,
      "outputs": []
    },
    {
      "cell_type": "code",
      "source": [
        "chief_mean_work_uncancelled"
      ],
      "metadata": {
        "id": "USegMDZm-JTg"
      },
      "execution_count": null,
      "outputs": []
    },
    {
      "cell_type": "code",
      "source": [
        "from sklearn.preprocessing import MinMaxScaler\n",
        "\n",
        "# Assuming 'chief_mean_work' DataFrame is already created as in your provided code.\n",
        "chief_total_work_temp= chief_mean_work_uncancelled.copy()\n",
        "# Select the column to scale\n",
        "column_to_scale = chief_total_work_temp.columns[1:]  # Corrected: Remove extra brackets\n",
        "# Iterate through columns to scale\n",
        "for col in column_to_scale:\n",
        "  # Create a MinMaxScaler object with feature_range\n",
        "  scaler = MinMaxScaler()  # Changed: 'range' to 'feature_range'\n",
        "\n",
        "  # Fit the scaler to the column and transform it\n",
        "  chief_total_work_temp[f'{col}_minmax'] = scaler.fit_transform(chief_total_work_temp[[col]]) # Corrected column name\n",
        "\n",
        "  # Print or further process the scaled DataFrame\n",
        "chief_mean_work_temp= chief_total_work_temp"
      ],
      "metadata": {
        "id": "rW_8qz7Z-QJt"
      },
      "execution_count": null,
      "outputs": []
    },
    {
      "cell_type": "code",
      "source": [
        "chief_mean_work_temp['performance']= chief_mean_work_temp['Ort. DÜNDEN DEVİR ALINAN - EK-3 SAYISI (%)_minmax'] + chief_mean_work_temp['Ort. DÜNDEN DEVİR ALINAN_minmax'] + chief_mean_work_temp['Ort. EK-3 SAYISI_minmax'] + chief_mean_work_temp['Ort. FARK (DÜNDEN DEVİR -YARINA DEVİR)_minmax'] + chief_mean_work_temp['Ort. SEVK EDİLEN - EK-3 SAYISI (%)_minmax'] + chief_mean_work_temp[ 'Ort. SEVK EDİLEN_minmax'] - chief_mean_work_temp['Ort. YARINA DEVİR EDİLEN - EK-3 SAYISI (%)_minmax'] - chief_mean_work_temp['Ort. YARINA DEVİR EDİLEN_minmax'] - chief_mean_work_temp['Ort. İPTAL - EK-3 SAYISI (%)_minmax'] - chief_mean_work_temp['Ort. İPTAL_minmax']"
      ],
      "metadata": {
        "id": "KaAIHsO9-YQz"
      },
      "execution_count": null,
      "outputs": []
    },
    {
      "cell_type": "code",
      "source": [],
      "metadata": {
        "id": "HF2IZnhT_HRV"
      },
      "execution_count": null,
      "outputs": []
    },
    {
      "cell_type": "code",
      "source": [
        "chief_mean_work_temp"
      ],
      "metadata": {
        "id": "c-iPuXt_-dW-"
      },
      "execution_count": null,
      "outputs": []
    },
    {
      "cell_type": "code",
      "source": [
        "plt.figure(figsize=(10, 6))\n",
        "plt.bar(chief_mean_work_temp['ŞEF'], chief_mean_work_temp['performance'])\n",
        "plt.xlabel('ŞEF')\n",
        "plt.ylabel('Performance')\n",
        "plt.title('ŞEF PERFORMANS PUANLARI')\n",
        "plt.xticks(rotation=45, ha='right')\n",
        "plt.tight_layout()\n",
        "plt.show()"
      ],
      "metadata": {
        "id": "d5SW4vVJ-wyK"
      },
      "execution_count": null,
      "outputs": []
    },
    {
      "cell_type": "code",
      "source": [
        "chief_mean_work_uncancelled.rename(columns={'Ort. EK-3 SAYISI':'İptaller Çıkarıldı(Ort. EK-3 SAYISI)'}).to_excel('Şef İptaller Hariç Çalışma Analizi.xlsx')"
      ],
      "metadata": {
        "id": "dO3bvOKu-4y1"
      },
      "execution_count": null,
      "outputs": []
    },
    {
      "cell_type": "code",
      "source": [],
      "metadata": {
        "id": "NZpmhxHh_Mxr"
      },
      "execution_count": null,
      "outputs": []
    }
  ]
}