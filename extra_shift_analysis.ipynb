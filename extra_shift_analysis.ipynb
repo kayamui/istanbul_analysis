{
  "nbformat": 4,
  "nbformat_minor": 0,
  "metadata": {
    "colab": {
      "provenance": [],
      "authorship_tag": "ABX9TyMOR41n7/o9V7b/Eg4KX2no",
      "include_colab_link": true
    },
    "kernelspec": {
      "name": "python3",
      "display_name": "Python 3"
    },
    "language_info": {
      "name": "python"
    }
  },
  "cells": [
    {
      "cell_type": "markdown",
      "metadata": {
        "id": "view-in-github",
        "colab_type": "text"
      },
      "source": [
        "<a href=\"https://colab.research.google.com/github/kayamui/istanbul_analysis/blob/main/extra_shift_analysis.ipynb\" target=\"_parent\"><img src=\"https://colab.research.google.com/assets/colab-badge.svg\" alt=\"Open In Colab\"/></a>"
      ]
    },
    {
      "cell_type": "code",
      "execution_count": 1,
      "metadata": {
        "id": "8VKVEPq6ef-w"
      },
      "outputs": [],
      "source": [
        "import pandas as pd\n",
        "import numpy as np\n",
        "import openpyxl\n",
        "import warnings\n",
        "warnings.filterwarnings('ignore')"
      ]
    },
    {
      "cell_type": "code",
      "source": [
        "path= 'C:/Users/mkaya/Onedrive/Masaüstü/istanbul112_hidden/finished_works/staff_coordination/'"
      ],
      "metadata": {
        "id": "zv3rpYY4OlwQ"
      },
      "execution_count": 2,
      "outputs": []
    },
    {
      "cell_type": "code",
      "source": [],
      "metadata": {
        "id": "GN7ZwgBZOlyX"
      },
      "execution_count": 2,
      "outputs": []
    },
    {
      "cell_type": "code",
      "source": [],
      "metadata": {
        "id": "h-r8OqaXOl0c"
      },
      "execution_count": 2,
      "outputs": []
    },
    {
      "cell_type": "markdown",
      "source": [
        "*/\n",
        "Necessary files:\n",
        "1. The all data in 112 online\n",
        "2. The taken shifts data on 112 online"
      ],
      "metadata": {
        "id": "vtVCDUJMOmhz"
      }
    },
    {
      "cell_type": "code",
      "source": [
        "df_all = pd.read_excel('C:/Users/mkaya/Downloads/OCAK 2024 A BÖLGESİ.xlsx') #The all data, not only the region A"
      ],
      "metadata": {
        "id": "iQhFSEqie_Rr"
      },
      "execution_count": 3,
      "outputs": []
    },
    {
      "cell_type": "code",
      "source": [
        "df_all= df_all[~(df_all['Birim Adı'].isin(['AVRUPA KKM','BAHÇELİEVLER DEVLET HASTANESİ 112','BAKIRKÖY MURAT DİLMENER','KKM HAVUZ']))]"
      ],
      "metadata": {
        "id": "JxvrgYiG8X5F"
      },
      "execution_count": 4,
      "outputs": []
    },
    {
      "cell_type": "code",
      "source": [
        "df_all['Doktor/AAABT']= df_all['Doktor/AAABT'].astype(str).str.strip().astype(str).str.split(',')\n",
        "df_all['Att']= df_all['Att'].astype(str).str.strip().astype(str).str.split(',')\n",
        "df_all['Şoför']= df_all['Şoför'].astype(str).str.strip().astype(str).str.split(',')"
      ],
      "metadata": {
        "id": "DgdV4uCXhVyu"
      },
      "execution_count": 5,
      "outputs": []
    },
    {
      "cell_type": "code",
      "source": [
        "df_all['Sağlık']= df_all['Doktor/AAABT'] + df_all['Att']"
      ],
      "metadata": {
        "id": "hWBPuSq0hp-C"
      },
      "execution_count": 6,
      "outputs": []
    },
    {
      "cell_type": "code",
      "source": [
        "df_all.drop(columns=['Doktor/AAABT', 'Att'], inplace=True)"
      ],
      "metadata": {
        "id": "S3_BsrsKiBVF"
      },
      "execution_count": 7,
      "outputs": []
    },
    {
      "cell_type": "code",
      "source": [
        "health_staff= df_all[['Birim Adı', 'Sağlık']]\n",
        "driver= df_all[['Birim Adı', 'Şoför']]"
      ],
      "metadata": {
        "id": "9jyU8_1P0wqN"
      },
      "execution_count": 8,
      "outputs": []
    },
    {
      "cell_type": "code",
      "source": [],
      "metadata": {
        "id": "a-az-jG40wuW"
      },
      "execution_count": 8,
      "outputs": []
    },
    {
      "cell_type": "code",
      "source": [
        "health_staff= health_staff.explode('Sağlık')\n",
        "driver= driver.explode('Şoför')"
      ],
      "metadata": {
        "id": "YWuVHC5diKCN"
      },
      "execution_count": 9,
      "outputs": []
    },
    {
      "cell_type": "code",
      "source": [
        "health_staff= health_staff[health_staff['Sağlık']!='nan']\n",
        "driver= driver[driver['Şoför']!='nan']"
      ],
      "metadata": {
        "id": "RLxEFh_21Yvs"
      },
      "execution_count": 10,
      "outputs": []
    },
    {
      "cell_type": "code",
      "source": [
        "health_staff['Sağlık']= health_staff['Sağlık'].astype(int)\n",
        "driver['Şoför']= driver['Şoför'].astype(int)"
      ],
      "metadata": {
        "id": "fgwVfl41iTPI"
      },
      "execution_count": 11,
      "outputs": []
    },
    {
      "cell_type": "code",
      "source": [
        "driver['value']= 1\n",
        "health_staff['value']= 1"
      ],
      "metadata": {
        "id": "0IDSzUKutlXB"
      },
      "execution_count": 12,
      "outputs": []
    },
    {
      "cell_type": "code",
      "source": [
        "df_saglik= health_staff.pivot_table(index='Birim Adı', columns='Sağlık', values='value', aggfunc='sum').fillna(0)\n",
        "df_driver= driver.pivot_table(index='Birim Adı', columns='Şoför', values='value', aggfunc='sum').fillna(0)"
      ],
      "metadata": {
        "id": "nfZCCVwPFPwK"
      },
      "execution_count": 13,
      "outputs": []
    },
    {
      "cell_type": "code",
      "source": [
        "df_saglik['Nokta Toplamı'] = df_saglik.sum(axis=1, numeric_only=True)\n",
        "df_saglik.loc[len(df_saglik)] = df_saglik.sum(axis=0, numeric_only=True)"
      ],
      "metadata": {
        "id": "d_m47stzsOxh"
      },
      "execution_count": 14,
      "outputs": []
    },
    {
      "cell_type": "code",
      "source": [
        "df_saglik.rename(index={df_saglik.index[-1]: 'Gün Toplamı'}, inplace=True)"
      ],
      "metadata": {
        "id": "dmw1tvE36fGh"
      },
      "execution_count": 15,
      "outputs": []
    },
    {
      "cell_type": "code",
      "source": [
        "df_driver['Nokta Toplamı'] = df_driver.sum(axis=1, numeric_only=True)\n",
        "df_driver.loc[len(df_driver)] = df_driver.sum(axis=0, numeric_only=True)\n",
        "df_driver.rename(index={df_driver.index[-1]: 'Gün Toplamı'}, inplace=True)"
      ],
      "metadata": {
        "id": "bHZdfb984xoq"
      },
      "execution_count": 16,
      "outputs": []
    },
    {
      "cell_type": "code",
      "source": [
        "df_taken= pd.read_excel('C:/Users/mkaya/Downloads/Alınan_Nöbetler OCAK 2024.xlsx')"
      ],
      "metadata": {
        "id": "NctGdBdJ51vK"
      },
      "execution_count": 17,
      "outputs": []
    },
    {
      "cell_type": "code",
      "source": [
        "df_taken['Nöbet Başlangiç Bitiş Tarihi']= df_taken['Nöbet Başlangiç Bitiş Tarihi'].astype(str).str.split('-')\n",
        "df_taken['Nöbet Başlangiç Bitiş Tarihi']= df_taken['Nöbet Başlangiç Bitiş Tarihi'].apply(lambda x: x[0])\n",
        "df_taken['Nöbet Başlangiç Bitiş Tarihi']= df_taken['Nöbet Başlangiç Bitiş Tarihi'].astype(str).str.split(' ')\n",
        "df_taken['Nöbet Başlangiç Bitiş Tarihi']= df_taken['Nöbet Başlangiç Bitiş Tarihi'].apply(lambda x: x[0])\n",
        "df_taken['Nöbet Başlangiç Bitiş Tarihi']= df_taken['Nöbet Başlangiç Bitiş Tarihi'].astype(str).str.strip()"
      ],
      "metadata": {
        "id": "CFK5x99a5mQm"
      },
      "execution_count": 18,
      "outputs": []
    },
    {
      "cell_type": "code",
      "source": [
        "df_taken['Nöbet Başlangiç Bitiş Tarihi'] = pd.to_datetime(df_taken['Nöbet Başlangiç Bitiş Tarihi'], format='%d.%m.%Y')"
      ],
      "metadata": {
        "id": "reuYg26x45Er"
      },
      "execution_count": 19,
      "outputs": []
    },
    {
      "cell_type": "code",
      "source": [
        "month = df_taken.iloc[0]['Nöbet Başlangiç Bitiş Tarihi'].month\n",
        "year= df_taken.iloc[0]['Nöbet Başlangiç Bitiş Tarihi'].year"
      ],
      "metadata": {
        "id": "hMgmKLl9-8LE"
      },
      "execution_count": 20,
      "outputs": []
    },
    {
      "cell_type": "code",
      "source": [
        "df_saglik.to_excel(path+f'{month}-{year} Açılan Sağlık Nöbeti.xlsx')"
      ],
      "metadata": {
        "id": "8jG5czjqsO04"
      },
      "execution_count": 21,
      "outputs": []
    },
    {
      "cell_type": "code",
      "source": [
        "df_driver.to_excel(path+f'{month}-{year} Açılan Sürücü Nöbeti.xlsx')"
      ],
      "metadata": {
        "id": "mm4P23ZB44dY"
      },
      "execution_count": 22,
      "outputs": []
    },
    {
      "cell_type": "code",
      "source": [
        "df_taken['Nöbet Başlangiç Bitiş Tarihi']= df_taken['Nöbet Başlangiç Bitiş Tarihi'].dt.day"
      ],
      "metadata": {
        "id": "iD_-wn4g-8Ng"
      },
      "execution_count": 23,
      "outputs": []
    },
    {
      "cell_type": "code",
      "source": [
        "df_taken['count']= 1"
      ],
      "metadata": {
        "id": "wX3x6CBg5Pv_"
      },
      "execution_count": 24,
      "outputs": []
    },
    {
      "cell_type": "code",
      "source": [
        "df_taken['Birim Adı']= df_taken['Birim Adı'].astype(str).str.replace('i','İ').astype(str).str.strip().astype(str).str.upper()"
      ],
      "metadata": {
        "id": "7uiVQqGe7Ir2"
      },
      "execution_count": 25,
      "outputs": []
    },
    {
      "cell_type": "code",
      "source": [
        "df_taken= df_taken[~(df_taken['Birim Adı'].isin(['AVRUPA KKM','BAHÇELİEVLER DEVLET HASTANESİ 112','BAKIRKÖY MURAT DİLMENER','KKM HAVUZ']))]"
      ],
      "metadata": {
        "id": "rzKg-zrS8KTM"
      },
      "execution_count": 26,
      "outputs": []
    },
    {
      "cell_type": "code",
      "source": [
        "df_taken_health= df_taken[(df_taken['Nöbet Tipi']=='ATT') |(df_taken['Nöbet Tipi']=='Dr/AABT')]\n",
        "df_taken_driver= df_taken[df_taken['Nöbet Tipi']=='Sürücü']"
      ],
      "metadata": {
        "id": "zJWczqgq7l5j"
      },
      "execution_count": 27,
      "outputs": []
    },
    {
      "cell_type": "code",
      "source": [
        "taken_health_pivot= df_taken_health.pivot_table(index='Birim Adı', columns='Nöbet Başlangiç Bitiş Tarihi', values='count', aggfunc='sum').fillna(0)\n",
        "taken_driver_pivot= df_taken_driver.pivot_table(index='Birim Adı', columns='Nöbet Başlangiç Bitiş Tarihi', values='count', aggfunc='sum').fillna(0)"
      ],
      "metadata": {
        "id": "wpyvE-4q9ISD"
      },
      "execution_count": 28,
      "outputs": []
    },
    {
      "cell_type": "code",
      "source": [
        "taken_health_pivot['Nokta Toplamı']= taken_health_pivot.sum(axis=1)\n",
        "taken_driver_pivot['Nokta Toplamı']= taken_driver_pivot.sum(axis=1)\n",
        "taken_health_pivot.loc[len(taken_health_pivot)]= taken_health_pivot.sum(axis=0)\n",
        "taken_driver_pivot.loc[len(taken_driver_pivot)]= taken_driver_pivot.sum(axis=0)"
      ],
      "metadata": {
        "id": "j-CJJb2i9Jev"
      },
      "execution_count": 29,
      "outputs": []
    },
    {
      "cell_type": "code",
      "source": [
        "taken_health_pivot = taken_health_pivot.rename(index={taken_health_pivot.index[-1]: 'Gün Toplamı'})\n",
        "taken_driver_pivot = taken_driver_pivot.rename(index={taken_driver_pivot.index[-1]: 'Gün Toplamı'})"
      ],
      "metadata": {
        "id": "Qp7IDCvv9WgQ"
      },
      "execution_count": 30,
      "outputs": []
    },
    {
      "cell_type": "code",
      "source": [
        "taken_health_pivot.to_excel(path+f'{month}-{year} Alınan Sağlık Nöbeti.xlsx')\n",
        "taken_driver_pivot.to_excel(path+f'{month}-{year} Alınan Sürücü Nöbeti.xlsx')"
      ],
      "metadata": {
        "id": "uiKrSNXI978z"
      },
      "execution_count": 31,
      "outputs": []
    },
    {
      "cell_type": "code",
      "source": [
        "health_difference_index= df_saglik.index.difference(taken_health_pivot.index)"
      ],
      "metadata": {
        "id": "BKhYU4ZPzHFf"
      },
      "execution_count": 32,
      "outputs": []
    },
    {
      "cell_type": "code",
      "source": [
        "for index in health_difference_index:\n",
        "    taken_health_pivot.loc[index]= 0"
      ],
      "metadata": {
        "id": "gBj2Y72azHH-"
      },
      "execution_count": 33,
      "outputs": []
    },
    {
      "cell_type": "code",
      "source": [
        "driver_difference_index= df_driver.index.difference(taken_driver_pivot.index)\n",
        "for index in driver_difference_index:\n",
        "    taken_driver_pivot.loc[index]= 0"
      ],
      "metadata": {
        "id": "RfF3yI4lziHu"
      },
      "execution_count": 34,
      "outputs": []
    },
    {
      "cell_type": "code",
      "source": [
        "untaken_health_pivot= df_saglik-taken_health_pivot"
      ],
      "metadata": {
        "id": "NxBvGBX3x2N-"
      },
      "execution_count": 35,
      "outputs": []
    },
    {
      "cell_type": "code",
      "source": [
        "untaken_driver_pivot= df_driver - taken_driver_pivot"
      ],
      "metadata": {
        "id": "QakCxpNvx5GT"
      },
      "execution_count": 36,
      "outputs": []
    },
    {
      "cell_type": "code",
      "source": [
        "untaken_driver_pivot.drop(index='Gün Toplamı', inplace=True)\n",
        "untaken_health_pivot.drop(index='Gün Toplamı', inplace=True)"
      ],
      "metadata": {
        "id": "vaDTlNen0fGE"
      },
      "execution_count": 37,
      "outputs": []
    },
    {
      "cell_type": "code",
      "source": [
        "untaken_driver_pivot.loc[len(untaken_driver_pivot)]= untaken_driver_pivot.sum(axis=0)\n",
        "untaken_health_pivot.loc[len(untaken_health_pivot)]= untaken_health_pivot.sum(axis=0)"
      ],
      "metadata": {
        "id": "PddoO8CBymsA"
      },
      "execution_count": 38,
      "outputs": []
    },
    {
      "cell_type": "code",
      "source": [
        "untaken_driver_pivot.rename(index={untaken_driver_pivot.index[-1]: 'Gün Toplamı'}, inplace=True)\n",
        "untaken_health_pivot.rename(index={untaken_health_pivot.index[-1]: 'Gün Toplamı'}, inplace=True)"
      ],
      "metadata": {
        "id": "SAATu7VJy5zw"
      },
      "execution_count": 39,
      "outputs": []
    },
    {
      "cell_type": "code",
      "source": [
        "untaken_driver_pivot.to_excel(path+f'{month}-{year} Alınmayan Sürücü Nöbeti.xlsx')"
      ],
      "metadata": {
        "id": "69OSyGo5yIXh"
      },
      "execution_count": 40,
      "outputs": []
    },
    {
      "cell_type": "code",
      "source": [
        "untaken_health_pivot.to_excel(path+f'{month}-{year} Alınmayan Sağlık Nöbeti.xlsx')"
      ],
      "metadata": {
        "id": "PvjGwL4pyiV0"
      },
      "execution_count": 41,
      "outputs": []
    },
    {
      "cell_type": "code",
      "source": [
        "file_path_1= path+f'{month}-{year} Açılan Sağlık Nöbeti.xlsx'\n",
        "file_path_2= path+f'{month}-{year} Açılan Sürücü Nöbeti.xlsx'\n",
        "file_path_3= path+f'{month}-{year} Alınan Sağlık Nöbeti.xlsx'\n",
        "file_path_4= path+f'{month}-{year} Alınan Sürücü Nöbeti.xlsx'\n",
        "file_path_5= path+f'{month}-{year} Alınmayan Sağlık Nöbeti.xlsx'\n",
        "file_path_6= path+f'{month}-{year} Alınmayan Sürücü Nöbeti.xlsx'"
      ],
      "metadata": {
        "id": "U6Sal5bG5P1O"
      },
      "execution_count": 42,
      "outputs": []
    },
    {
      "cell_type": "code",
      "source": [
        "from openpyxl import load_workbook\n",
        "from openpyxl.formatting.rule import ColorScaleRule\n",
        "from openpyxl.utils import get_column_letter\n",
        "\n",
        "file_paths= [file_path_1,file_path_2,file_path_3,file_path_4,file_path_5,file_path_6]\n",
        "for file_path in file_paths:\n",
        "\n",
        "  # Load the workbook and select the active worksheet\n",
        "  wb = load_workbook(file_path)\n",
        "  ws = wb.active\n",
        "\n",
        "  # Find last row and column\n",
        "  max_row = ws.max_row\n",
        "  max_col = ws.max_column\n",
        "\n",
        "  # Apply conditional formatting for \"Nokta Toplamı\" (last column, excluding last row)\n",
        "  nokta_toplami_col_letter = get_column_letter(max_col)\n",
        "  nokta_toplami_range = f\"{nokta_toplami_col_letter}2:{nokta_toplami_col_letter}{max_row-1}\"\n",
        "\n",
        "  color_scale_rule_nokta = ColorScaleRule(\n",
        "      start_type=\"min\", start_color=\"FFFFFF\",\n",
        "      mid_type=\"percentile\", mid_value=50, mid_color=\"FFFF99\",\n",
        "      end_type=\"max\", end_color=\"FF0000\"\n",
        "  )\n",
        "  ws.conditional_formatting.add(nokta_toplami_range, color_scale_rule_nokta)\n",
        "\n",
        "  # Apply conditional formatting for \"Gün Toplamı\" (last row, excluding last column)\n",
        "  gun_toplami_row = max_row\n",
        "  gun_toplami_range = f\"B{gun_toplami_row}:{get_column_letter(max_col - 1)}{gun_toplami_row}\"\n",
        "\n",
        "  color_scale_rule_gun = ColorScaleRule(\n",
        "      start_type=\"min\", start_color=\"FFFFFF\",\n",
        "      mid_type=\"percentile\", mid_value=50, mid_color=\"FFFF99\",\n",
        "      end_type=\"max\", end_color=\"FF0000\"\n",
        "  )\n",
        "  ws.conditional_formatting.add(gun_toplami_range, color_scale_rule_gun)\n",
        "\n",
        "  # Save the modified file\n",
        "  formatted_file_path = file_path\n",
        "  wb.save(formatted_file_path)\n",
        "\n",
        "  print(f\"Formatted file saved as {formatted_file_path}\")\n"
      ],
      "metadata": {
        "colab": {
          "base_uri": "https://localhost:8080/"
        },
        "id": "IdDvq188yjE_",
        "outputId": "91370d16-53c7-49d2-e3e5-c61437b11fa9"
      },
      "execution_count": 43,
      "outputs": [
        {
          "output_type": "stream",
          "name": "stdout",
          "text": [
            "Formatted file saved as C:/Users/mkaya/Onedrive/Masaüstü/istanbul112_hidden/finished_works/staff_coordination/1-2024 Açılan Sağlık Nöbeti.xlsx\n",
            "Formatted file saved as C:/Users/mkaya/Onedrive/Masaüstü/istanbul112_hidden/finished_works/staff_coordination/1-2024 Açılan Sürücü Nöbeti.xlsx\n",
            "Formatted file saved as C:/Users/mkaya/Onedrive/Masaüstü/istanbul112_hidden/finished_works/staff_coordination/1-2024 Alınan Sağlık Nöbeti.xlsx\n",
            "Formatted file saved as C:/Users/mkaya/Onedrive/Masaüstü/istanbul112_hidden/finished_works/staff_coordination/1-2024 Alınan Sürücü Nöbeti.xlsx\n",
            "Formatted file saved as C:/Users/mkaya/Onedrive/Masaüstü/istanbul112_hidden/finished_works/staff_coordination/1-2024 Alınmayan Sağlık Nöbeti.xlsx\n",
            "Formatted file saved as C:/Users/mkaya/Onedrive/Masaüstü/istanbul112_hidden/finished_works/staff_coordination/1-2024 Alınmayan Sürücü Nöbeti.xlsx\n"
          ]
        }
      ]
    },
    {
      "cell_type": "code",
      "source": [],
      "metadata": {
        "id": "orP2cH_k29Qm"
      },
      "execution_count": 43,
      "outputs": []
    }
  ]
}