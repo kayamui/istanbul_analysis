{
  "nbformat": 4,
  "nbformat_minor": 0,
  "metadata": {
    "colab": {
      "provenance": []
    },
    "kernelspec": {
      "name": "python3",
      "display_name": "Python 3"
    },
    "language_info": {
      "name": "python"
    }
  },
  "cells": [
    {
      "cell_type": "code",
      "source": [
        "################ NEW WORKOUT #################"
      ],
      "metadata": {
        "id": "eOhGSaWrykwy"
      },
      "execution_count": null,
      "outputs": []
    },
    {
      "cell_type": "code",
      "source": [
        "import pandas as pd\n",
        "import numpy as np"
      ],
      "metadata": {
        "id": "bXYG6bueyoex"
      },
      "execution_count": null,
      "outputs": []
    },
    {
      "cell_type": "code",
      "source": [
        "excel_file = pd.ExcelFile('C:/Users/mkaya/Onedrive/Masaüstü/istanbul112_hidden/data/case_reports/europe/2024/monthly/6-HAZİRAN 2024 AVR ASOS TANIDÖNÜŞTÜRÜLMÜŞ DEFTER.xlsx')\n",
        "dataframes= {sheet_name:excel_file.parse(sheet_name) for sheet_name in excel_file.sheet_names}\n",
        "dataframes.keys()"
      ],
      "metadata": {
        "colab": {
          "base_uri": "https://localhost:8080/"
        },
        "id": "Xum7D5FTaCxo",
        "outputId": "b95b45c7-33a7-4f28-d4f8-55f0b8b0c668"
      },
      "execution_count": null,
      "outputs": [
        {
          "output_type": "execute_result",
          "data": {
            "text/plain": [
              "dict_keys(['tanı özet', '52852-DEFTER', 'UÇAK34-94'])"
            ]
          },
          "metadata": {},
          "execution_count": 17
        }
      ]
    },
    {
      "cell_type": "code",
      "source": [],
      "metadata": {
        "id": "0mlqGHfKaZe6"
      },
      "execution_count": null,
      "outputs": []
    },
    {
      "cell_type": "code",
      "source": [
        "case_report= dataframes['52852-DEFTER']"
      ],
      "metadata": {
        "id": "jgBTwxu7yohT"
      },
      "execution_count": null,
      "outputs": []
    },
    {
      "cell_type": "code",
      "source": [
        "move_report= pd.read_excel('C:/Users/mkaya/Downloads/Report_istanbulsaglikrapor_Kontak Bazlı Araç Çalışma Raporu_09.08.2024_mti2co1z.a3x.xlsx')"
      ],
      "metadata": {
        "id": "gBy6kJQi30v_",
        "colab": {
          "base_uri": "https://localhost:8080/"
        },
        "outputId": "47a57d02-d1dc-4e25-c531-85dd659e5565"
      },
      "execution_count": null,
      "outputs": [
        {
          "output_type": "stream",
          "name": "stderr",
          "text": [
            "C:\\Users\\mkaya\\anaconda3\\lib\\site-packages\\openpyxl\\styles\\stylesheet.py:226: UserWarning: Workbook contains no default style, apply openpyxl's default\n",
            "  warn(\"Workbook contains no default style, apply openpyxl's default\")\n"
          ]
        }
      ]
    },
    {
      "cell_type": "code",
      "source": [
        "move_report.columns = move_report.iloc[0]\n",
        "move_report = move_report[1:]"
      ],
      "metadata": {
        "id": "qxBlGhTLZZDX"
      },
      "execution_count": null,
      "outputs": []
    },
    {
      "cell_type": "code",
      "source": [
        "move_report['Başlangıç Tarihi']= move_report['Başlangıç Tarihi'].str.replace(' Haziran ', '-06-').str.replace(' Pazartesi', '').str.replace(' Salı', '').str.replace(' Çarşamba', '').str.replace(' Perşembe', '').str.replace(' Cuma', '').str.replace(' Cumartesi', '').str.replace(' Pazar', '').str.replace('rtesi','')"
      ],
      "metadata": {
        "id": "vq7sW6jWyojl"
      },
      "execution_count": null,
      "outputs": []
    },
    {
      "cell_type": "code",
      "source": [
        "move_report"
      ],
      "metadata": {
        "colab": {
          "base_uri": "https://localhost:8080/",
          "height": 597
        },
        "id": "FzMEoKPbZl9T",
        "outputId": "a62c60bc-1a42-4284-e8c1-4370542c5d09"
      },
      "execution_count": null,
      "outputs": [
        {
          "output_type": "execute_result",
          "data": {
            "text/plain": [
              "0      Kayıt No Cihaz Numarası       Plaka     Başlangıç Tarihi  \\\n",
              "1             1         752150  34 YC 6941   1-06-2024 17:56:53   \n",
              "2             2         752150  34 YC 6941   1-06-2024 18:05:26   \n",
              "3             3         752150  34 YC 6941   1-06-2024 18:18:55   \n",
              "4             4         752150  34 YC 6941   1-06-2024 18:23:37   \n",
              "5             5         752150  34 YC 6941   2-06-2024 01:13:59   \n",
              "...         ...            ...         ...                  ...   \n",
              "227106   227106         293865  34 EZZ 393  30-06-2024 20:53:16   \n",
              "227107   227107         293865  34 EZZ 393  30-06-2024 21:57:14   \n",
              "227108   227108         293865  34 EZZ 393  30-06-2024 22:13:16   \n",
              "227109   227109         293865  34 EZZ 393  30-06-2024 22:31:45   \n",
              "227110      NaN            NaN         NaN                  NaN   \n",
              "\n",
              "0                                        Başlangıç Adresi  \\\n",
              "1        Alaçam Sk., Maden Mh., Adalar, İstanbul, Türkiye   \n",
              "2                                        Büyük İskele Cd.   \n",
              "3                                                     NaN   \n",
              "4       Fenerbahçeli Lefter Sk., Nizam Mh., Adalar, İs...   \n",
              "5                                          Marmara Denizi   \n",
              "...                                                   ...   \n",
              "227106                                                NaN   \n",
              "227107                                                NaN   \n",
              "227108                                                NaN   \n",
              "227109                                                NaN   \n",
              "227110                                                NaN   \n",
              "\n",
              "0                            Bitiş Tarihi  \\\n",
              "1       1 Haziran 2024 Cumartesi 18:01:17   \n",
              "2       1 Haziran 2024 Cumartesi 18:11:57   \n",
              "3       1 Haziran 2024 Cumartesi 18:20:36   \n",
              "4       1 Haziran 2024 Cumartesi 18:34:20   \n",
              "5           2 Haziran 2024 Pazar 01:16:11   \n",
              "...                                   ...   \n",
              "227106     30 Haziran 2024 Pazar 20:59:25   \n",
              "227107     30 Haziran 2024 Pazar 22:03:09   \n",
              "227108     30 Haziran 2024 Pazar 22:24:04   \n",
              "227109     30 Haziran 2024 Pazar 22:38:52   \n",
              "227110                                NaN   \n",
              "\n",
              "0                                            Bitiş Adresi      Mesafe  \\\n",
              "1                                        Büyük İskele Cd.        0.86   \n",
              "2                                                     NaN        0.66   \n",
              "3                                                     NaN        0.09   \n",
              "4        Alaçam Sk., Maden Mh., Adalar, İstanbul, Türkiye        1.24   \n",
              "5       Adalar İlçe Emniyet Müdürlüğü, Büyükada Polis ...        0.59   \n",
              "...                                                   ...         ...   \n",
              "227106                                                NaN        2.63   \n",
              "227107                                                NaN        3.11   \n",
              "227108                                                NaN        1.16   \n",
              "227109                                                NaN        4.16   \n",
              "227110                                                NaN  1195452,41   \n",
              "\n",
              "0      İş Kullanımı Maksimum Hız km/h Duraklama Süresi Rölanti Süresi  \\\n",
              "1                 0             33.28             33sn            8sn   \n",
              "2                 0             21.66             10sn            3sn   \n",
              "3                 0             28.42              0sn            0sn   \n",
              "4                 0             27.84        3dak 22sn            3sn   \n",
              "5                 0             29.97              4sn            3sn   \n",
              "...             ...               ...              ...            ...   \n",
              "227106            0             59.83             45sn           23sn   \n",
              "227107            0             66.38              9sn           23sn   \n",
              "227108            0             42.97             19sn           11sn   \n",
              "227109            0             69.63             23sn            2sn   \n",
              "227110         7,25               NaN              NaN            NaN   \n",
              "\n",
              "0      Kontak Açık Süresi Kontak Kapalı - Açık Arasındaki Duraklama Süresi  \n",
              "1               4dak 23sn                                              0sn  \n",
              "2               6dak 32sn                                         4dak 9sn  \n",
              "3               1dak 41sn                                        6dak 58sn  \n",
              "4              10dak 42sn                                         3dak 1sn  \n",
              "5               2dak 12sn                                   6sa 39dak 39sn  \n",
              "...                   ...                                              ...  \n",
              "227106           6dak 9sn                                       17dak 31sn  \n",
              "227107          5dak 54sn                                       57dak 49sn  \n",
              "227108         10dak 48sn                                        10dak 7sn  \n",
              "227109           7dak 7sn                                        7dak 41sn  \n",
              "227110                NaN                                              NaN  \n",
              "\n",
              "[227110 rows x 14 columns]"
            ],
            "text/html": [
              "<div>\n",
              "<style scoped>\n",
              "    .dataframe tbody tr th:only-of-type {\n",
              "        vertical-align: middle;\n",
              "    }\n",
              "\n",
              "    .dataframe tbody tr th {\n",
              "        vertical-align: top;\n",
              "    }\n",
              "\n",
              "    .dataframe thead th {\n",
              "        text-align: right;\n",
              "    }\n",
              "</style>\n",
              "<table border=\"1\" class=\"dataframe\">\n",
              "  <thead>\n",
              "    <tr style=\"text-align: right;\">\n",
              "      <th></th>\n",
              "      <th>Kayıt No</th>\n",
              "      <th>Cihaz Numarası</th>\n",
              "      <th>Plaka</th>\n",
              "      <th>Başlangıç Tarihi</th>\n",
              "      <th>Başlangıç Adresi</th>\n",
              "      <th>Bitiş Tarihi</th>\n",
              "      <th>Bitiş Adresi</th>\n",
              "      <th>Mesafe</th>\n",
              "      <th>İş Kullanımı</th>\n",
              "      <th>Maksimum Hız km/h</th>\n",
              "      <th>Duraklama Süresi</th>\n",
              "      <th>Rölanti Süresi</th>\n",
              "      <th>Kontak Açık Süresi</th>\n",
              "      <th>Kontak Kapalı - Açık Arasındaki Duraklama Süresi</th>\n",
              "    </tr>\n",
              "  </thead>\n",
              "  <tbody>\n",
              "    <tr>\n",
              "      <th>1</th>\n",
              "      <td>1</td>\n",
              "      <td>752150</td>\n",
              "      <td>34 YC 6941</td>\n",
              "      <td>1-06-2024 17:56:53</td>\n",
              "      <td>Alaçam Sk., Maden Mh., Adalar, İstanbul, Türkiye</td>\n",
              "      <td>1 Haziran 2024 Cumartesi 18:01:17</td>\n",
              "      <td>Büyük İskele Cd.</td>\n",
              "      <td>0.86</td>\n",
              "      <td>0</td>\n",
              "      <td>33.28</td>\n",
              "      <td>33sn</td>\n",
              "      <td>8sn</td>\n",
              "      <td>4dak 23sn</td>\n",
              "      <td>0sn</td>\n",
              "    </tr>\n",
              "    <tr>\n",
              "      <th>2</th>\n",
              "      <td>2</td>\n",
              "      <td>752150</td>\n",
              "      <td>34 YC 6941</td>\n",
              "      <td>1-06-2024 18:05:26</td>\n",
              "      <td>Büyük İskele Cd.</td>\n",
              "      <td>1 Haziran 2024 Cumartesi 18:11:57</td>\n",
              "      <td>NaN</td>\n",
              "      <td>0.66</td>\n",
              "      <td>0</td>\n",
              "      <td>21.66</td>\n",
              "      <td>10sn</td>\n",
              "      <td>3sn</td>\n",
              "      <td>6dak 32sn</td>\n",
              "      <td>4dak 9sn</td>\n",
              "    </tr>\n",
              "    <tr>\n",
              "      <th>3</th>\n",
              "      <td>3</td>\n",
              "      <td>752150</td>\n",
              "      <td>34 YC 6941</td>\n",
              "      <td>1-06-2024 18:18:55</td>\n",
              "      <td>NaN</td>\n",
              "      <td>1 Haziran 2024 Cumartesi 18:20:36</td>\n",
              "      <td>NaN</td>\n",
              "      <td>0.09</td>\n",
              "      <td>0</td>\n",
              "      <td>28.42</td>\n",
              "      <td>0sn</td>\n",
              "      <td>0sn</td>\n",
              "      <td>1dak 41sn</td>\n",
              "      <td>6dak 58sn</td>\n",
              "    </tr>\n",
              "    <tr>\n",
              "      <th>4</th>\n",
              "      <td>4</td>\n",
              "      <td>752150</td>\n",
              "      <td>34 YC 6941</td>\n",
              "      <td>1-06-2024 18:23:37</td>\n",
              "      <td>Fenerbahçeli Lefter Sk., Nizam Mh., Adalar, İs...</td>\n",
              "      <td>1 Haziran 2024 Cumartesi 18:34:20</td>\n",
              "      <td>Alaçam Sk., Maden Mh., Adalar, İstanbul, Türkiye</td>\n",
              "      <td>1.24</td>\n",
              "      <td>0</td>\n",
              "      <td>27.84</td>\n",
              "      <td>3dak 22sn</td>\n",
              "      <td>3sn</td>\n",
              "      <td>10dak 42sn</td>\n",
              "      <td>3dak 1sn</td>\n",
              "    </tr>\n",
              "    <tr>\n",
              "      <th>5</th>\n",
              "      <td>5</td>\n",
              "      <td>752150</td>\n",
              "      <td>34 YC 6941</td>\n",
              "      <td>2-06-2024 01:13:59</td>\n",
              "      <td>Marmara Denizi</td>\n",
              "      <td>2 Haziran 2024 Pazar 01:16:11</td>\n",
              "      <td>Adalar İlçe Emniyet Müdürlüğü, Büyükada Polis ...</td>\n",
              "      <td>0.59</td>\n",
              "      <td>0</td>\n",
              "      <td>29.97</td>\n",
              "      <td>4sn</td>\n",
              "      <td>3sn</td>\n",
              "      <td>2dak 12sn</td>\n",
              "      <td>6sa 39dak 39sn</td>\n",
              "    </tr>\n",
              "    <tr>\n",
              "      <th>...</th>\n",
              "      <td>...</td>\n",
              "      <td>...</td>\n",
              "      <td>...</td>\n",
              "      <td>...</td>\n",
              "      <td>...</td>\n",
              "      <td>...</td>\n",
              "      <td>...</td>\n",
              "      <td>...</td>\n",
              "      <td>...</td>\n",
              "      <td>...</td>\n",
              "      <td>...</td>\n",
              "      <td>...</td>\n",
              "      <td>...</td>\n",
              "      <td>...</td>\n",
              "    </tr>\n",
              "    <tr>\n",
              "      <th>227106</th>\n",
              "      <td>227106</td>\n",
              "      <td>293865</td>\n",
              "      <td>34 EZZ 393</td>\n",
              "      <td>30-06-2024 20:53:16</td>\n",
              "      <td>NaN</td>\n",
              "      <td>30 Haziran 2024 Pazar 20:59:25</td>\n",
              "      <td>NaN</td>\n",
              "      <td>2.63</td>\n",
              "      <td>0</td>\n",
              "      <td>59.83</td>\n",
              "      <td>45sn</td>\n",
              "      <td>23sn</td>\n",
              "      <td>6dak 9sn</td>\n",
              "      <td>17dak 31sn</td>\n",
              "    </tr>\n",
              "    <tr>\n",
              "      <th>227107</th>\n",
              "      <td>227107</td>\n",
              "      <td>293865</td>\n",
              "      <td>34 EZZ 393</td>\n",
              "      <td>30-06-2024 21:57:14</td>\n",
              "      <td>NaN</td>\n",
              "      <td>30 Haziran 2024 Pazar 22:03:09</td>\n",
              "      <td>NaN</td>\n",
              "      <td>3.11</td>\n",
              "      <td>0</td>\n",
              "      <td>66.38</td>\n",
              "      <td>9sn</td>\n",
              "      <td>23sn</td>\n",
              "      <td>5dak 54sn</td>\n",
              "      <td>57dak 49sn</td>\n",
              "    </tr>\n",
              "    <tr>\n",
              "      <th>227108</th>\n",
              "      <td>227108</td>\n",
              "      <td>293865</td>\n",
              "      <td>34 EZZ 393</td>\n",
              "      <td>30-06-2024 22:13:16</td>\n",
              "      <td>NaN</td>\n",
              "      <td>30 Haziran 2024 Pazar 22:24:04</td>\n",
              "      <td>NaN</td>\n",
              "      <td>1.16</td>\n",
              "      <td>0</td>\n",
              "      <td>42.97</td>\n",
              "      <td>19sn</td>\n",
              "      <td>11sn</td>\n",
              "      <td>10dak 48sn</td>\n",
              "      <td>10dak 7sn</td>\n",
              "    </tr>\n",
              "    <tr>\n",
              "      <th>227109</th>\n",
              "      <td>227109</td>\n",
              "      <td>293865</td>\n",
              "      <td>34 EZZ 393</td>\n",
              "      <td>30-06-2024 22:31:45</td>\n",
              "      <td>NaN</td>\n",
              "      <td>30 Haziran 2024 Pazar 22:38:52</td>\n",
              "      <td>NaN</td>\n",
              "      <td>4.16</td>\n",
              "      <td>0</td>\n",
              "      <td>69.63</td>\n",
              "      <td>23sn</td>\n",
              "      <td>2sn</td>\n",
              "      <td>7dak 7sn</td>\n",
              "      <td>7dak 41sn</td>\n",
              "    </tr>\n",
              "    <tr>\n",
              "      <th>227110</th>\n",
              "      <td>NaN</td>\n",
              "      <td>NaN</td>\n",
              "      <td>NaN</td>\n",
              "      <td>NaN</td>\n",
              "      <td>NaN</td>\n",
              "      <td>NaN</td>\n",
              "      <td>NaN</td>\n",
              "      <td>1195452,41</td>\n",
              "      <td>7,25</td>\n",
              "      <td>NaN</td>\n",
              "      <td>NaN</td>\n",
              "      <td>NaN</td>\n",
              "      <td>NaN</td>\n",
              "      <td>NaN</td>\n",
              "    </tr>\n",
              "  </tbody>\n",
              "</table>\n",
              "<p>227110 rows × 14 columns</p>\n",
              "</div>"
            ]
          },
          "metadata": {},
          "execution_count": 22
        }
      ]
    },
    {
      "cell_type": "code",
      "source": [
        "case_report"
      ],
      "metadata": {
        "colab": {
          "base_uri": "https://localhost:8080/",
          "height": 823
        },
        "id": "xmzMe5d9aAPx",
        "outputId": "197456ae-8265-4313-b723-fb4ddbade2e4"
      },
      "execution_count": null,
      "outputs": [
        {
          "output_type": "execute_result",
          "data": {
            "text/plain": [
              "        Sıra     Şehir           İlçe                            İstasyon Adı  \\\n",
              "0         11  İSTANBUL   KÜÇÜKÇEKMECE         İSTANBUL K.ÇEKMECE 11 NOLU ASHİ   \n",
              "1         43  İSTANBUL      KAĞITHANE          İSTANBUL KAĞITHANE 5 NOLU ASHİ   \n",
              "2         18  İSTANBUL          FATİH  İSTANBUL FATİH 11 NOLU SARAYBURNU ASHİ   \n",
              "3         71  İSTANBUL   BAHÇELİEVLER       İSTANBUL BAHÇELİEVLER 6 NOLU ASHİ   \n",
              "4         24  İSTANBUL  GAZİOSMANPAŞA             İSTANBUL G.O.P. 7 NOLU ASHİ   \n",
              "...      ...       ...            ...                                     ...   \n",
              "52847  63260  İSTANBUL     SULTANGAZİ         İSTANBUL SULTANGAZİ 6 NOLU ASHİ   \n",
              "52848  63284  İSTANBUL        SARIYER    İSTANBUL SARIYER 4 NOLU TARABYA ASHİ   \n",
              "52849  63294  İSTANBUL        ESENLER            İSTANBUL ESENLER 2 NOLU ASHİ   \n",
              "52850  63259  İSTANBUL  GAZİOSMANPAŞA             İSTANBUL G.O.P. 7 NOLU ASHİ   \n",
              "52851  63345  İSTANBUL     BEYLİKDÜZÜ         İSTANBUL BEYLİKDÜZÜ 6 NOLU ASHİ   \n",
              "\n",
              "      Ekip No Tabletten Mi? Ambulans Plaka  Araç Tür  Palet Kullanim  \\\n",
              "0       KÇK11          Evet       34YC6107  Panelvan             NaN   \n",
              "1        KĞT5          Evet       34VZ2215  Panelvan             NaN   \n",
              "2       FTH11          Evet       34YB6021  Panelvan             NaN   \n",
              "3        BHC6          Evet       34YB2629  Panelvan             NaN   \n",
              "4        GOP7          Evet       34YB6407  Panelvan             NaN   \n",
              "...       ...           ...            ...       ...             ...   \n",
              "52847    STG6          Evet       34YB5022  Panelvan             NaN   \n",
              "52848    SRY4          Evet       34DOD400  Panelvan             NaN   \n",
              "52849    ESN2          Evet       34BH5684  Panelvan             NaN   \n",
              "52850    GOP7          Evet       34DUP325  Panelvan             NaN   \n",
              "52851    BDZ6          Evet       34DOV139  Panelvan             NaN   \n",
              "\n",
              "      MANUEL ŞEF TARİHİ  ...                     Doktor Onay Durum  \\\n",
              "0            2024-05-31  ...                                   NaN   \n",
              "1            2024-05-31  ...                                   NaN   \n",
              "2            2024-05-31  ...  Doktor Hasta Bilgisi Sorgulamamıştır   \n",
              "3            2024-05-31  ...                                   NaN   \n",
              "4            2024-05-31  ...  Doktor Hasta Bilgisi Sorgulamamıştır   \n",
              "...                 ...  ...                                   ...   \n",
              "52847        2024-06-30  ...  Doktor Hasta Bilgisi Sorgulamamıştır   \n",
              "52848        2024-06-30  ...                                   NaN   \n",
              "52849        2024-06-30  ...  Doktor Hasta Bilgisi Sorgulamamıştır   \n",
              "52850        2024-06-30  ...                                   NaN   \n",
              "52851        2024-06-30  ...                                   NaN   \n",
              "\n",
              "      Onaylayan Doktor T.C Kimlik No Tabletten Gönderilme Tarihi\\n  \\\n",
              "0                                NaN                           NaN   \n",
              "1                                NaN                           NaN   \n",
              "2                                NaN                    01-06-2024   \n",
              "3                                NaN                           NaN   \n",
              "4                                NaN                    01-06-2024   \n",
              "...                              ...                           ...   \n",
              "52847                            NaN                    01-07-2024   \n",
              "52848                            NaN                           NaN   \n",
              "52849                            NaN                    01-07-2024   \n",
              "52850                            NaN                           NaN   \n",
              "52851                            NaN                           NaN   \n",
              "\n",
              "      Tabletten Gönderilme Saati\\n Doktorun Sorguladığı Tarih\\n  \\\n",
              "0                              NaN                          NaN   \n",
              "1                              NaN                          NaN   \n",
              "2                         01:01:53                          NaN   \n",
              "3                              NaN                          NaN   \n",
              "4                         01:10:36                          NaN   \n",
              "...                            ...                          ...   \n",
              "52847                     00:38:44                          NaN   \n",
              "52848                          NaN                          NaN   \n",
              "52849                     00:58:56                          NaN   \n",
              "52850                          NaN                          NaN   \n",
              "52851                          NaN                          NaN   \n",
              "\n",
              "      Doktorun Sorguladığı Saat  Doktor Onay Tarihi  Doktor Onay Saati\\n  \\\n",
              "0                           NaN                 NaN                  NaN   \n",
              "1                           NaN                 NaN                  NaN   \n",
              "2                           NaN                 NaN                  NaN   \n",
              "3                           NaN                 NaN                  NaN   \n",
              "4                           NaN                 NaN                  NaN   \n",
              "...                         ...                 ...                  ...   \n",
              "52847                       NaN                 NaN                  NaN   \n",
              "52848                       NaN                 NaN                  NaN   \n",
              "52849                       NaN                 NaN                  NaN   \n",
              "52850                       NaN                 NaN                  NaN   \n",
              "52851                       NaN                 NaN                  NaN   \n",
              "\n",
              "      Doktor Onayı Sorgulama Tarihi Doktor Onayı Sorgulama Saati  \n",
              "0                               NaN                          NaN  \n",
              "1                               NaN                          NaN  \n",
              "2                               NaN                          NaN  \n",
              "3                               NaN                          NaN  \n",
              "4                               NaN                          NaN  \n",
              "...                             ...                          ...  \n",
              "52847                           NaN                          NaN  \n",
              "52848                           NaN                          NaN  \n",
              "52849                           NaN                          NaN  \n",
              "52850                           NaN                          NaN  \n",
              "52851                           NaN                          NaN  \n",
              "\n",
              "[52852 rows x 123 columns]"
            ],
            "text/html": [
              "<div>\n",
              "<style scoped>\n",
              "    .dataframe tbody tr th:only-of-type {\n",
              "        vertical-align: middle;\n",
              "    }\n",
              "\n",
              "    .dataframe tbody tr th {\n",
              "        vertical-align: top;\n",
              "    }\n",
              "\n",
              "    .dataframe thead th {\n",
              "        text-align: right;\n",
              "    }\n",
              "</style>\n",
              "<table border=\"1\" class=\"dataframe\">\n",
              "  <thead>\n",
              "    <tr style=\"text-align: right;\">\n",
              "      <th></th>\n",
              "      <th>Sıra</th>\n",
              "      <th>Şehir</th>\n",
              "      <th>İlçe</th>\n",
              "      <th>İstasyon Adı</th>\n",
              "      <th>Ekip No</th>\n",
              "      <th>Tabletten Mi?</th>\n",
              "      <th>Ambulans Plaka</th>\n",
              "      <th>Araç Tür</th>\n",
              "      <th>Palet Kullanim</th>\n",
              "      <th>MANUEL ŞEF TARİHİ</th>\n",
              "      <th>...</th>\n",
              "      <th>Doktor Onay Durum</th>\n",
              "      <th>Onaylayan Doktor T.C Kimlik No</th>\n",
              "      <th>Tabletten Gönderilme Tarihi\\n</th>\n",
              "      <th>Tabletten Gönderilme Saati\\n</th>\n",
              "      <th>Doktorun Sorguladığı Tarih\\n</th>\n",
              "      <th>Doktorun Sorguladığı Saat</th>\n",
              "      <th>Doktor Onay Tarihi</th>\n",
              "      <th>Doktor Onay Saati\\n</th>\n",
              "      <th>Doktor Onayı Sorgulama Tarihi</th>\n",
              "      <th>Doktor Onayı Sorgulama Saati</th>\n",
              "    </tr>\n",
              "  </thead>\n",
              "  <tbody>\n",
              "    <tr>\n",
              "      <th>0</th>\n",
              "      <td>11</td>\n",
              "      <td>İSTANBUL</td>\n",
              "      <td>KÜÇÜKÇEKMECE</td>\n",
              "      <td>İSTANBUL K.ÇEKMECE 11 NOLU ASHİ</td>\n",
              "      <td>KÇK11</td>\n",
              "      <td>Evet</td>\n",
              "      <td>34YC6107</td>\n",
              "      <td>Panelvan</td>\n",
              "      <td>NaN</td>\n",
              "      <td>2024-05-31</td>\n",
              "      <td>...</td>\n",
              "      <td>NaN</td>\n",
              "      <td>NaN</td>\n",
              "      <td>NaN</td>\n",
              "      <td>NaN</td>\n",
              "      <td>NaN</td>\n",
              "      <td>NaN</td>\n",
              "      <td>NaN</td>\n",
              "      <td>NaN</td>\n",
              "      <td>NaN</td>\n",
              "      <td>NaN</td>\n",
              "    </tr>\n",
              "    <tr>\n",
              "      <th>1</th>\n",
              "      <td>43</td>\n",
              "      <td>İSTANBUL</td>\n",
              "      <td>KAĞITHANE</td>\n",
              "      <td>İSTANBUL KAĞITHANE 5 NOLU ASHİ</td>\n",
              "      <td>KĞT5</td>\n",
              "      <td>Evet</td>\n",
              "      <td>34VZ2215</td>\n",
              "      <td>Panelvan</td>\n",
              "      <td>NaN</td>\n",
              "      <td>2024-05-31</td>\n",
              "      <td>...</td>\n",
              "      <td>NaN</td>\n",
              "      <td>NaN</td>\n",
              "      <td>NaN</td>\n",
              "      <td>NaN</td>\n",
              "      <td>NaN</td>\n",
              "      <td>NaN</td>\n",
              "      <td>NaN</td>\n",
              "      <td>NaN</td>\n",
              "      <td>NaN</td>\n",
              "      <td>NaN</td>\n",
              "    </tr>\n",
              "    <tr>\n",
              "      <th>2</th>\n",
              "      <td>18</td>\n",
              "      <td>İSTANBUL</td>\n",
              "      <td>FATİH</td>\n",
              "      <td>İSTANBUL FATİH 11 NOLU SARAYBURNU ASHİ</td>\n",
              "      <td>FTH11</td>\n",
              "      <td>Evet</td>\n",
              "      <td>34YB6021</td>\n",
              "      <td>Panelvan</td>\n",
              "      <td>NaN</td>\n",
              "      <td>2024-05-31</td>\n",
              "      <td>...</td>\n",
              "      <td>Doktor Hasta Bilgisi Sorgulamamıştır</td>\n",
              "      <td>NaN</td>\n",
              "      <td>01-06-2024</td>\n",
              "      <td>01:01:53</td>\n",
              "      <td>NaN</td>\n",
              "      <td>NaN</td>\n",
              "      <td>NaN</td>\n",
              "      <td>NaN</td>\n",
              "      <td>NaN</td>\n",
              "      <td>NaN</td>\n",
              "    </tr>\n",
              "    <tr>\n",
              "      <th>3</th>\n",
              "      <td>71</td>\n",
              "      <td>İSTANBUL</td>\n",
              "      <td>BAHÇELİEVLER</td>\n",
              "      <td>İSTANBUL BAHÇELİEVLER 6 NOLU ASHİ</td>\n",
              "      <td>BHC6</td>\n",
              "      <td>Evet</td>\n",
              "      <td>34YB2629</td>\n",
              "      <td>Panelvan</td>\n",
              "      <td>NaN</td>\n",
              "      <td>2024-05-31</td>\n",
              "      <td>...</td>\n",
              "      <td>NaN</td>\n",
              "      <td>NaN</td>\n",
              "      <td>NaN</td>\n",
              "      <td>NaN</td>\n",
              "      <td>NaN</td>\n",
              "      <td>NaN</td>\n",
              "      <td>NaN</td>\n",
              "      <td>NaN</td>\n",
              "      <td>NaN</td>\n",
              "      <td>NaN</td>\n",
              "    </tr>\n",
              "    <tr>\n",
              "      <th>4</th>\n",
              "      <td>24</td>\n",
              "      <td>İSTANBUL</td>\n",
              "      <td>GAZİOSMANPAŞA</td>\n",
              "      <td>İSTANBUL G.O.P. 7 NOLU ASHİ</td>\n",
              "      <td>GOP7</td>\n",
              "      <td>Evet</td>\n",
              "      <td>34YB6407</td>\n",
              "      <td>Panelvan</td>\n",
              "      <td>NaN</td>\n",
              "      <td>2024-05-31</td>\n",
              "      <td>...</td>\n",
              "      <td>Doktor Hasta Bilgisi Sorgulamamıştır</td>\n",
              "      <td>NaN</td>\n",
              "      <td>01-06-2024</td>\n",
              "      <td>01:10:36</td>\n",
              "      <td>NaN</td>\n",
              "      <td>NaN</td>\n",
              "      <td>NaN</td>\n",
              "      <td>NaN</td>\n",
              "      <td>NaN</td>\n",
              "      <td>NaN</td>\n",
              "    </tr>\n",
              "    <tr>\n",
              "      <th>...</th>\n",
              "      <td>...</td>\n",
              "      <td>...</td>\n",
              "      <td>...</td>\n",
              "      <td>...</td>\n",
              "      <td>...</td>\n",
              "      <td>...</td>\n",
              "      <td>...</td>\n",
              "      <td>...</td>\n",
              "      <td>...</td>\n",
              "      <td>...</td>\n",
              "      <td>...</td>\n",
              "      <td>...</td>\n",
              "      <td>...</td>\n",
              "      <td>...</td>\n",
              "      <td>...</td>\n",
              "      <td>...</td>\n",
              "      <td>...</td>\n",
              "      <td>...</td>\n",
              "      <td>...</td>\n",
              "      <td>...</td>\n",
              "      <td>...</td>\n",
              "    </tr>\n",
              "    <tr>\n",
              "      <th>52847</th>\n",
              "      <td>63260</td>\n",
              "      <td>İSTANBUL</td>\n",
              "      <td>SULTANGAZİ</td>\n",
              "      <td>İSTANBUL SULTANGAZİ 6 NOLU ASHİ</td>\n",
              "      <td>STG6</td>\n",
              "      <td>Evet</td>\n",
              "      <td>34YB5022</td>\n",
              "      <td>Panelvan</td>\n",
              "      <td>NaN</td>\n",
              "      <td>2024-06-30</td>\n",
              "      <td>...</td>\n",
              "      <td>Doktor Hasta Bilgisi Sorgulamamıştır</td>\n",
              "      <td>NaN</td>\n",
              "      <td>01-07-2024</td>\n",
              "      <td>00:38:44</td>\n",
              "      <td>NaN</td>\n",
              "      <td>NaN</td>\n",
              "      <td>NaN</td>\n",
              "      <td>NaN</td>\n",
              "      <td>NaN</td>\n",
              "      <td>NaN</td>\n",
              "    </tr>\n",
              "    <tr>\n",
              "      <th>52848</th>\n",
              "      <td>63284</td>\n",
              "      <td>İSTANBUL</td>\n",
              "      <td>SARIYER</td>\n",
              "      <td>İSTANBUL SARIYER 4 NOLU TARABYA ASHİ</td>\n",
              "      <td>SRY4</td>\n",
              "      <td>Evet</td>\n",
              "      <td>34DOD400</td>\n",
              "      <td>Panelvan</td>\n",
              "      <td>NaN</td>\n",
              "      <td>2024-06-30</td>\n",
              "      <td>...</td>\n",
              "      <td>NaN</td>\n",
              "      <td>NaN</td>\n",
              "      <td>NaN</td>\n",
              "      <td>NaN</td>\n",
              "      <td>NaN</td>\n",
              "      <td>NaN</td>\n",
              "      <td>NaN</td>\n",
              "      <td>NaN</td>\n",
              "      <td>NaN</td>\n",
              "      <td>NaN</td>\n",
              "    </tr>\n",
              "    <tr>\n",
              "      <th>52849</th>\n",
              "      <td>63294</td>\n",
              "      <td>İSTANBUL</td>\n",
              "      <td>ESENLER</td>\n",
              "      <td>İSTANBUL ESENLER 2 NOLU ASHİ</td>\n",
              "      <td>ESN2</td>\n",
              "      <td>Evet</td>\n",
              "      <td>34BH5684</td>\n",
              "      <td>Panelvan</td>\n",
              "      <td>NaN</td>\n",
              "      <td>2024-06-30</td>\n",
              "      <td>...</td>\n",
              "      <td>Doktor Hasta Bilgisi Sorgulamamıştır</td>\n",
              "      <td>NaN</td>\n",
              "      <td>01-07-2024</td>\n",
              "      <td>00:58:56</td>\n",
              "      <td>NaN</td>\n",
              "      <td>NaN</td>\n",
              "      <td>NaN</td>\n",
              "      <td>NaN</td>\n",
              "      <td>NaN</td>\n",
              "      <td>NaN</td>\n",
              "    </tr>\n",
              "    <tr>\n",
              "      <th>52850</th>\n",
              "      <td>63259</td>\n",
              "      <td>İSTANBUL</td>\n",
              "      <td>GAZİOSMANPAŞA</td>\n",
              "      <td>İSTANBUL G.O.P. 7 NOLU ASHİ</td>\n",
              "      <td>GOP7</td>\n",
              "      <td>Evet</td>\n",
              "      <td>34DUP325</td>\n",
              "      <td>Panelvan</td>\n",
              "      <td>NaN</td>\n",
              "      <td>2024-06-30</td>\n",
              "      <td>...</td>\n",
              "      <td>NaN</td>\n",
              "      <td>NaN</td>\n",
              "      <td>NaN</td>\n",
              "      <td>NaN</td>\n",
              "      <td>NaN</td>\n",
              "      <td>NaN</td>\n",
              "      <td>NaN</td>\n",
              "      <td>NaN</td>\n",
              "      <td>NaN</td>\n",
              "      <td>NaN</td>\n",
              "    </tr>\n",
              "    <tr>\n",
              "      <th>52851</th>\n",
              "      <td>63345</td>\n",
              "      <td>İSTANBUL</td>\n",
              "      <td>BEYLİKDÜZÜ</td>\n",
              "      <td>İSTANBUL BEYLİKDÜZÜ 6 NOLU ASHİ</td>\n",
              "      <td>BDZ6</td>\n",
              "      <td>Evet</td>\n",
              "      <td>34DOV139</td>\n",
              "      <td>Panelvan</td>\n",
              "      <td>NaN</td>\n",
              "      <td>2024-06-30</td>\n",
              "      <td>...</td>\n",
              "      <td>NaN</td>\n",
              "      <td>NaN</td>\n",
              "      <td>NaN</td>\n",
              "      <td>NaN</td>\n",
              "      <td>NaN</td>\n",
              "      <td>NaN</td>\n",
              "      <td>NaN</td>\n",
              "      <td>NaN</td>\n",
              "      <td>NaN</td>\n",
              "      <td>NaN</td>\n",
              "    </tr>\n",
              "  </tbody>\n",
              "</table>\n",
              "<p>52852 rows × 123 columns</p>\n",
              "</div>"
            ]
          },
          "metadata": {},
          "execution_count": 23
        }
      ]
    },
    {
      "cell_type": "code",
      "source": [
        "case_report['VAKAYA CIKIS TARIH SAAT']= case_report['Vakaya Çıkış Tarihi'] +' '+ case_report['Vakaya Çıkış Saati']"
      ],
      "metadata": {
        "id": "hfZA-Z1cyooI"
      },
      "execution_count": null,
      "outputs": []
    },
    {
      "cell_type": "code",
      "source": [
        "case_report['Ambulans Plaka']"
      ],
      "metadata": {
        "colab": {
          "base_uri": "https://localhost:8080/"
        },
        "id": "vHe-W8iByolo",
        "outputId": "3d8d795f-66a0-47f6-d9db-dea0e19b96f5"
      },
      "execution_count": null,
      "outputs": [
        {
          "output_type": "execute_result",
          "data": {
            "text/plain": [
              "0        34YC6107\n",
              "1        34VZ2215\n",
              "2        34YB6021\n",
              "3        34YB2629\n",
              "4        34YB6407\n",
              "           ...   \n",
              "52847    34YB5022\n",
              "52848    34DOD400\n",
              "52849    34BH5684\n",
              "52850    34DUP325\n",
              "52851    34DOV139\n",
              "Name: Ambulans Plaka, Length: 52852, dtype: object"
            ]
          },
          "metadata": {},
          "execution_count": 25
        }
      ]
    },
    {
      "cell_type": "code",
      "source": [
        "move_report['Plaka']= move_report['Plaka'].str.upper().str.replace(' ', '')"
      ],
      "metadata": {
        "id": "cTjTLJp0yoqg"
      },
      "execution_count": null,
      "outputs": []
    },
    {
      "cell_type": "code",
      "source": [
        "move_report[['Plaka', 'Başlangıç Tarihi']]"
      ],
      "metadata": {
        "colab": {
          "base_uri": "https://localhost:8080/",
          "height": 424
        },
        "id": "nZ37ScvByos6",
        "outputId": "d35dd8c9-d7c2-480b-fad7-197450679cc1"
      },
      "execution_count": null,
      "outputs": [
        {
          "output_type": "execute_result",
          "data": {
            "text/plain": [
              "0          Plaka     Başlangıç Tarihi\n",
              "1       34YC6941   1-06-2024 17:56:53\n",
              "2       34YC6941   1-06-2024 18:05:26\n",
              "3       34YC6941   1-06-2024 18:18:55\n",
              "4       34YC6941   1-06-2024 18:23:37\n",
              "5       34YC6941   2-06-2024 01:13:59\n",
              "...          ...                  ...\n",
              "227106  34EZZ393  30-06-2024 20:53:16\n",
              "227107  34EZZ393  30-06-2024 21:57:14\n",
              "227108  34EZZ393  30-06-2024 22:13:16\n",
              "227109  34EZZ393  30-06-2024 22:31:45\n",
              "227110       NaN                  NaN\n",
              "\n",
              "[227110 rows x 2 columns]"
            ],
            "text/html": [
              "<div>\n",
              "<style scoped>\n",
              "    .dataframe tbody tr th:only-of-type {\n",
              "        vertical-align: middle;\n",
              "    }\n",
              "\n",
              "    .dataframe tbody tr th {\n",
              "        vertical-align: top;\n",
              "    }\n",
              "\n",
              "    .dataframe thead th {\n",
              "        text-align: right;\n",
              "    }\n",
              "</style>\n",
              "<table border=\"1\" class=\"dataframe\">\n",
              "  <thead>\n",
              "    <tr style=\"text-align: right;\">\n",
              "      <th></th>\n",
              "      <th>Plaka</th>\n",
              "      <th>Başlangıç Tarihi</th>\n",
              "    </tr>\n",
              "  </thead>\n",
              "  <tbody>\n",
              "    <tr>\n",
              "      <th>1</th>\n",
              "      <td>34YC6941</td>\n",
              "      <td>1-06-2024 17:56:53</td>\n",
              "    </tr>\n",
              "    <tr>\n",
              "      <th>2</th>\n",
              "      <td>34YC6941</td>\n",
              "      <td>1-06-2024 18:05:26</td>\n",
              "    </tr>\n",
              "    <tr>\n",
              "      <th>3</th>\n",
              "      <td>34YC6941</td>\n",
              "      <td>1-06-2024 18:18:55</td>\n",
              "    </tr>\n",
              "    <tr>\n",
              "      <th>4</th>\n",
              "      <td>34YC6941</td>\n",
              "      <td>1-06-2024 18:23:37</td>\n",
              "    </tr>\n",
              "    <tr>\n",
              "      <th>5</th>\n",
              "      <td>34YC6941</td>\n",
              "      <td>2-06-2024 01:13:59</td>\n",
              "    </tr>\n",
              "    <tr>\n",
              "      <th>...</th>\n",
              "      <td>...</td>\n",
              "      <td>...</td>\n",
              "    </tr>\n",
              "    <tr>\n",
              "      <th>227106</th>\n",
              "      <td>34EZZ393</td>\n",
              "      <td>30-06-2024 20:53:16</td>\n",
              "    </tr>\n",
              "    <tr>\n",
              "      <th>227107</th>\n",
              "      <td>34EZZ393</td>\n",
              "      <td>30-06-2024 21:57:14</td>\n",
              "    </tr>\n",
              "    <tr>\n",
              "      <th>227108</th>\n",
              "      <td>34EZZ393</td>\n",
              "      <td>30-06-2024 22:13:16</td>\n",
              "    </tr>\n",
              "    <tr>\n",
              "      <th>227109</th>\n",
              "      <td>34EZZ393</td>\n",
              "      <td>30-06-2024 22:31:45</td>\n",
              "    </tr>\n",
              "    <tr>\n",
              "      <th>227110</th>\n",
              "      <td>NaN</td>\n",
              "      <td>NaN</td>\n",
              "    </tr>\n",
              "  </tbody>\n",
              "</table>\n",
              "<p>227110 rows × 2 columns</p>\n",
              "</div>"
            ]
          },
          "metadata": {},
          "execution_count": 27
        }
      ]
    },
    {
      "cell_type": "code",
      "source": [
        "move_report['Başlangıç Tarihi'].dropna(how='any', inplace=True)"
      ],
      "metadata": {
        "id": "modswecS66GQ"
      },
      "execution_count": null,
      "outputs": []
    },
    {
      "cell_type": "code",
      "source": [
        "move_report.rename(columns={'Plaka':'Ambulans Plaka'},inplace= True)"
      ],
      "metadata": {
        "id": "OQCZqQJa1ajX"
      },
      "execution_count": null,
      "outputs": []
    },
    {
      "cell_type": "code",
      "source": [
        "move_report['Başlangıç Tarihi']= move_report['Başlangıç Tarihi'].fillna(0)"
      ],
      "metadata": {
        "id": "pKc1Zh6L7Haq"
      },
      "execution_count": null,
      "outputs": []
    },
    {
      "cell_type": "code",
      "source": [
        "move_report= move_report[move_report['Başlangıç Tarihi'] != 0]"
      ],
      "metadata": {
        "id": "I01YtOwP8HGA"
      },
      "execution_count": null,
      "outputs": []
    },
    {
      "cell_type": "code",
      "source": [],
      "metadata": {
        "id": "TBgDz1GL8HIb"
      },
      "execution_count": null,
      "outputs": []
    },
    {
      "cell_type": "code",
      "source": [],
      "metadata": {
        "id": "iyBEKYwo8HKo"
      },
      "execution_count": null,
      "outputs": []
    },
    {
      "cell_type": "code",
      "source": [
        "case_report['VAKAYA CIKIS TARIH SAAT']"
      ],
      "metadata": {
        "colab": {
          "base_uri": "https://localhost:8080/"
        },
        "id": "P15FRQ7T2PBe",
        "outputId": "9e4be065-4841-4868-882e-3fc4fddcbfaf"
      },
      "execution_count": null,
      "outputs": [
        {
          "output_type": "execute_result",
          "data": {
            "text/plain": [
              "0        01-06-2024 00:05:01\n",
              "1        01-06-2024 00:01:44\n",
              "2        01-06-2024 00:03:40\n",
              "3        01-06-2024 00:04:31\n",
              "4        01-06-2024 00:05:30\n",
              "                ...         \n",
              "52847    30-06-2024 23:59:46\n",
              "52848    01-07-2024 00:01:11\n",
              "52849    01-07-2024 00:02:19\n",
              "52850    01-07-2024 00:01:15\n",
              "52851    30-06-2024 23:59:48\n",
              "Name: VAKAYA CIKIS TARIH SAAT, Length: 52852, dtype: object"
            ]
          },
          "metadata": {},
          "execution_count": 32
        }
      ]
    },
    {
      "cell_type": "code",
      "source": [
        "move_report['Başlangıç Tarihi']= pd.to_datetime(move_report['Başlangıç Tarihi'],format='%d-%m-%Y %H:%M:%S')"
      ],
      "metadata": {
        "colab": {
          "base_uri": "https://localhost:8080/"
        },
        "id": "jNXtrcJc8Qdy",
        "outputId": "47544711-902f-46ed-c34d-702b9da7bf9e"
      },
      "execution_count": null,
      "outputs": [
        {
          "output_type": "stream",
          "name": "stderr",
          "text": [
            "C:\\Users\\mkaya\\AppData\\Local\\Temp\\ipykernel_14176\\1059735480.py:1: SettingWithCopyWarning: \n",
            "A value is trying to be set on a copy of a slice from a DataFrame.\n",
            "Try using .loc[row_indexer,col_indexer] = value instead\n",
            "\n",
            "See the caveats in the documentation: https://pandas.pydata.org/pandas-docs/stable/user_guide/indexing.html#returning-a-view-versus-a-copy\n",
            "  move_report['Başlangıç Tarihi']= pd.to_datetime(move_report['Başlangıç Tarihi'],format='%d-%m-%Y %H:%M:%S')\n"
          ]
        }
      ]
    },
    {
      "cell_type": "code",
      "source": [
        "case_report['VAKAYA CIKIS TARIH SAAT']= pd.to_datetime(case_report['VAKAYA CIKIS TARIH SAAT'],format='%d-%m-%Y %H:%M:%S' )\n",
        "#The format code for year is %Y not %YYYY"
      ],
      "metadata": {
        "id": "yWBtLDdd2H-I"
      },
      "execution_count": null,
      "outputs": []
    },
    {
      "cell_type": "code",
      "source": [
        "case_report['Ambulans Plaka']"
      ],
      "metadata": {
        "colab": {
          "base_uri": "https://localhost:8080/"
        },
        "id": "OQL8o4J4yovC",
        "outputId": "dbfcd3d3-33d0-44c8-ac5e-f1ba10c7d3e5"
      },
      "execution_count": null,
      "outputs": [
        {
          "output_type": "execute_result",
          "data": {
            "text/plain": [
              "0        34YC6107\n",
              "1        34VZ2215\n",
              "2        34YB6021\n",
              "3        34YB2629\n",
              "4        34YB6407\n",
              "           ...   \n",
              "52847    34YB5022\n",
              "52848    34DOD400\n",
              "52849    34BH5684\n",
              "52850    34DUP325\n",
              "52851    34DOV139\n",
              "Name: Ambulans Plaka, Length: 52852, dtype: object"
            ]
          },
          "metadata": {},
          "execution_count": 35
        }
      ]
    },
    {
      "cell_type": "code",
      "source": [
        "move_report= move_report[['Ambulans Plaka', 'Başlangıç Tarihi']]"
      ],
      "metadata": {
        "id": "9qjdNlr1Bnh-"
      },
      "execution_count": null,
      "outputs": []
    },
    {
      "cell_type": "code",
      "source": [
        "move_report"
      ],
      "metadata": {
        "colab": {
          "base_uri": "https://localhost:8080/",
          "height": 424
        },
        "id": "_JmWCqt685Sn",
        "outputId": "e123615d-7db7-43a6-825e-3647f0a124c9"
      },
      "execution_count": null,
      "outputs": [
        {
          "output_type": "execute_result",
          "data": {
            "text/plain": [
              "0      Ambulans Plaka    Başlangıç Tarihi\n",
              "1            34YC6941 2024-06-01 17:56:53\n",
              "2            34YC6941 2024-06-01 18:05:26\n",
              "3            34YC6941 2024-06-01 18:18:55\n",
              "4            34YC6941 2024-06-01 18:23:37\n",
              "5            34YC6941 2024-06-02 01:13:59\n",
              "...               ...                 ...\n",
              "227105       34EZZ393 2024-06-30 20:34:33\n",
              "227106       34EZZ393 2024-06-30 20:53:16\n",
              "227107       34EZZ393 2024-06-30 21:57:14\n",
              "227108       34EZZ393 2024-06-30 22:13:16\n",
              "227109       34EZZ393 2024-06-30 22:31:45\n",
              "\n",
              "[227109 rows x 2 columns]"
            ],
            "text/html": [
              "<div>\n",
              "<style scoped>\n",
              "    .dataframe tbody tr th:only-of-type {\n",
              "        vertical-align: middle;\n",
              "    }\n",
              "\n",
              "    .dataframe tbody tr th {\n",
              "        vertical-align: top;\n",
              "    }\n",
              "\n",
              "    .dataframe thead th {\n",
              "        text-align: right;\n",
              "    }\n",
              "</style>\n",
              "<table border=\"1\" class=\"dataframe\">\n",
              "  <thead>\n",
              "    <tr style=\"text-align: right;\">\n",
              "      <th></th>\n",
              "      <th>Ambulans Plaka</th>\n",
              "      <th>Başlangıç Tarihi</th>\n",
              "    </tr>\n",
              "  </thead>\n",
              "  <tbody>\n",
              "    <tr>\n",
              "      <th>1</th>\n",
              "      <td>34YC6941</td>\n",
              "      <td>2024-06-01 17:56:53</td>\n",
              "    </tr>\n",
              "    <tr>\n",
              "      <th>2</th>\n",
              "      <td>34YC6941</td>\n",
              "      <td>2024-06-01 18:05:26</td>\n",
              "    </tr>\n",
              "    <tr>\n",
              "      <th>3</th>\n",
              "      <td>34YC6941</td>\n",
              "      <td>2024-06-01 18:18:55</td>\n",
              "    </tr>\n",
              "    <tr>\n",
              "      <th>4</th>\n",
              "      <td>34YC6941</td>\n",
              "      <td>2024-06-01 18:23:37</td>\n",
              "    </tr>\n",
              "    <tr>\n",
              "      <th>5</th>\n",
              "      <td>34YC6941</td>\n",
              "      <td>2024-06-02 01:13:59</td>\n",
              "    </tr>\n",
              "    <tr>\n",
              "      <th>...</th>\n",
              "      <td>...</td>\n",
              "      <td>...</td>\n",
              "    </tr>\n",
              "    <tr>\n",
              "      <th>227105</th>\n",
              "      <td>34EZZ393</td>\n",
              "      <td>2024-06-30 20:34:33</td>\n",
              "    </tr>\n",
              "    <tr>\n",
              "      <th>227106</th>\n",
              "      <td>34EZZ393</td>\n",
              "      <td>2024-06-30 20:53:16</td>\n",
              "    </tr>\n",
              "    <tr>\n",
              "      <th>227107</th>\n",
              "      <td>34EZZ393</td>\n",
              "      <td>2024-06-30 21:57:14</td>\n",
              "    </tr>\n",
              "    <tr>\n",
              "      <th>227108</th>\n",
              "      <td>34EZZ393</td>\n",
              "      <td>2024-06-30 22:13:16</td>\n",
              "    </tr>\n",
              "    <tr>\n",
              "      <th>227109</th>\n",
              "      <td>34EZZ393</td>\n",
              "      <td>2024-06-30 22:31:45</td>\n",
              "    </tr>\n",
              "  </tbody>\n",
              "</table>\n",
              "<p>227109 rows × 2 columns</p>\n",
              "</div>"
            ]
          },
          "metadata": {},
          "execution_count": 37
        }
      ]
    },
    {
      "cell_type": "code",
      "source": [
        "case_reduced = case_report[['Ekip No', 'Ambulans Plaka', 'VAKAYA CIKIS TARIH SAAT']]"
      ],
      "metadata": {
        "id": "6l2fl2cSbIYz"
      },
      "execution_count": null,
      "outputs": []
    },
    {
      "cell_type": "code",
      "source": [
        "move_report[move_report['Ambulans Plaka'] == '34HUL734']"
      ],
      "metadata": {
        "id": "Vdszv7Kf-PfF"
      },
      "execution_count": null,
      "outputs": []
    },
    {
      "cell_type": "code",
      "source": [
        "for i in range(len(case_reduced)):\n",
        "  temp_df= move_report[move_report['Ambulans Plaka']== case_reduced.iloc[i]['Ambulans Plaka']]\n",
        "  temp_df= temp_df[temp_df['Başlangıç Tarihi'] > case_reduced.iloc[i]['VAKAYA CIKIS TARIH SAAT']]\n",
        "  if len(temp_df) > 0:\n",
        "    case_reduced.loc[i, 'GPS Bazlı Çıkış Tarihi']= temp_df['Başlangıç Tarihi'].min()"
      ],
      "metadata": {
        "colab": {
          "base_uri": "https://localhost:8080/"
        },
        "id": "brxZS8jg-agY",
        "outputId": "eb82d9f8-19af-4681-c20b-16a9c560a52a"
      },
      "execution_count": null,
      "outputs": [
        {
          "output_type": "stream",
          "name": "stderr",
          "text": [
            "C:\\Users\\mkaya\\anaconda3\\lib\\site-packages\\pandas\\core\\indexing.py:1684: SettingWithCopyWarning: \n",
            "A value is trying to be set on a copy of a slice from a DataFrame.\n",
            "Try using .loc[row_indexer,col_indexer] = value instead\n",
            "\n",
            "See the caveats in the documentation: https://pandas.pydata.org/pandas-docs/stable/user_guide/indexing.html#returning-a-view-versus-a-copy\n",
            "  self.obj[key] = infer_fill_value(value)\n",
            "C:\\Users\\mkaya\\anaconda3\\lib\\site-packages\\pandas\\core\\indexing.py:1817: SettingWithCopyWarning: \n",
            "A value is trying to be set on a copy of a slice from a DataFrame.\n",
            "Try using .loc[row_indexer,col_indexer] = value instead\n",
            "\n",
            "See the caveats in the documentation: https://pandas.pydata.org/pandas-docs/stable/user_guide/indexing.html#returning-a-view-versus-a-copy\n",
            "  self._setitem_single_column(loc, value, pi)\n"
          ]
        }
      ]
    },
    {
      "cell_type": "code",
      "source": [
        "case_reduced['GPS Bazlı Çıkış Tarihi'].isna().sum()"
      ],
      "metadata": {
        "colab": {
          "base_uri": "https://localhost:8080/"
        },
        "id": "1ZzIqmci-6fm",
        "outputId": "48dfdc98-250c-419d-dd15-2b2f0a4da534"
      },
      "execution_count": null,
      "outputs": [
        {
          "output_type": "execute_result",
          "data": {
            "text/plain": [
              "9025"
            ]
          },
          "metadata": {},
          "execution_count": 42
        }
      ]
    },
    {
      "cell_type": "code",
      "source": [
        "case_reduced['Fark']= case_reduced['GPS Bazlı Çıkış Tarihi'] - case_reduced['VAKAYA CIKIS TARIH SAAT']"
      ],
      "metadata": {
        "colab": {
          "base_uri": "https://localhost:8080/"
        },
        "id": "HyN7S9DG_KsM",
        "outputId": "65ee336c-a561-4c79-b30d-3d7affc4a43e"
      },
      "execution_count": null,
      "outputs": [
        {
          "output_type": "stream",
          "name": "stderr",
          "text": [
            "C:\\Users\\mkaya\\AppData\\Local\\Temp\\ipykernel_14176\\2394702946.py:1: SettingWithCopyWarning: \n",
            "A value is trying to be set on a copy of a slice from a DataFrame.\n",
            "Try using .loc[row_indexer,col_indexer] = value instead\n",
            "\n",
            "See the caveats in the documentation: https://pandas.pydata.org/pandas-docs/stable/user_guide/indexing.html#returning-a-view-versus-a-copy\n",
            "  case_reduced['Fark']= case_reduced['GPS Bazlı Çıkış Tarihi'] - case_reduced['VAKAYA CIKIS TARIH SAAT']\n"
          ]
        }
      ]
    },
    {
      "cell_type": "code",
      "source": [
        "case_reduced['Fark'].dropna(how='all', inplace=True)"
      ],
      "metadata": {
        "colab": {
          "base_uri": "https://localhost:8080/"
        },
        "id": "_JoDigfTerlP",
        "outputId": "9ab8732b-67b2-44f3-d13e-837bbfabae8d"
      },
      "execution_count": null,
      "outputs": [
        {
          "output_type": "stream",
          "name": "stderr",
          "text": [
            "C:\\Users\\mkaya\\anaconda3\\lib\\site-packages\\pandas\\core\\series.py:5258: SettingWithCopyWarning: \n",
            "A value is trying to be set on a copy of a slice from a DataFrame\n",
            "\n",
            "See the caveats in the documentation: https://pandas.pydata.org/pandas-docs/stable/user_guide/indexing.html#returning-a-view-versus-a-copy\n",
            "  self._update_inplace(result)\n"
          ]
        }
      ]
    },
    {
      "cell_type": "code",
      "source": [
        "case_reduced['Fark']= case_reduced['Fark'].dt.total_seconds()"
      ],
      "metadata": {
        "colab": {
          "base_uri": "https://localhost:8080/"
        },
        "id": "DrKnl-zMeutV",
        "outputId": "66c3ed96-153c-4a2a-f058-ab8e34c85196"
      },
      "execution_count": null,
      "outputs": [
        {
          "output_type": "stream",
          "name": "stderr",
          "text": [
            "C:\\Users\\mkaya\\AppData\\Local\\Temp\\ipykernel_14176\\2434746642.py:1: SettingWithCopyWarning: \n",
            "A value is trying to be set on a copy of a slice from a DataFrame.\n",
            "Try using .loc[row_indexer,col_indexer] = value instead\n",
            "\n",
            "See the caveats in the documentation: https://pandas.pydata.org/pandas-docs/stable/user_guide/indexing.html#returning-a-view-versus-a-copy\n",
            "  case_reduced['Fark']= case_reduced['Fark'].dt.total_seconds()\n"
          ]
        }
      ]
    },
    {
      "cell_type": "code",
      "source": [
        "case_reduced['Dakika'] =round( case_reduced['Fark'] / 60, 2)"
      ],
      "metadata": {
        "colab": {
          "base_uri": "https://localhost:8080/"
        },
        "id": "4bnaAqO3hGSW",
        "outputId": "af75b099-f9f6-435b-a88c-1746417705f3"
      },
      "execution_count": null,
      "outputs": [
        {
          "output_type": "stream",
          "name": "stderr",
          "text": [
            "C:\\Users\\mkaya\\AppData\\Local\\Temp\\ipykernel_14176\\240295048.py:1: SettingWithCopyWarning: \n",
            "A value is trying to be set on a copy of a slice from a DataFrame.\n",
            "Try using .loc[row_indexer,col_indexer] = value instead\n",
            "\n",
            "See the caveats in the documentation: https://pandas.pydata.org/pandas-docs/stable/user_guide/indexing.html#returning-a-view-versus-a-copy\n",
            "  case_reduced['Dakika'] =round( case_reduced['Fark'] / 60, 2)\n"
          ]
        }
      ]
    },
    {
      "cell_type": "code",
      "source": [
        "case_reduced.sort_values(by='Fark', ascending=False).to_excel('C:/Users/mkaya/Onedrive/Masaüstü/hazirangps.xlsx')"
      ],
      "metadata": {
        "id": "YEdSOZbcezW_"
      },
      "execution_count": null,
      "outputs": []
    },
    {
      "cell_type": "code",
      "source": [],
      "metadata": {
        "id": "9z1M1VyXfZJv"
      },
      "execution_count": null,
      "outputs": []
    }
  ]
}