{
  "cells": [
    {
      "cell_type": "code",
      "execution_count": null,
      "metadata": {
        "id": "GT4O_JKDG6LO"
      },
      "outputs": [],
      "source": [
        "import pandas as pd\n",
        "import numpy as np\n",
        "import matplotlib.pyplot as plt\n",
        "import seaborn as sns\n",
        "\n",
        "import datetime as dt\n",
        "import os\n",
        "from concurrent.futures import ThreadPoolExecutor"
      ]
    },
    {
      "cell_type": "markdown",
      "metadata": {
        "id": "Sl4QecxJTIIp"
      },
      "source": [
        "**PARQUET FILE CREATION STARTED SKIP THIS AREA**"
      ]
    },
    {
      "cell_type": "code",
      "execution_count": null,
      "metadata": {
        "id": "egymDTqTOuuC"
      },
      "outputs": [],
      "source": [
        "path_2020= r\"C:\\Users\\mkaya\\OneDrive\\Masaüstü\\istanbul112_hidden\\data\\case_reports\\europe\\2020\\total\\\\\""
      ]
    },
    {
      "cell_type": "code",
      "execution_count": null,
      "metadata": {
        "id": "LF7aHFO35JQ9"
      },
      "outputs": [],
      "source": [
        "path_2021= r\"C:\\Users\\mkaya\\OneDrive\\Masaüstü\\istanbul112_hidden\\data\\case_reports\\europe\\2021\\total\\\\\""
      ]
    },
    {
      "cell_type": "code",
      "execution_count": null,
      "metadata": {},
      "outputs": [],
      "source": [
        "import duckdb"
      ]
    },
    {
      "cell_type": "code",
      "execution_count": null,
      "metadata": {},
      "outputs": [],
      "source": [
        "path_2017= r\"C:\\Users\\mkaya\\OneDrive\\Masaüstü\\istanbul112_hidden\\data\\case_reports\\europe\\2020\\total\\\\\"\n",
        "path_2018= r\"C:\\Users\\mkaya\\OneDrive\\Masaüstü\\istanbul112_hidden\\data\\case_reports\\europe\\2018\\total\\\\\"\n",
        "path_2019= r\"C:\\Users\\mkaya\\OneDrive\\Masaüstü\\istanbul112_hidden\\data\\case_reports\\europe\\2019\\total\\\\\"\n",
        "path_2022= r\"C:\\Users\\mkaya\\OneDrive\\Masaüstü\\istanbul112_hidden\\data\\case_reports\\europe\\2022\\total\\\\\"\n",
        "path_2023= r\"C:\\Users\\mkaya\\OneDrive\\Masaüstü\\istanbul112_hidden\\data\\case_reports\\europe\\2023\\total\\\\\"\n",
        "path_2024= r\"C:\\Users\\mkaya\\OneDrive\\Masaüstü\\istanbul112_hidden\\data\\case_reports\\europe\\2024\\total\\\\\"\n",
        "path_2025= r\"C:\\Users\\mkaya\\OneDrive\\Masaüstü\\istanbul112_hidden\\data\\case_reports\\europe\\2025\\monthly\\\\\""
      ]
    },
    {
      "cell_type": "code",
      "execution_count": null,
      "metadata": {},
      "outputs": [],
      "source": [
        "paths= [path_2017, path_2018, path_2019, path_2020, path_2021, path_2022, path_2023, path_2024, path_2025]"
      ]
    },
    {
      "cell_type": "code",
      "execution_count": null,
      "metadata": {},
      "outputs": [],
      "source": [
        "con = duckdb.connect()\n",
        "con.execute(\"INSTALL excel\")\n",
        "con.execute(\"LOAD excel\")\n",
        "\n",
        "for path in paths:\n",
        "    for file in os.listdir(path):\n",
        "        if file.endswith('.xlsx'):\n",
        "            file_path = os.path.join(path, file)\n",
        "            print(f\"Processing {file_path}\")\n",
        "            # Read the Excel file and convert to Parquet\n",
        "            con.execute(f\"\"\"\n",
        "                COPY (\n",
        "                    SELECT * FROM read_xlsx('{file_path}', all_varchar=true)\n",
        "                ) TO '{file_path}.parquet' (FORMAT 'parquet')\n",
        "            \"\"\")"
      ]
    },
    {
      "cell_type": "code",
      "execution_count": null,
      "metadata": {},
      "outputs": [],
      "source": []
    },
    {
      "cell_type": "code",
      "execution_count": null,
      "metadata": {
        "id": "qIqYIY1iw0ZP"
      },
      "outputs": [],
      "source": [
        "os.listdir(path_2020)"
      ]
    },
    {
      "cell_type": "code",
      "execution_count": null,
      "metadata": {
        "id": "NCF4GR825dmg"
      },
      "outputs": [],
      "source": []
    },
    {
      "cell_type": "code",
      "execution_count": null,
      "metadata": {
        "id": "Ege94UJr5dp7"
      },
      "outputs": [],
      "source": [
        "files = []\n",
        "for data in os.listdir(path_2020):\n",
        "  if data.endswith(\".xlsx\"):\n",
        "    files.append(os.path.join(path_2020, data))\n",
        "for data in os.listdir(path_2021):\n",
        "  if data.endswith(\".xlsx\"):\n",
        "    files.append(os.path.join(path_2021, data))\n",
        "\n",
        "dfs= []\n",
        "for file_path in files:\n",
        "\n",
        "  # Step 1: Get all sheet names\n",
        "  sheet_names = pd.ExcelFile(file_path).sheet_names\n",
        "\n",
        "  # Step 2: Check number of rows in each sheet\n",
        "  xls = pd.ExcelFile(file_path)\n",
        "  max_rows = 0\n",
        "  largest_sheet = None\n",
        "\n",
        "  for sheet in sheet_names:\n",
        "      temp_df = xls.parse(sheet, nrows=1000)  # read only first 1000 rows for speed\n",
        "      row_count = temp_df.shape[0]\n",
        "      if row_count > max_rows:\n",
        "          max_rows = row_count\n",
        "          largest_sheet = sheet\n",
        "  dfs.append(pd.read_excel(file_path, sheet_name= largest_sheet))\n",
        "  print(f\"Largest sheet in {file_path} is {largest_sheet} with {max_rows} rows.\")\n"
      ]
    },
    {
      "cell_type": "code",
      "execution_count": null,
      "metadata": {
        "id": "4QJ6VtWH7kJc"
      },
      "outputs": [],
      "source": []
    },
    {
      "cell_type": "code",
      "execution_count": null,
      "metadata": {
        "id": "dbSYC9kIVysu"
      },
      "outputs": [],
      "source": [
        "save_path= r\"C:\\Users\\mkaya\\OneDrive\\Masaüstü\\istanbul112_hidden\\data\\case_reports\\europe\\parquet_files\\2020_2021\\\\\""
      ]
    },
    {
      "cell_type": "code",
      "execution_count": null,
      "metadata": {
        "id": "7PEICX1QWRhH"
      },
      "outputs": [],
      "source": [
        "files"
      ]
    },
    {
      "cell_type": "code",
      "execution_count": null,
      "metadata": {
        "id": "MpfYwvxyYZLi"
      },
      "outputs": [],
      "source": []
    },
    {
      "cell_type": "code",
      "execution_count": null,
      "metadata": {
        "id": "jExds8SQXNm3"
      },
      "outputs": [],
      "source": [
        "files_2 = []\n",
        "for data in os.listdir(path_2020):\n",
        "  if data.endswith(\".xlsx\"):\n",
        "    files_2.append(data.replace(\".xlsx\", \".parquet\"))\n",
        "for data in os.listdir(path_2021):\n",
        "  if data.endswith(\".xlsx\"):\n",
        "    files_2.append( data.replace(\".xlsx\", \".parquet\"))"
      ]
    },
    {
      "cell_type": "code",
      "execution_count": null,
      "metadata": {
        "id": "xtEKTkmMXhDy"
      },
      "outputs": [],
      "source": [
        "files_2"
      ]
    },
    {
      "cell_type": "code",
      "execution_count": null,
      "metadata": {
        "id": "QGE5lPZWYLc_"
      },
      "outputs": [],
      "source": []
    },
    {
      "cell_type": "code",
      "execution_count": null,
      "metadata": {
        "id": "BUh16DHwWHcU"
      },
      "outputs": [],
      "source": [
        "count= 0\n",
        "for df in dfs:\n",
        "  df = df.astype({col: str for col in df.columns})\n",
        "  df.to_parquet(save_path + files_2[count] )\n",
        "  count += 1"
      ]
    },
    {
      "cell_type": "code",
      "execution_count": null,
      "metadata": {
        "id": "t3DIS98iX1_c"
      },
      "outputs": [],
      "source": [
        "df_2022_jan= pd.read_parquet(r\"C:\\Users\\mkaya\\OneDrive\\Masaüstü\\istanbul112_hidden\\data\\case_reports\\europe\\parquet_files\\2022_2023\\OCAK 2022 AVR DEFTERİ - MAHALLE BAZLI ÇALIŞMA SON.parquet\")"
      ]
    },
    {
      "cell_type": "code",
      "execution_count": null,
      "metadata": {
        "id": "mNyyQQyTKoiT"
      },
      "outputs": [],
      "source": [
        "df_2023_jan= pd.read_parquet(r\"C:\\Users\\mkaya\\OneDrive\\Masaüstü\\istanbul112_hidden\\data\\case_reports\\europe\\parquet_files\\2022_2023\\1-OCAK 2023 7 KALEM MAHALLE DEFTER AVRUPA.parquet\")"
      ]
    },
    {
      "cell_type": "code",
      "execution_count": null,
      "metadata": {
        "id": "3UU6UoWTLHgs"
      },
      "outputs": [],
      "source": [
        "df_2024_jan= pd.read_parquet(r\"C:\\Users\\mkaya\\OneDrive\\Masaüstü\\istanbul112_hidden\\data\\case_reports\\europe\\parquet_files\\2024_2025\\1-OCAK 2024 AVR ASOS TANIDÖNÜŞTÜRÜLMÜŞ DEFTER.parquet\")"
      ]
    },
    {
      "cell_type": "code",
      "execution_count": null,
      "metadata": {
        "id": "ZywMYTpeLcqM"
      },
      "outputs": [],
      "source": [
        "df_2025_jan= pd.read_parquet(r\"C:\\Users\\mkaya\\OneDrive\\Masaüstü\\istanbul112_hidden\\data\\case_reports\\europe\\parquet_files\\2024_2025\\1-OCAK 2025 AVR ASOS TANI DÖNÜŞTÜRÜLMÜŞ DEFTER.parquet\")"
      ]
    },
    {
      "cell_type": "code",
      "execution_count": null,
      "metadata": {
        "id": "B63b9bHXLP5m"
      },
      "outputs": [],
      "source": [
        "[col for col in df_2025_jan.columns if col not in df_2022_jan.columns]"
      ]
    },
    {
      "cell_type": "code",
      "execution_count": null,
      "metadata": {
        "id": "4E-qx5qxLZme"
      },
      "outputs": [],
      "source": [
        "df_2022_jan['Olay Yeri Varış']"
      ]
    },
    {
      "cell_type": "code",
      "execution_count": null,
      "metadata": {
        "id": "442Ghzw6jOEg"
      },
      "outputs": [],
      "source": []
    },
    {
      "cell_type": "markdown",
      "metadata": {
        "id": "Jm18u13LTN37"
      },
      "source": [
        "**PARQUET FILE CREATION ENDED YOU CAN CONTINUE FROM HERE**"
      ]
    },
    {
      "cell_type": "code",
      "execution_count": null,
      "metadata": {
        "id": "w7Q2XYQHjOyE"
      },
      "outputs": [],
      "source": []
    },
    {
      "cell_type": "code",
      "execution_count": 2,
      "metadata": {
        "id": "NVRW9Qm2jO-6"
      },
      "outputs": [],
      "source": [
        "import pandas as pd\n",
        "import numpy as np\n",
        "import datetime as dt\n",
        "import os\n",
        "import geopandas as gpd\n",
        "import matplotlib.pyplot as plt\n",
        "import seaborn as sns\n",
        "from concurrent.futures import ThreadPoolExecutor"
      ]
    },
    {
      "cell_type": "code",
      "execution_count": 3,
      "metadata": {
        "id": "cnz2HAQ0TGVE"
      },
      "outputs": [],
      "source": [
        "dataframes_2020_2021= {}\n",
        "dataframes_2022_2023= {}\n",
        "dataframes_2024_2025= {}"
      ]
    },
    {
      "cell_type": "code",
      "execution_count": 4,
      "metadata": {
        "id": "xuAw-BTPaYzN"
      },
      "outputs": [],
      "source": [
        "case_files_2020_2021= os.listdir(r\"C:\\Users\\mkaya\\OneDrive\\Masaüstü\\istanbul112_hidden\\data\\case_reports\\europe\\parquet_files\\2020_2021\\\\\")\n",
        "case_files_2022_2023= os.listdir(r\"C:\\Users\\mkaya\\OneDrive\\Masaüstü\\istanbul112_hidden\\data\\case_reports\\europe\\parquet_files\\2022_2023\\\\\")\n",
        "case_files_2024_2025= os.listdir(r\"C:\\Users\\mkaya\\OneDrive\\Masaüstü\\istanbul112_hidden\\data\\case_reports\\europe\\parquet_files\\2024_2025\\\\\")"
      ]
    },
    {
      "cell_type": "code",
      "execution_count": 5,
      "metadata": {
        "id": "slnNK6FAbOG2"
      },
      "outputs": [],
      "source": [
        "case_files_2020_2021= [file for file in case_files_2020_2021 if file.endswith(\".parquet\")]\n",
        "case_files_2022_2023= [file for file in case_files_2022_2023 if file.endswith(\".parquet\")]\n",
        "case_files_2024_2025= [file for file in case_files_2024_2025 if file.endswith(\".parquet\")]"
      ]
    },
    {
      "cell_type": "code",
      "execution_count": 6,
      "metadata": {
        "id": "58hIr8XWdGhf"
      },
      "outputs": [
        {
          "data": {
            "text/plain": [
              "['1-OCAK 2023 7 KALEM MAHALLE DEFTER AVRUPA.parquet',\n",
              " '10-EKİM 2023 7 KALEM MAHALLE DEFTERİ AVRUPA.parquet',\n",
              " '11 KASIM 2023 7 KALEM MAHALLE DEFTERİ TÜMÜ.parquet',\n",
              " '12-ARALIK 2023 7 KALEM MAHALLE DEFTERİ TÜMÜ..parquet',\n",
              " '2-ŞUBAT 2023 7 KALEM MAHALLE AVRUPA DEFTERİ.parquet',\n",
              " '3- MART 2023  AVR 7 KALEM DEFTER  MAHALLE.parquet',\n",
              " '4-NİSAN 2023 7 KALEM MAHALLE DEFTER AVRUPA.parquet',\n",
              " '5- MAYIS 2023  AVR 7 KALEM DEFTER  MAHALLE.parquet',\n",
              " '6-HAZİRAN 2023 7 KALEM MAHALLE DEFTER AVRUPA.parquet',\n",
              " '7-TEMMUZ 2023 7 KALEM MAHALLE DEFTERİ AVRUPA.parquet',\n",
              " '8-AGUSTOS 2023 7 KALEM MAHALLE DEFTERİ AVRUPA.parquet',\n",
              " '9-EYLÜL 2023 7 KALEM MAHALLE DEFTERİ AVRUPA güncel.parquet',\n",
              " 'ARALIK 2022  7 KALEM ASOS MAHALLE DEFTERİ.parquet',\n",
              " 'AĞUSTOS ASOS MAHELLE ÖZET-AVRUPA 2022.parquet',\n",
              " 'EKİM 2022 7 KALEM MAHALLE DEFTERİ VE ÖZETİ - AVRUPA.parquet',\n",
              " 'EYLÜL AYI 2022 7 KALEM MAHALLE DEFTERİ.parquet',\n",
              " 'HAZİRAN 2022 MAHALLE ÇALIŞMASI - AVRUPA.parquet',\n",
              " 'KASIM 2022 ACİL 7 KALEM MAHALLE DEFTER VE ÖZETİ AVRUPA.parquet',\n",
              " 'MART 2022  AVR DEFTERİ MAHALLE BAZLI ÇALIŞMA SON.parquet',\n",
              " 'MAYIS 2022 AVR DEFTERİ MAHALLE BAZLI ÇALIŞMA.parquet',\n",
              " 'NİSAN 2022 MAHALLE DEFTERİ SON HALİ AVRU.parquet',\n",
              " 'OCAK 2022 AVR DEFTERİ - MAHALLE BAZLI ÇALIŞMA SON.parquet',\n",
              " 'TEMMUZ 2022 MAHALLE ÇALIŞMASI - AVRUPA.parquet',\n",
              " 'ŞUBAT 2022 AVRUPA DEFTERİ-MAHALLE BAZLI ÇALIŞMA SON.parquet']"
            ]
          },
          "execution_count": 6,
          "metadata": {},
          "output_type": "execute_result"
        }
      ],
      "source": [
        "case_files_2022_2023"
      ]
    },
    {
      "cell_type": "code",
      "execution_count": 9,
      "metadata": {
        "id": "ZTrpviHpTGXk"
      },
      "outputs": [
        {
          "name": "stdout",
          "output_type": "stream",
          "text": [
            "2020 YILI OCAK-HAZİRAN AYLARI DEFTER.parquet  has been read\n",
            "2020 YILI TEMMUZ-ARALIK ASOS DEFTERİ.parquet  has been read\n",
            "2021 YILI OCAK-HAZİRAN ASOS DEFTER AVRUPA.parquet  has been read\n",
            "2021 YILI TEMMUZ-ARALIK ASOS DEFTER  AVRUPA.parquet  has been read\n",
            "1-OCAK 2023 7 KALEM MAHALLE DEFTER AVRUPA.parquet  has been read\n",
            "10-EKİM 2023 7 KALEM MAHALLE DEFTERİ AVRUPA.parquet  has been read\n",
            "11 KASIM 2023 7 KALEM MAHALLE DEFTERİ TÜMÜ.parquet  has been read\n",
            "12-ARALIK 2023 7 KALEM MAHALLE DEFTERİ TÜMÜ..parquet  has been read\n",
            "2-ŞUBAT 2023 7 KALEM MAHALLE AVRUPA DEFTERİ.parquet  has been read\n",
            "3- MART 2023  AVR 7 KALEM DEFTER  MAHALLE.parquet  has been read\n",
            "4-NİSAN 2023 7 KALEM MAHALLE DEFTER AVRUPA.parquet  has been read\n",
            "5- MAYIS 2023  AVR 7 KALEM DEFTER  MAHALLE.parquet  has been read\n",
            "6-HAZİRAN 2023 7 KALEM MAHALLE DEFTER AVRUPA.parquet  has been read\n",
            "7-TEMMUZ 2023 7 KALEM MAHALLE DEFTERİ AVRUPA.parquet  has been read\n",
            "8-AGUSTOS 2023 7 KALEM MAHALLE DEFTERİ AVRUPA.parquet  has been read\n",
            "9-EYLÜL 2023 7 KALEM MAHALLE DEFTERİ AVRUPA güncel.parquet  has been read\n",
            "ARALIK 2022  7 KALEM ASOS MAHALLE DEFTERİ.parquet  has been read\n",
            "AĞUSTOS ASOS MAHELLE ÖZET-AVRUPA 2022.parquet  has been read\n",
            "EKİM 2022 7 KALEM MAHALLE DEFTERİ VE ÖZETİ - AVRUPA.parquet  has been read\n",
            "EYLÜL AYI 2022 7 KALEM MAHALLE DEFTERİ.parquet  has been read\n",
            "HAZİRAN 2022 MAHALLE ÇALIŞMASI - AVRUPA.parquet  has been read\n",
            "KASIM 2022 ACİL 7 KALEM MAHALLE DEFTER VE ÖZETİ AVRUPA.parquet  has been read\n",
            "MART 2022  AVR DEFTERİ MAHALLE BAZLI ÇALIŞMA SON.parquet  has been read\n",
            "MAYIS 2022 AVR DEFTERİ MAHALLE BAZLI ÇALIŞMA.parquet  has been read\n",
            "NİSAN 2022 MAHALLE DEFTERİ SON HALİ AVRU.parquet  has been read\n",
            "OCAK 2022 AVR DEFTERİ - MAHALLE BAZLI ÇALIŞMA SON.parquet  has been read\n",
            "TEMMUZ 2022 MAHALLE ÇALIŞMASI - AVRUPA.parquet  has been read\n",
            "ŞUBAT 2022 AVRUPA DEFTERİ-MAHALLE BAZLI ÇALIŞMA SON.parquet  has been read\n",
            "1-OCAK 2024 AVR ASOS TANIDÖNÜŞTÜRÜLMÜŞ DEFTER.parquet  has been read\n",
            "1-OCAK 2025 AVR ASOS TANI DÖNÜŞTÜRÜLMÜŞ DEFTER.parquet  has been read\n",
            "10-EKİM 2024 7 KALEM MAHALLE DEFTER AVRUPA 2024.parquet  has been read\n",
            "11-KASIM 2024 AVR ASOS TANI DÖNÜŞTÜRÜLMÜŞ DEFTER.parquet  has been read\n",
            "12-ARALIK 2024 AVR ASOS TANIDÖNÜŞTÜRÜLMÜŞ DEFTER.parquet  has been read\n",
            "2-ŞUBAT 2024 AVR ASOS TANIDÖNÜŞTÜRÜLMÜŞ DEFTER.parquet  has been read\n",
            "2-ŞUBAT 2025 AVR ASOS TANI DÖNÜŞTÜRÜLMÜŞ DEFTER.parquet  has been read\n",
            "3- MART 2025 AVR ASOS TANI DÖNÜŞTÜRÜLMÜŞ DEFTER.parquet  has been read\n",
            "3-MART 2024 AVR ASOS TANIDÖNÜŞTÜRÜLMÜŞ DEFTER.parquet  has been read\n",
            "4-NİSAN 2024 AVR ASOS TANIDÖNÜŞTÜRÜLMÜŞ DEFTER.parquet  has been read\n",
            "4-NİSAN 2025 AVR ASOS TANI DÖNÜŞTÜRÜLMÜŞ DEFTER.parquet  has been read\n",
            "5-MAYIS 2024 AVR ASOS TANIDÖNÜŞTÜRÜLMÜŞ DEFTER.parquet  has been read\n",
            "6-HAZİRAN 2024 AVR ASOS TANIDÖNÜŞTÜRÜLMÜŞ DEFTER.parquet  has been read\n",
            "7-TEMMUZ 2024 AVR ASOS TANIDÖNÜŞTÜRÜLMÜŞ DEFTER.parquet  has been read\n",
            "8-AĞUSTOS 2024 AVR ASOS TANIDÖNÜŞTÜRÜLMÜŞ DEFTER.parquet  has been read\n",
            "9-EYLÜL 2024 AVR ASOS TANIDÖNÜŞTÜRÜLMÜŞ DEFTER.parquet  has been read\n"
          ]
        }
      ],
      "source": [
        "for file in case_files_2020_2021:\n",
        "  dataframes_2020_2021[file.replace(\".parquet\", \"\")]= pd.read_parquet(r\"C:\\Users\\mkaya\\OneDrive\\Masaüstü\\istanbul112_hidden\\data\\case_reports\\europe\\parquet_files\\2020_2021\\\\\" + file)\n",
        "  print(file, ' has been read')\n",
        "for file in case_files_2022_2023:\n",
        "  dataframes_2022_2023[file.replace(\".parquet\", \"\")]= pd.read_parquet(r\"C:\\Users\\mkaya\\OneDrive\\Masaüstü\\istanbul112_hidden\\data\\case_reports\\europe\\parquet_files\\2022_2023\\\\\" + file)\n",
        "  print(file, ' has been read')\n",
        "for file in case_files_2024_2025:\n",
        "  dataframes_2024_2025[file.replace(\".parquet\", \"\")]= pd.read_parquet(r\"C:\\Users\\mkaya\\OneDrive\\Masaüstü\\istanbul112_hidden\\data\\case_reports\\europe\\parquet_files\\2024_2025\\\\\" + file)\n",
        "  print(file, ' has been read')"
      ]
    },
    {
      "cell_type": "code",
      "execution_count": null,
      "metadata": {
        "id": "umht2saOTGaF"
      },
      "outputs": [],
      "source": [
        "sorted(list(dataframes_2022_2023.keys()))"
      ]
    },
    {
      "cell_type": "code",
      "execution_count": null,
      "metadata": {
        "id": "HqoLDDmHTGcf"
      },
      "outputs": [],
      "source": [
        "for key in dataframes_2020_2021.keys():\n",
        "  print(key, ' : ',dataframes_2020_2021[key].shape)"
      ]
    },
    {
      "cell_type": "code",
      "execution_count": null,
      "metadata": {
        "id": "oB464vboTGe5"
      },
      "outputs": [],
      "source": [
        "[col for col in dataframes_2020_2021[\"2020 YILI TEMMUZ-ARALIK ASOS DEFTERİ\"].columns if col not in dataframes_2020_2021[\"2020 YILI OCAK-HAZİRAN AYLARI DEFTER\"].columns]"
      ]
    },
    {
      "cell_type": "code",
      "execution_count": null,
      "metadata": {
        "id": "mAIv07CPtAHn"
      },
      "outputs": [],
      "source": []
    },
    {
      "cell_type": "code",
      "execution_count": null,
      "metadata": {
        "id": "z8MWjo_KTGiS"
      },
      "outputs": [],
      "source": [
        "dataframes_2020_2021[\"2020 YILI OCAK-HAZİRAN AYLARI DEFTER\"].rename(columns={\"ICD10 TANI \\nADI\":\"ICD10 TANI\\nADI\"}, inplace=True)"
      ]
    },
    {
      "cell_type": "code",
      "execution_count": null,
      "metadata": {
        "id": "cDZrMw2amkq8"
      },
      "outputs": [],
      "source": [
        "dataframes_2020_2021[\"2020 YILI OCAK-HAZİRAN AYLARI DEFTER\"]['Ulaşım Sn'].astype('int64').mean()"
      ]
    },
    {
      "cell_type": "code",
      "execution_count": 12,
      "metadata": {
        "id": "59MtzIjlo4PR"
      },
      "outputs": [
        {
          "data": {
            "text/html": [
              "<div>\n",
              "<style scoped>\n",
              "    .dataframe tbody tr th:only-of-type {\n",
              "        vertical-align: middle;\n",
              "    }\n",
              "\n",
              "    .dataframe tbody tr th {\n",
              "        vertical-align: top;\n",
              "    }\n",
              "\n",
              "    .dataframe thead th {\n",
              "        text-align: right;\n",
              "    }\n",
              "</style>\n",
              "<table border=\"1\" class=\"dataframe\">\n",
              "  <thead>\n",
              "    <tr style=\"text-align: right;\">\n",
              "      <th></th>\n",
              "      <th>AY</th>\n",
              "      <th>Sıra</th>\n",
              "      <th>Şehir</th>\n",
              "      <th>İlçe</th>\n",
              "      <th>İstasyon Adı</th>\n",
              "      <th>Ekip No</th>\n",
              "      <th>Ambulans Plaka</th>\n",
              "      <th>Araç Tür</th>\n",
              "      <th>İhbar/Çağrı Tarih Saat</th>\n",
              "      <th>Çağrı Tarihi</th>\n",
              "      <th>...</th>\n",
              "      <th>Çıkış KM</th>\n",
              "      <th>Varış KM</th>\n",
              "      <th>Dönüş KM</th>\n",
              "      <th>KKM Açıklama</th>\n",
              "      <th>İstasyon Açıklama</th>\n",
              "      <th>Toplam Tutar</th>\n",
              "      <th>Vakanın Enlemi</th>\n",
              "      <th>Vakanın Boylamı</th>\n",
              "      <th>İstasyonun Enlemi</th>\n",
              "      <th>İstasyonun Boylamı</th>\n",
              "    </tr>\n",
              "  </thead>\n",
              "  <tbody>\n",
              "    <tr>\n",
              "      <th>0</th>\n",
              "      <td>1</td>\n",
              "      <td>1</td>\n",
              "      <td>İSTANBUL</td>\n",
              "      <td>ESENLER</td>\n",
              "      <td>İSTANBUL ESENLER 3 NOLU ASHİ</td>\n",
              "      <td>ESN3</td>\n",
              "      <td>34YB0431</td>\n",
              "      <td>Panelvan</td>\n",
              "      <td>07-01-2020 13:25:35</td>\n",
              "      <td>07-01-2020 13:25:35</td>\n",
              "      <td>...</td>\n",
              "      <td>146312</td>\n",
              "      <td>146315</td>\n",
              "      <td>146317</td>\n",
              "      <td>dm hastası senkop</td>\n",
              "      <td>nan</td>\n",
              "      <td>276</td>\n",
              "      <td>nan</td>\n",
              "      <td>nan</td>\n",
              "      <td>nan</td>\n",
              "      <td>nan</td>\n",
              "    </tr>\n",
              "    <tr>\n",
              "      <th>1</th>\n",
              "      <td>1</td>\n",
              "      <td>2</td>\n",
              "      <td>İSTANBUL</td>\n",
              "      <td>ESENYURT</td>\n",
              "      <td>İSTANBUL ESENYURT 3 NOLU ASHİ</td>\n",
              "      <td>ESY3</td>\n",
              "      <td>34BER279</td>\n",
              "      <td>Panelvan</td>\n",
              "      <td>04-01-2020 10:10:09</td>\n",
              "      <td>04-01-2020 10:10:09</td>\n",
              "      <td>...</td>\n",
              "      <td>96010</td>\n",
              "      <td>96034</td>\n",
              "      <td>96054</td>\n",
              "      <td>yenidoğan sepsis</td>\n",
              "      <td>anne adı:tacien horo anne tc:99592931052 bebek...</td>\n",
              "      <td>298</td>\n",
              "      <td>nan</td>\n",
              "      <td>nan</td>\n",
              "      <td>nan</td>\n",
              "      <td>nan</td>\n",
              "    </tr>\n",
              "    <tr>\n",
              "      <th>2</th>\n",
              "      <td>1</td>\n",
              "      <td>3</td>\n",
              "      <td>İSTANBUL</td>\n",
              "      <td>BEŞİKTAŞ</td>\n",
              "      <td>İSTANBUL BEŞİKTAŞ 4 NOLU ASHİ</td>\n",
              "      <td>BEŞ4</td>\n",
              "      <td>34BH5405</td>\n",
              "      <td>Panelvan</td>\n",
              "      <td>24-01-2020 22:57:15</td>\n",
              "      <td>24-01-2020 22:57:15</td>\n",
              "      <td>...</td>\n",
              "      <td>97571</td>\n",
              "      <td>97579</td>\n",
              "      <td>97587</td>\n",
              "      <td>senkop sol var    05380792129 asayıs 2310</td>\n",
              "      <td>nan</td>\n",
              "      <td>306</td>\n",
              "      <td>nan</td>\n",
              "      <td>nan</td>\n",
              "      <td>nan</td>\n",
              "      <td>nan</td>\n",
              "    </tr>\n",
              "    <tr>\n",
              "      <th>3</th>\n",
              "      <td>1</td>\n",
              "      <td>4</td>\n",
              "      <td>İSTANBUL</td>\n",
              "      <td>BEYOĞLU</td>\n",
              "      <td>İSTANBUL BEYOĞLU 5 NOLU ASHİ</td>\n",
              "      <td>BEY5</td>\n",
              "      <td>34BH5909</td>\n",
              "      <td>Panelvan</td>\n",
              "      <td>18-01-2020 00:36:13</td>\n",
              "      <td>18-01-2020 00:36:13</td>\n",
              "      <td>...</td>\n",
              "      <td>162478</td>\n",
              "      <td>162480</td>\n",
              "      <td>162481</td>\n",
              "      <td>epılepsı krızı  155+</td>\n",
              "      <td>nan</td>\n",
              "      <td>252</td>\n",
              "      <td>nan</td>\n",
              "      <td>nan</td>\n",
              "      <td>nan</td>\n",
              "      <td>nan</td>\n",
              "    </tr>\n",
              "    <tr>\n",
              "      <th>4</th>\n",
              "      <td>1</td>\n",
              "      <td>5</td>\n",
              "      <td>İSTANBUL</td>\n",
              "      <td>KAĞITHANE</td>\n",
              "      <td>İSTANBUL KAĞITHANE 2 NOLU ALİBEYKÖY ASHİ</td>\n",
              "      <td>KĞT2</td>\n",
              "      <td>34YB6409</td>\n",
              "      <td>Panelvan</td>\n",
              "      <td>25-01-2020 09:46:38</td>\n",
              "      <td>25-01-2020 09:46:38</td>\n",
              "      <td>...</td>\n",
              "      <td>353176</td>\n",
              "      <td>353183</td>\n",
              "      <td>353189</td>\n",
              "      <td>nefes darlığı</td>\n",
              "      <td>nan</td>\n",
              "      <td>349</td>\n",
              "      <td>nan</td>\n",
              "      <td>nan</td>\n",
              "      <td>nan</td>\n",
              "      <td>nan</td>\n",
              "    </tr>\n",
              "    <tr>\n",
              "      <th>...</th>\n",
              "      <td>...</td>\n",
              "      <td>...</td>\n",
              "      <td>...</td>\n",
              "      <td>...</td>\n",
              "      <td>...</td>\n",
              "      <td>...</td>\n",
              "      <td>...</td>\n",
              "      <td>...</td>\n",
              "      <td>...</td>\n",
              "      <td>...</td>\n",
              "      <td>...</td>\n",
              "      <td>...</td>\n",
              "      <td>...</td>\n",
              "      <td>...</td>\n",
              "      <td>...</td>\n",
              "      <td>...</td>\n",
              "      <td>...</td>\n",
              "      <td>...</td>\n",
              "      <td>...</td>\n",
              "      <td>...</td>\n",
              "      <td>...</td>\n",
              "    </tr>\n",
              "    <tr>\n",
              "      <th>310663</th>\n",
              "      <td>6</td>\n",
              "      <td>45341</td>\n",
              "      <td>İSTANBUL</td>\n",
              "      <td>BAHÇELİEVLER</td>\n",
              "      <td>İSTANBUL BAHÇELİEVLER 11 NOLU ACİL SAĞLIK HİZM...</td>\n",
              "      <td>BHC11</td>\n",
              "      <td>34YB0359</td>\n",
              "      <td>Panelvan</td>\n",
              "      <td>05-06-2020 20:25:08</td>\n",
              "      <td>05-06-2020 20:25:08</td>\n",
              "      <td>...</td>\n",
              "      <td>8100</td>\n",
              "      <td>201296</td>\n",
              "      <td>0</td>\n",
              "      <td>201310</td>\n",
              "      <td>senkop tam ekipman</td>\n",
              "      <td>vaka madde kullanımıydı olay yerinde 1 saat as...</td>\n",
              "      <td>0.0</td>\n",
              "      <td>nan</td>\n",
              "      <td>nan</td>\n",
              "      <td>nan</td>\n",
              "    </tr>\n",
              "    <tr>\n",
              "      <th>310664</th>\n",
              "      <td>6</td>\n",
              "      <td>45718</td>\n",
              "      <td>İSTANBUL</td>\n",
              "      <td>GÜNGÖREN</td>\n",
              "      <td>İSTANBUL GÜNGÖREN 1 NOLU ASHİ</td>\n",
              "      <td>GNG1</td>\n",
              "      <td>34YB2510</td>\n",
              "      <td>Panelvan</td>\n",
              "      <td>10-06-2020 20:13:16</td>\n",
              "      <td>10-06-2020 20:13:16</td>\n",
              "      <td>...</td>\n",
              "      <td>2204</td>\n",
              "      <td>172335</td>\n",
              "      <td>0</td>\n",
              "      <td>172345</td>\n",
              "      <td>psk vaka yarı çıplak ** covıd sorgulanmadı ** ...</td>\n",
              "      <td>doktor ömer ile görüşüldü. vaka sosyal endikas...</td>\n",
              "      <td>227.0</td>\n",
              "      <td>nan</td>\n",
              "      <td>nan</td>\n",
              "      <td>nan</td>\n",
              "    </tr>\n",
              "    <tr>\n",
              "      <th>310665</th>\n",
              "      <td>5</td>\n",
              "      <td>27998</td>\n",
              "      <td>İSTANBUL</td>\n",
              "      <td>BAĞCILAR</td>\n",
              "      <td>İSTANBUL BAĞCILAR 14 NOLU (HELİKOPTER) ASHİ</td>\n",
              "      <td>HAVA34</td>\n",
              "      <td>TC-HJOKUYRUKNUMARALIHELİKOPTER</td>\n",
              "      <td>Helikopter</td>\n",
              "      <td>03-04-2020 04:40:00</td>\n",
              "      <td>13-05-2020 14:08:14</td>\n",
              "      <td>...</td>\n",
              "      <td>5400</td>\n",
              "      <td>89</td>\n",
              "      <td>91</td>\n",
              "      <td>92</td>\n",
              "      <td>nan</td>\n",
              "      <td>nan</td>\n",
              "      <td>0.0</td>\n",
              "      <td>nan</td>\n",
              "      <td>nan</td>\n",
              "      <td>nan</td>\n",
              "    </tr>\n",
              "    <tr>\n",
              "      <th>310666</th>\n",
              "      <td>5</td>\n",
              "      <td>27999</td>\n",
              "      <td>İSTANBUL</td>\n",
              "      <td>BAĞCILAR</td>\n",
              "      <td>İSTANBUL BAĞCILAR 14 NOLU (HELİKOPTER) ASHİ</td>\n",
              "      <td>HAVA34</td>\n",
              "      <td>TC-HJOKUYRUKNUMARALIHELİKOPTER</td>\n",
              "      <td>Helikopter</td>\n",
              "      <td>07-04-2020 21:13:29</td>\n",
              "      <td>19-05-2020 13:30:00</td>\n",
              "      <td>...</td>\n",
              "      <td>5340</td>\n",
              "      <td>109</td>\n",
              "      <td>111</td>\n",
              "      <td>112</td>\n",
              "      <td>nan</td>\n",
              "      <td>nan</td>\n",
              "      <td>254.0</td>\n",
              "      <td>nan</td>\n",
              "      <td>nan</td>\n",
              "      <td>nan</td>\n",
              "    </tr>\n",
              "    <tr>\n",
              "      <th>310667</th>\n",
              "      <td>5</td>\n",
              "      <td>28000</td>\n",
              "      <td>İSTANBUL</td>\n",
              "      <td>BAĞCILAR</td>\n",
              "      <td>İSTANBUL BAĞCILAR 14 NOLU (HELİKOPTER) ASHİ</td>\n",
              "      <td>HAVA34</td>\n",
              "      <td>TC-HJOKUYRUKNUMARALIHELİKOPTER</td>\n",
              "      <td>Helikopter</td>\n",
              "      <td>30-03-2020 13:57:13</td>\n",
              "      <td>08-05-2020 17:25:00</td>\n",
              "      <td>...</td>\n",
              "      <td>6720</td>\n",
              "      <td>81</td>\n",
              "      <td>83</td>\n",
              "      <td>84</td>\n",
              "      <td>nan</td>\n",
              "      <td>nan</td>\n",
              "      <td>235.0</td>\n",
              "      <td>nan</td>\n",
              "      <td>nan</td>\n",
              "      <td>nan</td>\n",
              "    </tr>\n",
              "  </tbody>\n",
              "</table>\n",
              "<p>310668 rows × 83 columns</p>\n",
              "</div>"
            ],
            "text/plain": [
              "       AY   Sıra     Şehir          İlçe  \\\n",
              "0       1      1  İSTANBUL       ESENLER   \n",
              "1       1      2  İSTANBUL      ESENYURT   \n",
              "2       1      3  İSTANBUL      BEŞİKTAŞ   \n",
              "3       1      4  İSTANBUL       BEYOĞLU   \n",
              "4       1      5  İSTANBUL     KAĞITHANE   \n",
              "...    ..    ...       ...           ...   \n",
              "310663  6  45341  İSTANBUL  BAHÇELİEVLER   \n",
              "310664  6  45718  İSTANBUL      GÜNGÖREN   \n",
              "310665  5  27998  İSTANBUL      BAĞCILAR   \n",
              "310666  5  27999  İSTANBUL      BAĞCILAR   \n",
              "310667  5  28000  İSTANBUL      BAĞCILAR   \n",
              "\n",
              "                                             İstasyon Adı Ekip No  \\\n",
              "0                            İSTANBUL ESENLER 3 NOLU ASHİ    ESN3   \n",
              "1                           İSTANBUL ESENYURT 3 NOLU ASHİ    ESY3   \n",
              "2                           İSTANBUL BEŞİKTAŞ 4 NOLU ASHİ    BEŞ4   \n",
              "3                            İSTANBUL BEYOĞLU 5 NOLU ASHİ    BEY5   \n",
              "4                İSTANBUL KAĞITHANE 2 NOLU ALİBEYKÖY ASHİ    KĞT2   \n",
              "...                                                   ...     ...   \n",
              "310663  İSTANBUL BAHÇELİEVLER 11 NOLU ACİL SAĞLIK HİZM...   BHC11   \n",
              "310664                      İSTANBUL GÜNGÖREN 1 NOLU ASHİ    GNG1   \n",
              "310665        İSTANBUL BAĞCILAR 14 NOLU (HELİKOPTER) ASHİ  HAVA34   \n",
              "310666        İSTANBUL BAĞCILAR 14 NOLU (HELİKOPTER) ASHİ  HAVA34   \n",
              "310667        İSTANBUL BAĞCILAR 14 NOLU (HELİKOPTER) ASHİ  HAVA34   \n",
              "\n",
              "                        Ambulans Plaka    Araç Tür İhbar/Çağrı Tarih Saat  \\\n",
              "0                             34YB0431    Panelvan    07-01-2020 13:25:35   \n",
              "1                             34BER279    Panelvan    04-01-2020 10:10:09   \n",
              "2                             34BH5405    Panelvan    24-01-2020 22:57:15   \n",
              "3                             34BH5909    Panelvan    18-01-2020 00:36:13   \n",
              "4                             34YB6409    Panelvan    25-01-2020 09:46:38   \n",
              "...                                ...         ...                    ...   \n",
              "310663                        34YB0359    Panelvan    05-06-2020 20:25:08   \n",
              "310664                        34YB2510    Panelvan    10-06-2020 20:13:16   \n",
              "310665  TC-HJOKUYRUKNUMARALIHELİKOPTER  Helikopter    03-04-2020 04:40:00   \n",
              "310666  TC-HJOKUYRUKNUMARALIHELİKOPTER  Helikopter    07-04-2020 21:13:29   \n",
              "310667  TC-HJOKUYRUKNUMARALIHELİKOPTER  Helikopter    30-03-2020 13:57:13   \n",
              "\n",
              "               Çağrı Tarihi  ... Çıkış KM Varış KM Dönüş KM  \\\n",
              "0       07-01-2020 13:25:35  ...   146312   146315   146317   \n",
              "1       04-01-2020 10:10:09  ...    96010    96034    96054   \n",
              "2       24-01-2020 22:57:15  ...    97571    97579    97587   \n",
              "3       18-01-2020 00:36:13  ...   162478   162480   162481   \n",
              "4       25-01-2020 09:46:38  ...   353176   353183   353189   \n",
              "...                     ...  ...      ...      ...      ...   \n",
              "310663  05-06-2020 20:25:08  ...     8100   201296        0   \n",
              "310664  10-06-2020 20:13:16  ...     2204   172335        0   \n",
              "310665  13-05-2020 14:08:14  ...     5400       89       91   \n",
              "310666  19-05-2020 13:30:00  ...     5340      109      111   \n",
              "310667  08-05-2020 17:25:00  ...     6720       81       83   \n",
              "\n",
              "                                     KKM Açıklama  \\\n",
              "0                              dm hastası senkop    \n",
              "1                               yenidoğan sepsis    \n",
              "2       senkop sol var    05380792129 asayıs 2310   \n",
              "3                            epılepsı krızı  155+   \n",
              "4                                   nefes darlığı   \n",
              "...                                           ...   \n",
              "310663                                     201310   \n",
              "310664                                     172345   \n",
              "310665                                         92   \n",
              "310666                                        112   \n",
              "310667                                         84   \n",
              "\n",
              "                                        İstasyon Açıklama  \\\n",
              "0                                                     nan   \n",
              "1       anne adı:tacien horo anne tc:99592931052 bebek...   \n",
              "2                                                     nan   \n",
              "3                                                     nan   \n",
              "4                                                     nan   \n",
              "...                                                   ...   \n",
              "310663                                senkop tam ekipman    \n",
              "310664  psk vaka yarı çıplak ** covıd sorgulanmadı ** ...   \n",
              "310665                                                nan   \n",
              "310666                                                nan   \n",
              "310667                                                nan   \n",
              "\n",
              "                                             Toplam Tutar Vakanın Enlemi  \\\n",
              "0                                                     276            nan   \n",
              "1                                                     298            nan   \n",
              "2                                                     306            nan   \n",
              "3                                                     252            nan   \n",
              "4                                                     349            nan   \n",
              "...                                                   ...            ...   \n",
              "310663  vaka madde kullanımıydı olay yerinde 1 saat as...            0.0   \n",
              "310664  doktor ömer ile görüşüldü. vaka sosyal endikas...          227.0   \n",
              "310665                                                nan            0.0   \n",
              "310666                                                nan          254.0   \n",
              "310667                                                nan          235.0   \n",
              "\n",
              "       Vakanın Boylamı İstasyonun Enlemi İstasyonun Boylamı  \n",
              "0                  nan               nan                nan  \n",
              "1                  nan               nan                nan  \n",
              "2                  nan               nan                nan  \n",
              "3                  nan               nan                nan  \n",
              "4                  nan               nan                nan  \n",
              "...                ...               ...                ...  \n",
              "310663             nan               nan                nan  \n",
              "310664             nan               nan                nan  \n",
              "310665             nan               nan                nan  \n",
              "310666             nan               nan                nan  \n",
              "310667             nan               nan                nan  \n",
              "\n",
              "[310668 rows x 83 columns]"
            ]
          },
          "execution_count": 12,
          "metadata": {},
          "output_type": "execute_result"
        }
      ],
      "source": [
        "dataframes_2020_2021[\"2020 YILI OCAK-HAZİRAN AYLARI DEFTER\"]"
      ]
    },
    {
      "cell_type": "code",
      "execution_count": 14,
      "metadata": {
        "id": "2dm04NHisqkU"
      },
      "outputs": [
        {
          "data": {
            "text/plain": [
              "0       2025-01-01 01:08:32\n",
              "1                       NaT\n",
              "2                       NaT\n",
              "3       2025-01-01 03:00:10\n",
              "4                       NaT\n",
              "                ...        \n",
              "60225                   NaT\n",
              "60226   2025-01-31 16:35:30\n",
              "60227   2025-01-31 12:06:38\n",
              "60228   2025-01-31 16:12:52\n",
              "60229   2025-01-31 18:14:32\n",
              "Name: Olay Yeri Varış Tarih Saat, Length: 60230, dtype: datetime64[ns]"
            ]
          },
          "execution_count": 14,
          "metadata": {},
          "output_type": "execute_result"
        }
      ],
      "source": [
        "dataframes_2024_2025[\"1-OCAK 2025 AVR ASOS TANI DÖNÜŞTÜRÜLMÜŞ DEFTER\"][\"Olay Yeri Varış Tarih Saat\"]"
      ]
    },
    {
      "cell_type": "code",
      "execution_count": null,
      "metadata": {},
      "outputs": [],
      "source": []
    },
    {
      "cell_type": "code",
      "execution_count": null,
      "metadata": {
        "id": "NK1lFJ4DtSvG"
      },
      "outputs": [],
      "source": [
        "for key in dataframes_2020_2021.keys():\n",
        "  for col in dataframes_2020_2021[key].columns:\n",
        "    if col=='Vaka Veriliş':\n",
        "      dataframes_2020_2021[key].rename(columns={'Vaka Veriliş':'Vaka Veriliş Tarih Saat'}, inplace=True)\n",
        "    if col == 'Ulaşım Sn':\n",
        "      dataframes_2020_2021[key].rename(columns={'Ulaşım Sn':'Ulaşım Sn\\n(Olay Yeri Varış Tarihi - Çağrı Tarihi)'}, inplace=True)\n",
        "    if col == 'İhbar Tarihi':\n",
        "      dataframes_2020_2021[key].rename(columns={'İhbar Tarihi':'İhbar/Çağrı Tarih Saat'}, inplace=True)\n",
        "    if col == 'Olay Yeri Varış':\n",
        "      dataframes_2020_2021[key].rename(columns={'Olay Yeri Varış':'Olay Yeri Varış Tarih Saat'}, inplace=True)\n",
        "    if col == 'Hastaneye Varış':\n",
        "      dataframes_2020_2021[key].rename(columns={'Hastaneye Varış':'Hastaneye Varış Tarih Saat'}, inplace=True)\n",
        "    if col == 'Hastaneden Ayrılış':\n",
        "      dataframes_2020_2021[key].rename(columns={'Hastaneden Ayrılış':'Hastaneden Ayrılış Tarih Saat'}, inplace=True)\n",
        "    if col == 'İstasyona Dönüş':\n",
        "      dataframes_2020_2021[key].rename(columns={'İstasyona Dönüş':'İstasyona Dönüş Tarih Saat'}, inplace=True)\n",
        "for key in dataframes_2022_2023.keys():\n",
        "  for col in dataframes_2022_2023[key].columns:\n",
        "    if col=='Vaka Veriliş':\n",
        "      dataframes_2022_2023[key].rename(columns={'Vaka Veriliş':'Vaka Veriliş Tarih Saat'}, inplace=True)\n",
        "    if col == 'Ulaşım Sn':\n",
        "      dataframes_2022_2023[key].rename(columns={'Ulaşım Sn':'Ulaşım Sn\\n(Olay Yeri Varış Tarihi - Çağrı Tarihi)'}, inplace=True)\n",
        "    if col == 'İhbar Tarihi':\n",
        "      dataframes_2022_2023[key].rename(columns={'İhbar Tarihi':'İhbar/Çağrı Tarih Saat'}, inplace=True)\n",
        "    if col == 'Olay Yeri Varış':\n",
        "      dataframes_2022_2023[key].rename(columns={'Olay Yeri Varış':'Olay Yeri Varış Tarih Saat'}, inplace=True)\n",
        "    if col == 'Hastaneye Varış':\n",
        "      dataframes_2022_2023[key].rename(columns={'Hastaneye Varış':'Hastaneye Varış Tarih Saat'}, inplace=True)\n",
        "    if col == 'Hastaneden Ayrılış':\n",
        "      dataframes_2022_2023[key].rename(columns={'Hastaneden Ayrılış':'Hastaneden Ayrılış Tarih Saat'}, inplace=True)\n",
        "    if col=='İstasyona Dönüş':\n",
        "      dataframes_2022_2023[key].rename(columns={'İstasyona Dönüş':'İstasyona Dönüş Tarih Saat'}, inplace=True)\n",
        "for key in dataframes_2024_2025.keys():\n",
        "  for col in dataframes_2024_2025[key].columns:\n",
        "    if col=='Vaka Veriliş':\n",
        "      dataframes_2024_2025[key].rename(columns={'Vaka Veriliş':'Vaka Veriliş Tarih Saat'}, inplace=True)\n",
        "    if col == 'Ulaşım Sn':\n",
        "      dataframes_2024_2025[key].rename(columns={'Ulaşım Sn':'Ulaşım Sn\\n(Olay Yeri Varış Tarihi - Çağrı Tarihi)'}, inplace=True)\n",
        "    if col == 'İhbar Tarihi':\n",
        "      dataframes_2024_2025[key].rename(columns={'İhbar Tarihi':'İhbar/Çağrı Tarih Saat'}, inplace=True)\n",
        "    if col == 'Olay Yeri Varış':\n",
        "      dataframes_2024_2025[key].rename(columns={'Olay Yeri Varış':'Olay Yeri Varış Tarih Saat'}, inplace=True)\n",
        "    if col == 'Hastaneye Varış':\n",
        "      dataframes_2024_2025[key].rename(columns={'Hastaneye Varış':'Hastaneye Varış Tarih Saat'}, inplace=True)\n",
        "    if col == 'Hastaneden Ayrılış':\n",
        "      dataframes_2024_2025[key].rename(columns={'Hastaneden Ayrılış':'Hastaneden Ayrılış Tarih Saat'}, inplace=True)\n",
        "    if col=='İstasyona Dönüş':\n",
        "      dataframes_2024_2025[key].rename(columns={'İstasyona Dönüş':'İstasyona Dönüş Tarih Saat'}, inplace=True)"
      ]
    },
    {
      "cell_type": "code",
      "execution_count": null,
      "metadata": {
        "id": "DRlr666YtSxW"
      },
      "outputs": [],
      "source": [
        "dataframes_2024_2025['1-OCAK 2025 AVR ASOS TANI DÖNÜŞTÜRÜLMÜŞ DEFTER']"
      ]
    },
    {
      "cell_type": "code",
      "execution_count": null,
      "metadata": {
        "id": "xtA0YyGIvNqP"
      },
      "outputs": [],
      "source": []
    },
    {
      "cell_type": "code",
      "execution_count": null,
      "metadata": {
        "id": "oWS9-308uV_r"
      },
      "outputs": [],
      "source": [
        "dataframes_2020_2021[\"2020 YILI OCAK-HAZİRAN AYLARI DEFTER\"]"
      ]
    },
    {
      "cell_type": "code",
      "execution_count": null,
      "metadata": {
        "id": "rY6ssTQLoNff"
      },
      "outputs": [],
      "source": [
        "(pd.to_datetime(dataframes_2020_2021[\"2020 YILI OCAK-HAZİRAN AYLARI DEFTER\"]['Olay Yeri Varış'], format= '%d-%m-%Y %H:%M:%S') - pd.to_datetime(dataframes_2020_2021[\"2020 YILI OCAK-HAZİRAN AYLARI DEFTER\"]['Çağrı Tarihi'],format= '%d-%m-%Y %H:%M:%S' )).dt.total_seconds().mean()"
      ]
    },
    {
      "cell_type": "code",
      "execution_count": null,
      "metadata": {
        "id": "a4OZahLAnEa5"
      },
      "outputs": [],
      "source": [
        "dataframes_2020_2021[\"2020 YILI TEMMUZ-ARALIK ASOS DEFTERİ\"]['Ulaşım Sn\\n(Olay Yeri Varış Tarihi - Çağrı Tarihi)']"
      ]
    },
    {
      "cell_type": "code",
      "execution_count": null,
      "metadata": {
        "id": "JtYl7gGytB1C"
      },
      "outputs": [],
      "source": [
        "dataframes_2020_2021['2020 YILI OCAK-HAZİRAN AYLARI DEFTER'].rename(columns={'Ulaşım Sn':'Ulaşım Sn\\n(Olay Yeri Varış Tarihi - Çağrı Tarihi)'}, inplace=True)"
      ]
    },
    {
      "cell_type": "code",
      "execution_count": null,
      "metadata": {
        "id": "21BGpK9Dk8cR"
      },
      "outputs": [],
      "source": [
        "for key in dataframes_2022_2023.keys():\n",
        "  print(key, ' : ',dataframes_2022_2023[key].shape)"
      ]
    },
    {
      "cell_type": "code",
      "execution_count": null,
      "metadata": {
        "id": "Q7s40V2Nl6bU"
      },
      "outputs": [],
      "source": [
        "[col for col in dataframes_2022_2023['12-ARALIK 2023 7 KALEM MAHALLE DEFTERİ TÜMÜ.'].columns if col not in dataframes_2022_2023['ŞUBAT 2022 AVRUPA DEFTERİ-MAHALLE BAZLI ÇALIŞMA SON'].columns]"
      ]
    },
    {
      "cell_type": "code",
      "execution_count": null,
      "metadata": {
        "id": "5Er0KPAemes2"
      },
      "outputs": [],
      "source": [
        "save_path_1= r\"C:\\Users\\mkaya\\OneDrive\\Masaüstü\\istanbul112_hidden\\data\\case_reports\\europe\\parquet_files\\2020_2021\\\\\"\n",
        "save_path_2= r\"C:\\Users\\mkaya\\OneDrive\\Masaüstü\\istanbul112_hidden\\data\\case_reports\\europe\\parquet_files\\2022_2023\\\\\"\n",
        "save_path_3= r\"C:\\Users\\mkaya\\OneDrive\\Masaüstü\\istanbul112_hidden\\data\\case_reports\\europe\\parquet_files\\2024_2025\\\\\""
      ]
    },
    {
      "cell_type": "code",
      "execution_count": null,
      "metadata": {
        "id": "mRwF50JqXSVb"
      },
      "outputs": [],
      "source": []
    },
    {
      "cell_type": "code",
      "execution_count": null,
      "metadata": {
        "id": "2Ew_yN0NDP_4"
      },
      "outputs": [],
      "source": [
        "for key in dataframes_2020_2021.keys():\n",
        "  print(f\"saving {key}\")\n",
        "  dataframes_2020_2021[key].to_parquet(save_path_1 + key + \".parquet\")\n",
        "for key in dataframes_2022_2023.keys():\n",
        "  dataframes_2022_2023[key].to_parquet(save_path_2 + key + \".parquet\")\n",
        "  print(f\"saving {key}\")\n",
        "for key in dataframes_2024_2025.keys():\n",
        "  print(f\"saving {key}\")\n",
        "  dataframes_2024_2025[key].to_parquet(save_path_3 + key + \".parquet\")"
      ]
    },
    {
      "cell_type": "code",
      "execution_count": null,
      "metadata": {
        "id": "0vqtgWEZDbnI"
      },
      "outputs": [],
      "source": [
        "dataframes_2024_2025['4-NİSAN 2025 AVR ASOS TANI DÖNÜŞTÜRÜLMÜŞ DEFTER'].head(1000).to_excel('test.xlsx')"
      ]
    },
    {
      "cell_type": "code",
      "execution_count": null,
      "metadata": {
        "id": "RQ_Mun4daJmD"
      },
      "outputs": [],
      "source": [
        "dataframes_2020_2021['2020 YILI OCAK-HAZİRAN AYLARI DEFTER'][ya]"
      ]
    },
    {
      "cell_type": "code",
      "execution_count": null,
      "metadata": {
        "id": "UjALRMG0EkpO"
      },
      "outputs": [],
      "source": [
        "print([col for col in dataframes_2024_2025['1-OCAK 2025 AVR ASOS TANI DÖNÜŞTÜRÜLMÜŞ DEFTER'].columns])"
      ]
    },
    {
      "cell_type": "code",
      "execution_count": null,
      "metadata": {
        "id": "jrN2R1dxZb29"
      },
      "outputs": [],
      "source": [
        "necessary_columns= ['KKM Protokol','Ekip No', 'İhbar/Çağrı Tarih Saat', 'Cinsiyet', 'Yeni Doğan', 'Yaş', 'Adli Vaka', 'Çağrı Nedeni', 'Sonuç', 'Nakledilen Hastane', 'ICD10 TANI\\nADI', 'Triaj', 'Bilinç', 'Nabız', 'Vaka Veriliş Tarih Saat', 'Olay Yeri Varış Tarih Saat', 'Olay Yeri Ayrılış Tarih Saat', 'Hastaneye Varış Tarih Saat', 'Hastaneden Ayrılış Tarih Saat', 'Müdahale Süresi Sn', 'Hastane Teslim Süresi Sn', 'Çıkış KM', 'Varış KM', 'Hastaneye Varış KM', 'Dönüş KM', 'Vakanın Enlemi', 'Vakanın Boylamı', 'Tansiyon', 'Glukoz', 'Ateş', 'SPO2', 'Solunum Değeri', 'Nabız Değeri']"
      ]
    },
    {
      "cell_type": "code",
      "execution_count": null,
      "metadata": {
        "id": "nCjL_SvShwdg"
      },
      "outputs": [],
      "source": [
        "dataframes_2020_2021['2020 YILI OCAK-HAZİRAN AYLARI DEFTER']"
      ]
    },
    {
      "cell_type": "code",
      "execution_count": null,
      "metadata": {
        "id": "Z1IU49vgbzOH"
      },
      "outputs": [],
      "source": [
        "necessary_columns"
      ]
    },
    {
      "cell_type": "code",
      "execution_count": null,
      "metadata": {
        "id": "JzvXzihdiwc0"
      },
      "outputs": [],
      "source": []
    },
    {
      "cell_type": "code",
      "execution_count": null,
      "metadata": {
        "id": "EnnfT6nRiSzx"
      },
      "outputs": [],
      "source": [
        "dataframes_2020_2021['2020 YILI OCAK-HAZİRAN AYLARI DEFTER'][hastanede]"
      ]
    },
    {
      "cell_type": "code",
      "execution_count": null,
      "metadata": {
        "id": "U-boJ19_ibT7"
      },
      "outputs": [],
      "source": []
    },
    {
      "cell_type": "code",
      "execution_count": null,
      "metadata": {
        "id": "QbjsgVNFhGmf"
      },
      "outputs": [],
      "source": [
        "columns_to_process= ['İhbar/Çağrı Tarih Saat','Vaka Veriliş Tarih Saat', 'Olay Yeri Varış Tarih Saat','Olay Yeri Ayrılış Tarih Saat','Hastaneye Varış Tarih Saat','Hastaneden Ayrılış Tarih Saat']"
      ]
    },
    {
      "cell_type": "code",
      "execution_count": null,
      "metadata": {
        "id": "OIl2T5yjmRGv"
      },
      "outputs": [],
      "source": [
        "all_datas= [dataframes_2020_2021, dataframes_2022_2023, dataframes_2024_2025]"
      ]
    },
    {
      "cell_type": "code",
      "execution_count": null,
      "metadata": {
        "id": "P4Op_MYuh7Zu"
      },
      "outputs": [],
      "source": [
        "for dataframe in all_datas:\n",
        "  for key in dataframe.keys():\n",
        "    for col in dataframe[key]:\n",
        "      if \"Olay Yeri Ayrılış\" == col:\n",
        "        dataframe[key].rename(columns={'Olay Yeri Ayrılış':'Olay Yeri Ayrılış Tarih Saat'}, inplace=True)"
      ]
    },
    {
      "cell_type": "code",
      "execution_count": null,
      "metadata": {
        "id": "GNglQyK9igNz"
      },
      "outputs": [],
      "source": []
    },
    {
      "cell_type": "code",
      "execution_count": null,
      "metadata": {
        "id": "sEU407NMhCKk"
      },
      "outputs": [],
      "source": []
    },
    {
      "cell_type": "code",
      "execution_count": null,
      "metadata": {
        "id": "fl4dkYTFb3oG"
      },
      "outputs": [],
      "source": []
    },
    {
      "cell_type": "code",
      "execution_count": null,
      "metadata": {
        "id": "zhxm8rO7jLUD"
      },
      "outputs": [],
      "source": [
        "dataframes_2024_2025['1-OCAK 2024 AVR ASOS TANIDÖNÜŞTÜRÜLMÜŞ DEFTER']['İhbar/Çağrı  Saati']"
      ]
    },
    {
      "cell_type": "code",
      "execution_count": null,
      "metadata": {
        "id": "ATmZkULzjxTq"
      },
      "outputs": [],
      "source": [
        "dataframes_2022_2023['1-OCAK 2023 7 KALEM MAHALLE DEFTER AVRUPA']['İhbar/Çağrı  Saati']"
      ]
    },
    {
      "cell_type": "code",
      "execution_count": null,
      "metadata": {
        "id": "wyHxBbeCuBR8"
      },
      "outputs": [],
      "source": [
        "all_datas_backup= all_datas.copy()"
      ]
    },
    {
      "cell_type": "code",
      "execution_count": null,
      "metadata": {
        "id": "KXGh4SyKwwxj"
      },
      "outputs": [],
      "source": [
        "for dataframe in all_datas:\n",
        "  for key in dataframe.keys():\n",
        "    for col in dataframe[key].columns:\n",
        "      if \"Tarih\" == col:\n",
        "        dataframe[key].rename(columns={'Tarih':'İhbar/Çağrı Tarih Saat'}, inplace=True)"
      ]
    },
    {
      "cell_type": "code",
      "execution_count": null,
      "metadata": {
        "id": "fpaxC8CfhCRh"
      },
      "outputs": [],
      "source": [
        "# Create a list of tuples containing the name and the dictionary\n",
        "all_datas_with_names = [\n",
        "    ('dataframes_2020_2021', dataframes_2020_2021),\n",
        "    ('dataframes_2022_2023', dataframes_2022_2023),\n",
        "    ('dataframes_2024_2025', dataframes_2024_2025)\n",
        "]\n",
        "\n",
        "\n",
        "for name, dataframe in all_datas_with_names:\n",
        "  print(f'Searching {name}\\n|\\n||\\n|\\n')\n",
        "  for key in dataframe.keys():\n",
        "    for necessary_column in necessary_columns:\n",
        "      if necessary_column not in dataframe[key].columns:\n",
        "        print(necessary_column, ' not in ', key, '\\n______________________________________________________________________________________________')"
      ]
    },
    {
      "cell_type": "code",
      "execution_count": null,
      "metadata": {
        "id": "TN0Zw7gh8-Ke"
      },
      "outputs": [],
      "source": [
        "necessary_columns"
      ]
    },
    {
      "cell_type": "code",
      "execution_count": null,
      "metadata": {
        "id": "SZ9sZyI7-BR4"
      },
      "outputs": [],
      "source": [
        "dataframes_2020_2021['2020 YILI OCAK-HAZİRAN AYLARI DEFTER']"
      ]
    },
    {
      "cell_type": "code",
      "execution_count": null,
      "metadata": {
        "id": "v3swaXru-bJu"
      },
      "outputs": [],
      "source": [
        "dataframes_2022_2023['1-OCAK 2023 7 KALEM MAHALLE DEFTER AVRUPA']['Hastaneye Varış Saati\\n']"
      ]
    },
    {
      "cell_type": "code",
      "execution_count": null,
      "metadata": {
        "id": "7G5C3z0I88Gw"
      },
      "outputs": [],
      "source": [
        "dataframes_2024_2025['1-OCAK 2025 AVR ASOS TANI DÖNÜŞTÜRÜLMÜŞ DEFTER']['Müdahale Süresi Sn']"
      ]
    },
    {
      "cell_type": "code",
      "execution_count": null,
      "metadata": {
        "id": "ZqSrjT-BpsO6"
      },
      "outputs": [],
      "source": [
        "for dataframe in all_datas:\n",
        "  for key in dataframe.keys():\n",
        "    if \"İhbar/Çağrı Tarih Saat\" not in dataframe[key].columns:\n",
        "      print(f\"Starting to process\\n|\\n|\\n| {key} İhbar/Çağrı Tarih Saat\")\n",
        "      dataframe[key]['İhbar/Çağrı Tarihi']= dataframe[key]['İhbar/Çağrı Tarihi'].apply(lambda x: x.split(' ')[0] if isinstance(x, str) else pd.NaT)\n",
        "      dataframe[key][\"İhbar/Çağrı Tarih Saat\"]= pd.to_datetime(dataframe[key]['İhbar/Çağrı Tarihi'] + ' ' + dataframe[key]['İhbar/Çağrı  Saati'], format= 'mixed', errors= 'coerce')\n",
        "    if \"Vaka Veriliş Tarih Saat\" not in dataframe[key].columns:\n",
        "      print(f\"Starting to process\\n|\\n|\\n| {key} Vaka Veriliş Tarih Saat\")\n",
        "      dataframe[key]['Vaka Veriliş\\nTarihi'] = dataframe[key]['Vaka Veriliş\\nTarihi'].apply(lambda x: x.split(' ')[0] if isinstance(x, str) else pd.NaT)\n",
        "      dataframe[key][\"Vaka Veriliş Tarih Saat\"]= pd.to_datetime(dataframe[key]['Vaka Veriliş\\nTarihi'] + ' ' + dataframe[key]['Vaka Veriliş\\nSaati'], format= 'mixed', errors= 'coerce')\n",
        "    if \"Olay Yeri Varış Tarih Saat\" not in dataframe[key].columns:\n",
        "      print(f\"Starting to process\\n|\\n|\\n| {key} Olay Yeri Varış Tarih Saat\")\n",
        "      dataframe[key]['Olay Yeri Varış Tarihi']= dataframe[key]['Olay Yeri Varış Tarihi'].apply(lambda x: x.split(' ')[0] if isinstance(x, str) else pd.NaT)\n",
        "      dataframe[key][\"Olay Yeri Varış Tarih Saat\"]= pd.to_datetime(dataframe[key]['Olay Yeri Varış Tarihi'] + ' ' + dataframe[key]['Olay Yeri Varış Saati'], format= 'mixed', errors= 'coerce')\n",
        "    if 'Olay Yeri Ayrılış Tarih Saat' not in dataframe[key].columns:\n",
        "      print(f\"Starting to process\\n|\\n|\\n| {key} Olay Yeri Ayrılış Tarih Saat\")\n",
        "      dataframe[key]['Olay Yeri Ayrılış Tarihi']= dataframe[key]['Olay Yeri Ayrılış Tarihi'].apply(lambda x: x.split(' ')[0] if isinstance(x, str) else pd.NaT)\n",
        "      dataframe[key][\"Olay Yeri Ayrılış Tarih Saat\"]= pd.to_datetime(dataframe[key]['Olay Yeri Ayrılış Tarihi'] + ' ' + dataframe[key]['Olay Yeri Ayrılış Saati'], format= 'mixed', errors= 'coerce')\n",
        "    if 'Hastaneye Varış Tarih Saat' not in dataframe[key].columns:\n",
        "      print(f\"Starting to process\\n|\\n|\\n| {key} Hastaneye Varış Tarih Saat\")\n",
        "      dataframe[key]['Hastaneye Varış Tarihi']= dataframe[key]['Hastaneye Varış Tarihi'].apply(lambda x: x.split(' ')[0] if isinstance(x, str) else pd.NaT)\n",
        "      dataframe[key][\"Hastaneye varış Tarih Saat\"]= pd.to_datetime(dataframe[key]['Hastaneye Varış Tarihi'] + ' ' + dataframe[key]['Hastaneye Varış Saati\\n'], format= 'mixed', errors= 'coerce')\n",
        "    if 'Hastaneden Ayrılış Tarih Saat' not in dataframe[key].columns:\n",
        "      print(f\"Starting to process\\n|\\n|\\n| {key} Hastaneden Ayrılış Tarih Saat\")\n",
        "      dataframe[key]['Hastaneden Ayrılış Tarihi']= dataframe[key]['Hastaneden Ayrılış Tarihi'].apply(lambda x: x.split(' ')[0] if isinstance(x, str) else pd.NaT)\n",
        "      dataframe[key][\"Hastaneden Ayrılış Tarih Saat\"]= pd.to_datetime(dataframe[key]['Hastaneden Ayrılış Tarihi'] + ' ' + dataframe[key]['Hastaneden Ayrılış Saati'], format= 'mixed', errors= 'coerce')\n"
      ]
    },
    {
      "cell_type": "code",
      "execution_count": null,
      "metadata": {
        "id": "KyOOgVYE_Axu"
      },
      "outputs": [],
      "source": [
        "necessary_columns"
      ]
    },
    {
      "cell_type": "code",
      "execution_count": null,
      "metadata": {
        "id": "8RYjT8SKJNTC"
      },
      "outputs": [],
      "source": [
        "for dataframe in all_datas:\n",
        "  for key in dataframe.keys():\n",
        "    for col in necessary_columns:\n",
        "      if col not in dataframe[key].columns:\n",
        "        print(f\"{col} not in {key}\")\n"
      ]
    },
    {
      "cell_type": "code",
      "execution_count": null,
      "metadata": {
        "id": "ooOH3aSUJ9nw"
      },
      "outputs": [],
      "source": []
    },
    {
      "cell_type": "code",
      "execution_count": null,
      "metadata": {
        "id": "ZclQL0ZiJ9qM"
      },
      "outputs": [],
      "source": [
        "for dataframe in all_datas:\n",
        "  for key in dataframe.keys():\n",
        "    if \"Hastaneye Varış Tarih Saat\" not in dataframe[key].columns:\n",
        "      print(f\"Starting to process\\n|\\n|\\n| {key} Hastaneye Varış Tarih Saat\")\n",
        "      dataframe[key].rename(columns={'Hastaneye varış Tarih Saat':'Hastaneye Varış Tarih Saat'}, inplace=True)"
      ]
    },
    {
      "cell_type": "code",
      "execution_count": null,
      "metadata": {
        "id": "i1-D1585JcxE"
      },
      "outputs": [],
      "source": [
        "dataframes_2024_2025['3- MART 2025 AVR ASOS TANI DÖNÜŞTÜRÜLMÜŞ DEFTER']['Hastaneye Varış Tarih Saat'].isna().sum()"
      ]
    },
    {
      "cell_type": "code",
      "execution_count": null,
      "metadata": {
        "id": "fuya8mU_KOZg"
      },
      "outputs": [],
      "source": [
        "dataframes_2024_2025['3- MART 2025 AVR ASOS TANI DÖNÜŞTÜRÜLMÜŞ DEFTER']['Hastaneye Varış Tarihi'].replace('nan', pd.NA).isna().sum()"
      ]
    },
    {
      "cell_type": "code",
      "execution_count": null,
      "metadata": {
        "id": "dVeLMpQ8KYxT"
      },
      "outputs": [],
      "source": [
        "dataframes_2022_2023['1-OCAK 2023 7 KALEM MAHALLE DEFTER AVRUPA']['Hastaneye Varış Tarih Saat'].isna().sum()"
      ]
    },
    {
      "cell_type": "code",
      "execution_count": null,
      "metadata": {
        "id": "R6sKfLTmKmGk"
      },
      "outputs": [],
      "source": [
        "dataframes_2022_2023['1-OCAK 2023 7 KALEM MAHALLE DEFTER AVRUPA']['Hastaneye Varış Tarihi'].replace('nan', pd.NA).isna().sum()"
      ]
    },
    {
      "cell_type": "code",
      "execution_count": null,
      "metadata": {
        "id": "BMMM00UCKwbv"
      },
      "outputs": [],
      "source": [
        "df= pd.DataFrame()"
      ]
    },
    {
      "cell_type": "code",
      "execution_count": null,
      "metadata": {
        "id": "lUwT-kZHVzwV"
      },
      "outputs": [],
      "source": []
    },
    {
      "cell_type": "code",
      "execution_count": null,
      "metadata": {
        "id": "MDXGADs6VYz0"
      },
      "outputs": [],
      "source": [
        "dataframes_2024_2025['4-NİSAN 2025 AVR ASOS TANI DÖNÜŞTÜRÜLMÜŞ DEFTER'][çıkı]"
      ]
    },
    {
      "cell_type": "code",
      "execution_count": null,
      "metadata": {
        "id": "ZQ_jAuiyVApn"
      },
      "outputs": [],
      "source": [
        "for dataframe in all_datas:\n",
        "  for key in dataframe.keys():\n",
        "    if \"Çıkış KM\" not in dataframe[key].columns:\n",
        "      dataframe[key].rename(columns={'Çıkış Km':'Çıkış KM'}, inplace=True)\n",
        "    if \"Varış KM\" not in dataframe[key].columns:\n",
        "      dataframe[key].rename(columns={'Varış Km':'Varış KM'}, inplace=True)\n",
        "    if \"Hastaneye Varış KM\" not in dataframe[key].columns:\n",
        "      dataframe[key].rename(columns={'Hastaneye Varış Km':'Hastaneye Varış KM'}, inplace=True)"
      ]
    },
    {
      "cell_type": "code",
      "execution_count": null,
      "metadata": {
        "id": "6YZb0Wk1VNyp"
      },
      "outputs": [],
      "source": [
        "for dataframe in all_datas:\n",
        "  for key in dataframe.keys():\n",
        "    for col in necessary_columns:\n",
        "      if col not in dataframe[key].columns:\n",
        "        dataframe[key][col]= pd.NA"
      ]
    },
    {
      "cell_type": "code",
      "execution_count": null,
      "metadata": {
        "id": "YU91tmAtZxB-"
      },
      "outputs": [],
      "source": [
        "work_files_save_path= r\"C:\\Users\\mkaya\\OneDrive\\Masaüstü\\istanbul112_hidden\\data\\case_reports\\europe\\parquet_files\\work_files\\\\\""
      ]
    },
    {
      "cell_type": "code",
      "execution_count": null,
      "metadata": {
        "id": "wdQfh-6cVKgT"
      },
      "outputs": [],
      "source": [
        "for dataframe in all_datas:\n",
        "  for key in dataframe.keys():\n",
        "    dataframe[key][necessary_columns].to_parquet(work_files_save_path + key + \".parquet\")"
      ]
    },
    {
      "cell_type": "code",
      "execution_count": null,
      "metadata": {
        "id": "jr86EZ8UYKM6"
      },
      "outputs": [],
      "source": [
        "dataframes_2020_2021['2020 YILI OCAK-HAZİRAN AYLARI DEFTER'][necessary_columns]"
      ]
    },
    {
      "cell_type": "code",
      "execution_count": null,
      "metadata": {
        "id": "MX7MfZnoaL1O"
      },
      "outputs": [],
      "source": [
        "import pandas as pd\n",
        "import numpy as np\n",
        "import matplotlib.pyplot as plt\n",
        "import seaborn as sns\n",
        "\n",
        "import datetime as dt\n",
        "import os\n",
        "from concurrent.futures import ThreadPoolExecutor"
      ]
    },
    {
      "cell_type": "code",
      "execution_count": null,
      "metadata": {
        "id": "4-Bivtzs5saN"
      },
      "outputs": [],
      "source": []
    }
  ],
  "metadata": {
    "colab": {
      "private_outputs": true,
      "provenance": []
    },
    "kernelspec": {
      "display_name": "base",
      "language": "python",
      "name": "python3"
    },
    "language_info": {
      "codemirror_mode": {
        "name": "ipython",
        "version": 3
      },
      "file_extension": ".py",
      "mimetype": "text/x-python",
      "name": "python",
      "nbconvert_exporter": "python",
      "pygments_lexer": "ipython3",
      "version": "3.12.3"
    }
  },
  "nbformat": 4,
  "nbformat_minor": 0
}
